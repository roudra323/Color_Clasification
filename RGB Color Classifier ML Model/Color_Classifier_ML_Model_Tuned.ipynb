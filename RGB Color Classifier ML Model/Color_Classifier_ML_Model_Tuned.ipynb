{
  "cells": [
    {
      "cell_type": "markdown",
      "metadata": {
        "colab_type": "text",
        "id": "gkV_k4u56Tzp"
      },
      "source": [
        "# Importing Libraries"
      ]
    },
    {
      "cell_type": "code",
      "execution_count": null,
      "metadata": {
        "colab": {
          "base_uri": "https://localhost:8080/",
          "height": 51
        },
        "colab_type": "code",
        "id": "MhCFJ4JP5ESj",
        "outputId": "10d070fa-3e3d-424c-85c3-07a16c96225d"
      },
      "outputs": [
        {
          "name": "stderr",
          "output_type": "stream",
          "text": [
            "/usr/local/lib/python3.6/dist-packages/statsmodels/tools/_testing.py:19: FutureWarning: pandas.util.testing is deprecated. Use the functions in the public API at pandas.testing instead.\n",
            "  import pandas.util.testing as tm\n"
          ]
        }
      ],
      "source": [
        "import numpy as np\n",
        "import pandas as pd\n",
        "import seaborn as sns\n",
        "import pathlib\n",
        "import matplotlib.pyplot as plt"
      ]
    },
    {
      "cell_type": "code",
      "execution_count": null,
      "metadata": {
        "colab": {
          "base_uri": "https://localhost:8080/",
          "height": 34
        },
        "colab_type": "code",
        "id": "AnzkOJjw6kjd",
        "outputId": "1b2ac873-4a07-449f-b72b-6d9f2a073a53"
      },
      "outputs": [
        {
          "name": "stdout",
          "output_type": "stream",
          "text": [
            "2.3.0\n"
          ]
        }
      ],
      "source": [
        "# Importing Tensorflow\n",
        "import tensorflow as tf\n",
        "\n",
        "from tensorflow import keras\n",
        "from tensorflow.keras import layers\n",
        "\n",
        "print(tf.__version__)"
      ]
    },
    {
      "cell_type": "code",
      "execution_count": null,
      "metadata": {
        "colab": {
          "base_uri": "https://localhost:8080/",
          "height": 309
        },
        "colab_type": "code",
        "id": "-lvbXbtc62Pz",
        "outputId": "7ff2d521-479c-4251-f47d-887d2f4602ce"
      },
      "outputs": [
        {
          "name": "stdout",
          "output_type": "stream",
          "text": [
            "Collecting git+https://github.com/tensorflow/docs\n",
            "  Cloning https://github.com/tensorflow/docs to /tmp/pip-req-build-5_gf03hd\n",
            "  Running command git clone -q https://github.com/tensorflow/docs /tmp/pip-req-build-5_gf03hd\n",
            "Requirement already satisfied: astor in /usr/local/lib/python3.6/dist-packages (from tensorflow-docs===0.0.09727d0fbd24b31942ca26f21ba4045326c318baa-) (0.8.1)\n",
            "Requirement already satisfied: absl-py in /usr/local/lib/python3.6/dist-packages (from tensorflow-docs===0.0.09727d0fbd24b31942ca26f21ba4045326c318baa-) (0.8.1)\n",
            "Requirement already satisfied: protobuf in /usr/local/lib/python3.6/dist-packages (from tensorflow-docs===0.0.09727d0fbd24b31942ca26f21ba4045326c318baa-) (3.12.4)\n",
            "Requirement already satisfied: pyyaml in /usr/local/lib/python3.6/dist-packages (from tensorflow-docs===0.0.09727d0fbd24b31942ca26f21ba4045326c318baa-) (3.13)\n",
            "Requirement already satisfied: six in /usr/local/lib/python3.6/dist-packages (from absl-py->tensorflow-docs===0.0.09727d0fbd24b31942ca26f21ba4045326c318baa-) (1.15.0)\n",
            "Requirement already satisfied: setuptools in /usr/local/lib/python3.6/dist-packages (from protobuf->tensorflow-docs===0.0.09727d0fbd24b31942ca26f21ba4045326c318baa-) (49.6.0)\n",
            "Building wheels for collected packages: tensorflow-docs\n",
            "  Building wheel for tensorflow-docs (setup.py) ... \u001b[?25l\u001b[?25hdone\n",
            "  Created wheel for tensorflow-docs: filename=tensorflow_docs-0.0.09727d0fbd24b31942ca26f21ba4045326c318baa_-cp36-none-any.whl size=141477 sha256=cd9ac3e2c7bb4eb1b71ab4f691cfe88fce40eff8f4dc1dedf789228130b98ba3\n",
            "  Stored in directory: /tmp/pip-ephem-wheel-cache-2u2cv8io/wheels/eb/1b/35/fce87697be00d2fc63e0b4b395b0d9c7e391a10e98d9a0d97f\n",
            "Successfully built tensorflow-docs\n",
            "Installing collected packages: tensorflow-docs\n",
            "Successfully installed tensorflow-docs-0.0.09727d0fbd24b31942ca26f21ba4045326c318baa-\n"
          ]
        }
      ],
      "source": [
        "!pip install git+https://github.com/tensorflow/docs # Use some functions from tensorflow_docs"
      ]
    },
    {
      "cell_type": "code",
      "execution_count": null,
      "metadata": {
        "colab": {},
        "colab_type": "code",
        "id": "sTkUcVPX67ZO"
      },
      "outputs": [],
      "source": [
        "import tensorflow_docs as tfdocs\n",
        "import tensorflow_docs.plots\n",
        "import tensorflow_docs.modeling"
      ]
    },
    {
      "cell_type": "code",
      "execution_count": null,
      "metadata": {
        "colab": {
          "base_uri": "https://localhost:8080/",
          "height": 68
        },
        "colab_type": "code",
        "id": "IEHMTfp95ITI",
        "outputId": "326cbfe3-4444-4747-9140-d59829985c03"
      },
      "outputs": [
        {
          "name": "stdout",
          "output_type": "stream",
          "text": [
            "Requirement already satisfied: plotly in /usr/local/lib/python3.6/dist-packages (4.4.1)\n",
            "Requirement already satisfied: six in /usr/local/lib/python3.6/dist-packages (from plotly) (1.15.0)\n",
            "Requirement already satisfied: retrying>=1.3.3 in /usr/local/lib/python3.6/dist-packages (from plotly) (1.3.3)\n"
          ]
        }
      ],
      "source": [
        "#plotly used for plotting Interactive Graphs\n",
        "!pip install plotly\n",
        "import plotly.offline as py\n",
        "import plotly.express as px\n",
        "import plotly.graph_objs as go"
      ]
    },
    {
      "cell_type": "markdown",
      "metadata": {
        "colab_type": "text",
        "id": "f17SxDZ_8KQG"
      },
      "source": [
        "# Loading Dataset"
      ]
    },
    {
      "cell_type": "markdown",
      "metadata": {
        "colab_type": "text",
        "id": "NR2bXYSVuZpv"
      },
      "source": [
        "Don't forget to load dataset `'final_data.csv'` in Colab or your working directory in Jupyter!\n",
        "\n",
        "The dataset can be downloaded from this [link](https://raw.githubusercontent.com/AjinkyaChavan9/RGB-Color-Classifier-with-Deep-Learning-using-Keras-and-Tensorflow/master/Dataset/final_data.csv)  and Right Click to Select **Save As** option in order to download"
      ]
    },
    {
      "cell_type": "code",
      "execution_count": null,
      "metadata": {
        "colab": {
          "base_uri": "https://localhost:8080/",
          "height": 419
        },
        "colab_type": "code",
        "id": "eECtLI2K7CIc",
        "outputId": "e0ac116a-9021-4496-a823-48d6a906f6b0"
      },
      "outputs": [
        {
          "data": {
            "text/html": [
              "<div>\n",
              "<style scoped>\n",
              "    .dataframe tbody tr th:only-of-type {\n",
              "        vertical-align: middle;\n",
              "    }\n",
              "\n",
              "    .dataframe tbody tr th {\n",
              "        vertical-align: top;\n",
              "    }\n",
              "\n",
              "    .dataframe thead th {\n",
              "        text-align: right;\n",
              "    }\n",
              "</style>\n",
              "<table border=\"1\" class=\"dataframe\">\n",
              "  <thead>\n",
              "    <tr style=\"text-align: right;\">\n",
              "      <th></th>\n",
              "      <th>red</th>\n",
              "      <th>green</th>\n",
              "      <th>blue</th>\n",
              "      <th>label</th>\n",
              "    </tr>\n",
              "  </thead>\n",
              "  <tbody>\n",
              "    <tr>\n",
              "      <th>0</th>\n",
              "      <td>20</td>\n",
              "      <td>139</td>\n",
              "      <td>240</td>\n",
              "      <td>Blue</td>\n",
              "    </tr>\n",
              "    <tr>\n",
              "      <th>1</th>\n",
              "      <td>174</td>\n",
              "      <td>83</td>\n",
              "      <td>72</td>\n",
              "      <td>Brown</td>\n",
              "    </tr>\n",
              "    <tr>\n",
              "      <th>2</th>\n",
              "      <td>144</td>\n",
              "      <td>249</td>\n",
              "      <td>131</td>\n",
              "      <td>Green</td>\n",
              "    </tr>\n",
              "    <tr>\n",
              "      <th>3</th>\n",
              "      <td>168</td>\n",
              "      <td>25</td>\n",
              "      <td>156</td>\n",
              "      <td>Pink</td>\n",
              "    </tr>\n",
              "    <tr>\n",
              "      <th>4</th>\n",
              "      <td>30</td>\n",
              "      <td>182</td>\n",
              "      <td>136</td>\n",
              "      <td>Green</td>\n",
              "    </tr>\n",
              "    <tr>\n",
              "      <th>...</th>\n",
              "      <td>...</td>\n",
              "      <td>...</td>\n",
              "      <td>...</td>\n",
              "      <td>...</td>\n",
              "    </tr>\n",
              "    <tr>\n",
              "      <th>5047</th>\n",
              "      <td>26</td>\n",
              "      <td>26</td>\n",
              "      <td>26</td>\n",
              "      <td>Black</td>\n",
              "    </tr>\n",
              "    <tr>\n",
              "      <th>5048</th>\n",
              "      <td>27</td>\n",
              "      <td>27</td>\n",
              "      <td>27</td>\n",
              "      <td>Black</td>\n",
              "    </tr>\n",
              "    <tr>\n",
              "      <th>5049</th>\n",
              "      <td>28</td>\n",
              "      <td>28</td>\n",
              "      <td>28</td>\n",
              "      <td>Black</td>\n",
              "    </tr>\n",
              "    <tr>\n",
              "      <th>5050</th>\n",
              "      <td>29</td>\n",
              "      <td>29</td>\n",
              "      <td>29</td>\n",
              "      <td>Black</td>\n",
              "    </tr>\n",
              "    <tr>\n",
              "      <th>5051</th>\n",
              "      <td>30</td>\n",
              "      <td>30</td>\n",
              "      <td>30</td>\n",
              "      <td>Black</td>\n",
              "    </tr>\n",
              "  </tbody>\n",
              "</table>\n",
              "<p>5052 rows × 4 columns</p>\n",
              "</div>"
            ],
            "text/plain": [
              "      red  green  blue  label\n",
              "0      20    139   240   Blue\n",
              "1     174     83    72  Brown\n",
              "2     144    249   131  Green\n",
              "3     168     25   156   Pink\n",
              "4      30    182   136  Green\n",
              "...   ...    ...   ...    ...\n",
              "5047   26     26    26  Black\n",
              "5048   27     27    27  Black\n",
              "5049   28     28    28  Black\n",
              "5050   29     29    29  Black\n",
              "5051   30     30    30  Black\n",
              "\n",
              "[5052 rows x 4 columns]"
            ]
          },
          "execution_count": 6,
          "metadata": {
            "tags": []
          },
          "output_type": "execute_result"
        }
      ],
      "source": [
        "dataset = pd.read_csv('final_data.csv')\n",
        "dataset"
      ]
    },
    {
      "cell_type": "code",
      "execution_count": null,
      "metadata": {
        "colab": {
          "base_uri": "https://localhost:8080/",
          "height": 297
        },
        "colab_type": "code",
        "id": "3b3_1z3FAwLb",
        "outputId": "14174165-bc06-4033-ca3a-66c6b8b52655"
      },
      "outputs": [
        {
          "data": {
            "text/html": [
              "<div>\n",
              "<style scoped>\n",
              "    .dataframe tbody tr th:only-of-type {\n",
              "        vertical-align: middle;\n",
              "    }\n",
              "\n",
              "    .dataframe tbody tr th {\n",
              "        vertical-align: top;\n",
              "    }\n",
              "\n",
              "    .dataframe thead th {\n",
              "        text-align: right;\n",
              "    }\n",
              "</style>\n",
              "<table border=\"1\" class=\"dataframe\">\n",
              "  <thead>\n",
              "    <tr style=\"text-align: right;\">\n",
              "      <th></th>\n",
              "      <th>red</th>\n",
              "      <th>green</th>\n",
              "      <th>blue</th>\n",
              "    </tr>\n",
              "  </thead>\n",
              "  <tbody>\n",
              "    <tr>\n",
              "      <th>count</th>\n",
              "      <td>5052.000000</td>\n",
              "      <td>5052.000000</td>\n",
              "      <td>5052.000000</td>\n",
              "    </tr>\n",
              "    <tr>\n",
              "      <th>mean</th>\n",
              "      <td>127.416073</td>\n",
              "      <td>126.316310</td>\n",
              "      <td>128.296912</td>\n",
              "    </tr>\n",
              "    <tr>\n",
              "      <th>std</th>\n",
              "      <td>73.958449</td>\n",
              "      <td>74.927131</td>\n",
              "      <td>74.174008</td>\n",
              "    </tr>\n",
              "    <tr>\n",
              "      <th>min</th>\n",
              "      <td>0.000000</td>\n",
              "      <td>0.000000</td>\n",
              "      <td>0.000000</td>\n",
              "    </tr>\n",
              "    <tr>\n",
              "      <th>25%</th>\n",
              "      <td>63.000000</td>\n",
              "      <td>60.000000</td>\n",
              "      <td>63.000000</td>\n",
              "    </tr>\n",
              "    <tr>\n",
              "      <th>50%</th>\n",
              "      <td>128.000000</td>\n",
              "      <td>127.000000</td>\n",
              "      <td>130.000000</td>\n",
              "    </tr>\n",
              "    <tr>\n",
              "      <th>75%</th>\n",
              "      <td>191.000000</td>\n",
              "      <td>192.000000</td>\n",
              "      <td>192.000000</td>\n",
              "    </tr>\n",
              "    <tr>\n",
              "      <th>max</th>\n",
              "      <td>255.000000</td>\n",
              "      <td>255.000000</td>\n",
              "      <td>255.000000</td>\n",
              "    </tr>\n",
              "  </tbody>\n",
              "</table>\n",
              "</div>"
            ],
            "text/plain": [
              "               red        green         blue\n",
              "count  5052.000000  5052.000000  5052.000000\n",
              "mean    127.416073   126.316310   128.296912\n",
              "std      73.958449    74.927131    74.174008\n",
              "min       0.000000     0.000000     0.000000\n",
              "25%      63.000000    60.000000    63.000000\n",
              "50%     128.000000   127.000000   130.000000\n",
              "75%     191.000000   192.000000   192.000000\n",
              "max     255.000000   255.000000   255.000000"
            ]
          },
          "execution_count": 7,
          "metadata": {
            "tags": []
          },
          "output_type": "execute_result"
        }
      ],
      "source": [
        "dataset.describe()"
      ]
    },
    {
      "cell_type": "code",
      "execution_count": null,
      "metadata": {
        "colab": {
          "base_uri": "https://localhost:8080/",
          "height": 204
        },
        "colab_type": "code",
        "id": "5jqc-bLaA8bL",
        "outputId": "14479fdb-f87d-4054-c5f1-fee16ab88390"
      },
      "outputs": [
        {
          "name": "stdout",
          "output_type": "stream",
          "text": [
            "<class 'pandas.core.frame.DataFrame'>\n",
            "RangeIndex: 5052 entries, 0 to 5051\n",
            "Data columns (total 4 columns):\n",
            " #   Column  Non-Null Count  Dtype \n",
            "---  ------  --------------  ----- \n",
            " 0   red     5052 non-null   int64 \n",
            " 1   green   5052 non-null   int64 \n",
            " 2   blue    5052 non-null   int64 \n",
            " 3   label   5052 non-null   object\n",
            "dtypes: int64(3), object(1)\n",
            "memory usage: 158.0+ KB\n"
          ]
        }
      ],
      "source": [
        "dataset.info()"
      ]
    },
    {
      "cell_type": "markdown",
      "metadata": {
        "colab_type": "text",
        "id": "1VgFqoDWBq67"
      },
      "source": [
        "# Pre Process, Clean the Data"
      ]
    },
    {
      "cell_type": "markdown",
      "metadata": {
        "colab_type": "text",
        "id": "J8Ou4yvmB0Wt"
      },
      "source": [
        "## Eliminate Null if it exists"
      ]
    },
    {
      "cell_type": "code",
      "execution_count": null,
      "metadata": {
        "colab": {
          "base_uri": "https://localhost:8080/",
          "height": 102
        },
        "colab_type": "code",
        "id": "ws6WKP8HBGJi",
        "outputId": "41c4f365-5160-4bb1-b424-4143266965d2"
      },
      "outputs": [
        {
          "data": {
            "text/plain": [
              "red      0\n",
              "green    0\n",
              "blue     0\n",
              "label    0\n",
              "dtype: int64"
            ]
          },
          "execution_count": 9,
          "metadata": {
            "tags": []
          },
          "output_type": "execute_result"
        }
      ],
      "source": [
        "#To find whether null entries are present \n",
        "dataset.isnull().sum()"
      ]
    },
    {
      "cell_type": "markdown",
      "metadata": {
        "colab_type": "text",
        "id": "7d0lNSvsCGz9"
      },
      "source": [
        "## Converting Categorical Data of 'label` into Numerical"
      ]
    },
    {
      "cell_type": "code",
      "execution_count": null,
      "metadata": {
        "colab": {
          "base_uri": "https://localhost:8080/",
          "height": 51
        },
        "colab_type": "code",
        "id": "ZQKMfhMYClxE",
        "outputId": "a0e7c9ae-ffcb-4bf5-c9cd-c4c4fa7a5fd7"
      },
      "outputs": [
        {
          "data": {
            "text/plain": [
              "array(['Blue', 'Brown', 'Green', 'Pink', 'Yellow', 'Orange', 'Purple',\n",
              "       'Red', 'Grey', 'White', 'Black'], dtype=object)"
            ]
          },
          "execution_count": 10,
          "metadata": {
            "tags": []
          },
          "output_type": "execute_result"
        }
      ],
      "source": [
        "dataset.label.unique()"
      ]
    },
    {
      "cell_type": "code",
      "execution_count": null,
      "metadata": {
        "colab": {
          "base_uri": "https://localhost:8080/",
          "height": 419
        },
        "colab_type": "code",
        "id": "WeSHiHsSCUTV",
        "outputId": "c9a02944-07e5-490d-996b-a5046c2f1dd7"
      },
      "outputs": [
        {
          "data": {
            "text/html": [
              "<div>\n",
              "<style scoped>\n",
              "    .dataframe tbody tr th:only-of-type {\n",
              "        vertical-align: middle;\n",
              "    }\n",
              "\n",
              "    .dataframe tbody tr th {\n",
              "        vertical-align: top;\n",
              "    }\n",
              "\n",
              "    .dataframe thead th {\n",
              "        text-align: right;\n",
              "    }\n",
              "</style>\n",
              "<table border=\"1\" class=\"dataframe\">\n",
              "  <thead>\n",
              "    <tr style=\"text-align: right;\">\n",
              "      <th></th>\n",
              "      <th>red</th>\n",
              "      <th>green</th>\n",
              "      <th>blue</th>\n",
              "      <th>label_Black</th>\n",
              "      <th>label_Blue</th>\n",
              "      <th>label_Brown</th>\n",
              "      <th>label_Green</th>\n",
              "      <th>label_Grey</th>\n",
              "      <th>label_Orange</th>\n",
              "      <th>label_Pink</th>\n",
              "      <th>label_Purple</th>\n",
              "      <th>label_Red</th>\n",
              "      <th>label_White</th>\n",
              "      <th>label_Yellow</th>\n",
              "    </tr>\n",
              "  </thead>\n",
              "  <tbody>\n",
              "    <tr>\n",
              "      <th>0</th>\n",
              "      <td>20</td>\n",
              "      <td>139</td>\n",
              "      <td>240</td>\n",
              "      <td>0</td>\n",
              "      <td>1</td>\n",
              "      <td>0</td>\n",
              "      <td>0</td>\n",
              "      <td>0</td>\n",
              "      <td>0</td>\n",
              "      <td>0</td>\n",
              "      <td>0</td>\n",
              "      <td>0</td>\n",
              "      <td>0</td>\n",
              "      <td>0</td>\n",
              "    </tr>\n",
              "    <tr>\n",
              "      <th>1</th>\n",
              "      <td>174</td>\n",
              "      <td>83</td>\n",
              "      <td>72</td>\n",
              "      <td>0</td>\n",
              "      <td>0</td>\n",
              "      <td>1</td>\n",
              "      <td>0</td>\n",
              "      <td>0</td>\n",
              "      <td>0</td>\n",
              "      <td>0</td>\n",
              "      <td>0</td>\n",
              "      <td>0</td>\n",
              "      <td>0</td>\n",
              "      <td>0</td>\n",
              "    </tr>\n",
              "    <tr>\n",
              "      <th>2</th>\n",
              "      <td>144</td>\n",
              "      <td>249</td>\n",
              "      <td>131</td>\n",
              "      <td>0</td>\n",
              "      <td>0</td>\n",
              "      <td>0</td>\n",
              "      <td>1</td>\n",
              "      <td>0</td>\n",
              "      <td>0</td>\n",
              "      <td>0</td>\n",
              "      <td>0</td>\n",
              "      <td>0</td>\n",
              "      <td>0</td>\n",
              "      <td>0</td>\n",
              "    </tr>\n",
              "    <tr>\n",
              "      <th>3</th>\n",
              "      <td>168</td>\n",
              "      <td>25</td>\n",
              "      <td>156</td>\n",
              "      <td>0</td>\n",
              "      <td>0</td>\n",
              "      <td>0</td>\n",
              "      <td>0</td>\n",
              "      <td>0</td>\n",
              "      <td>0</td>\n",
              "      <td>1</td>\n",
              "      <td>0</td>\n",
              "      <td>0</td>\n",
              "      <td>0</td>\n",
              "      <td>0</td>\n",
              "    </tr>\n",
              "    <tr>\n",
              "      <th>4</th>\n",
              "      <td>30</td>\n",
              "      <td>182</td>\n",
              "      <td>136</td>\n",
              "      <td>0</td>\n",
              "      <td>0</td>\n",
              "      <td>0</td>\n",
              "      <td>1</td>\n",
              "      <td>0</td>\n",
              "      <td>0</td>\n",
              "      <td>0</td>\n",
              "      <td>0</td>\n",
              "      <td>0</td>\n",
              "      <td>0</td>\n",
              "      <td>0</td>\n",
              "    </tr>\n",
              "    <tr>\n",
              "      <th>...</th>\n",
              "      <td>...</td>\n",
              "      <td>...</td>\n",
              "      <td>...</td>\n",
              "      <td>...</td>\n",
              "      <td>...</td>\n",
              "      <td>...</td>\n",
              "      <td>...</td>\n",
              "      <td>...</td>\n",
              "      <td>...</td>\n",
              "      <td>...</td>\n",
              "      <td>...</td>\n",
              "      <td>...</td>\n",
              "      <td>...</td>\n",
              "      <td>...</td>\n",
              "    </tr>\n",
              "    <tr>\n",
              "      <th>5047</th>\n",
              "      <td>26</td>\n",
              "      <td>26</td>\n",
              "      <td>26</td>\n",
              "      <td>1</td>\n",
              "      <td>0</td>\n",
              "      <td>0</td>\n",
              "      <td>0</td>\n",
              "      <td>0</td>\n",
              "      <td>0</td>\n",
              "      <td>0</td>\n",
              "      <td>0</td>\n",
              "      <td>0</td>\n",
              "      <td>0</td>\n",
              "      <td>0</td>\n",
              "    </tr>\n",
              "    <tr>\n",
              "      <th>5048</th>\n",
              "      <td>27</td>\n",
              "      <td>27</td>\n",
              "      <td>27</td>\n",
              "      <td>1</td>\n",
              "      <td>0</td>\n",
              "      <td>0</td>\n",
              "      <td>0</td>\n",
              "      <td>0</td>\n",
              "      <td>0</td>\n",
              "      <td>0</td>\n",
              "      <td>0</td>\n",
              "      <td>0</td>\n",
              "      <td>0</td>\n",
              "      <td>0</td>\n",
              "    </tr>\n",
              "    <tr>\n",
              "      <th>5049</th>\n",
              "      <td>28</td>\n",
              "      <td>28</td>\n",
              "      <td>28</td>\n",
              "      <td>1</td>\n",
              "      <td>0</td>\n",
              "      <td>0</td>\n",
              "      <td>0</td>\n",
              "      <td>0</td>\n",
              "      <td>0</td>\n",
              "      <td>0</td>\n",
              "      <td>0</td>\n",
              "      <td>0</td>\n",
              "      <td>0</td>\n",
              "      <td>0</td>\n",
              "    </tr>\n",
              "    <tr>\n",
              "      <th>5050</th>\n",
              "      <td>29</td>\n",
              "      <td>29</td>\n",
              "      <td>29</td>\n",
              "      <td>1</td>\n",
              "      <td>0</td>\n",
              "      <td>0</td>\n",
              "      <td>0</td>\n",
              "      <td>0</td>\n",
              "      <td>0</td>\n",
              "      <td>0</td>\n",
              "      <td>0</td>\n",
              "      <td>0</td>\n",
              "      <td>0</td>\n",
              "      <td>0</td>\n",
              "    </tr>\n",
              "    <tr>\n",
              "      <th>5051</th>\n",
              "      <td>30</td>\n",
              "      <td>30</td>\n",
              "      <td>30</td>\n",
              "      <td>1</td>\n",
              "      <td>0</td>\n",
              "      <td>0</td>\n",
              "      <td>0</td>\n",
              "      <td>0</td>\n",
              "      <td>0</td>\n",
              "      <td>0</td>\n",
              "      <td>0</td>\n",
              "      <td>0</td>\n",
              "      <td>0</td>\n",
              "      <td>0</td>\n",
              "    </tr>\n",
              "  </tbody>\n",
              "</table>\n",
              "<p>5052 rows × 14 columns</p>\n",
              "</div>"
            ],
            "text/plain": [
              "      red  green  blue  ...  label_Red  label_White  label_Yellow\n",
              "0      20    139   240  ...          0            0             0\n",
              "1     174     83    72  ...          0            0             0\n",
              "2     144    249   131  ...          0            0             0\n",
              "3     168     25   156  ...          0            0             0\n",
              "4      30    182   136  ...          0            0             0\n",
              "...   ...    ...   ...  ...        ...          ...           ...\n",
              "5047   26     26    26  ...          0            0             0\n",
              "5048   27     27    27  ...          0            0             0\n",
              "5049   28     28    28  ...          0            0             0\n",
              "5050   29     29    29  ...          0            0             0\n",
              "5051   30     30    30  ...          0            0             0\n",
              "\n",
              "[5052 rows x 14 columns]"
            ]
          },
          "execution_count": 11,
          "metadata": {
            "tags": []
          },
          "output_type": "execute_result"
        }
      ],
      "source": [
        "# detects the unique categories in the specified column and creates new columns for each category.\n",
        "# One-Hot-Encoding\n",
        "dataset = pd.get_dummies(dataset, columns=['label'])\n",
        "dataset"
      ]
    },
    {
      "cell_type": "markdown",
      "metadata": {
        "colab_type": "text",
        "id": "6gEmAfsZG5KQ"
      },
      "source": [
        "## Reorder"
      ]
    },
    {
      "cell_type": "code",
      "execution_count": null,
      "metadata": {
        "colab": {
          "base_uri": "https://localhost:8080/",
          "height": 85
        },
        "colab_type": "code",
        "id": "bFxU8uIJhpa9",
        "outputId": "9f024fe7-2090-47e7-e631-a76cef95e675"
      },
      "outputs": [
        {
          "data": {
            "text/plain": [
              "Index(['red', 'green', 'blue', 'label_Black', 'label_Blue', 'label_Brown',\n",
              "       'label_Green', 'label_Grey', 'label_Orange', 'label_Pink',\n",
              "       'label_Purple', 'label_Red', 'label_White', 'label_Yellow'],\n",
              "      dtype='object')"
            ]
          },
          "execution_count": 12,
          "metadata": {
            "tags": []
          },
          "output_type": "execute_result"
        }
      ],
      "source": [
        "dataset.columns"
      ]
    },
    {
      "cell_type": "code",
      "execution_count": null,
      "metadata": {
        "colab": {
          "base_uri": "https://localhost:8080/",
          "height": 419
        },
        "colab_type": "code",
        "id": "yCgvNc6aG-kI",
        "outputId": "dcc861ae-22e4-4da9-a76d-aa81704dced9"
      },
      "outputs": [
        {
          "data": {
            "text/html": [
              "<div>\n",
              "<style scoped>\n",
              "    .dataframe tbody tr th:only-of-type {\n",
              "        vertical-align: middle;\n",
              "    }\n",
              "\n",
              "    .dataframe tbody tr th {\n",
              "        vertical-align: top;\n",
              "    }\n",
              "\n",
              "    .dataframe thead th {\n",
              "        text-align: right;\n",
              "    }\n",
              "</style>\n",
              "<table border=\"1\" class=\"dataframe\">\n",
              "  <thead>\n",
              "    <tr style=\"text-align: right;\">\n",
              "      <th></th>\n",
              "      <th>red</th>\n",
              "      <th>green</th>\n",
              "      <th>blue</th>\n",
              "      <th>label_Red</th>\n",
              "      <th>label_Green</th>\n",
              "      <th>label_Blue</th>\n",
              "      <th>label_Yellow</th>\n",
              "      <th>label_Orange</th>\n",
              "      <th>label_Pink</th>\n",
              "      <th>label_Purple</th>\n",
              "      <th>label_Brown</th>\n",
              "      <th>label_Grey</th>\n",
              "      <th>label_Black</th>\n",
              "      <th>label_White</th>\n",
              "    </tr>\n",
              "  </thead>\n",
              "  <tbody>\n",
              "    <tr>\n",
              "      <th>0</th>\n",
              "      <td>20</td>\n",
              "      <td>139</td>\n",
              "      <td>240</td>\n",
              "      <td>0</td>\n",
              "      <td>0</td>\n",
              "      <td>1</td>\n",
              "      <td>0</td>\n",
              "      <td>0</td>\n",
              "      <td>0</td>\n",
              "      <td>0</td>\n",
              "      <td>0</td>\n",
              "      <td>0</td>\n",
              "      <td>0</td>\n",
              "      <td>0</td>\n",
              "    </tr>\n",
              "    <tr>\n",
              "      <th>1</th>\n",
              "      <td>174</td>\n",
              "      <td>83</td>\n",
              "      <td>72</td>\n",
              "      <td>0</td>\n",
              "      <td>0</td>\n",
              "      <td>0</td>\n",
              "      <td>0</td>\n",
              "      <td>0</td>\n",
              "      <td>0</td>\n",
              "      <td>0</td>\n",
              "      <td>1</td>\n",
              "      <td>0</td>\n",
              "      <td>0</td>\n",
              "      <td>0</td>\n",
              "    </tr>\n",
              "    <tr>\n",
              "      <th>2</th>\n",
              "      <td>144</td>\n",
              "      <td>249</td>\n",
              "      <td>131</td>\n",
              "      <td>0</td>\n",
              "      <td>1</td>\n",
              "      <td>0</td>\n",
              "      <td>0</td>\n",
              "      <td>0</td>\n",
              "      <td>0</td>\n",
              "      <td>0</td>\n",
              "      <td>0</td>\n",
              "      <td>0</td>\n",
              "      <td>0</td>\n",
              "      <td>0</td>\n",
              "    </tr>\n",
              "    <tr>\n",
              "      <th>3</th>\n",
              "      <td>168</td>\n",
              "      <td>25</td>\n",
              "      <td>156</td>\n",
              "      <td>0</td>\n",
              "      <td>0</td>\n",
              "      <td>0</td>\n",
              "      <td>0</td>\n",
              "      <td>0</td>\n",
              "      <td>1</td>\n",
              "      <td>0</td>\n",
              "      <td>0</td>\n",
              "      <td>0</td>\n",
              "      <td>0</td>\n",
              "      <td>0</td>\n",
              "    </tr>\n",
              "    <tr>\n",
              "      <th>4</th>\n",
              "      <td>30</td>\n",
              "      <td>182</td>\n",
              "      <td>136</td>\n",
              "      <td>0</td>\n",
              "      <td>1</td>\n",
              "      <td>0</td>\n",
              "      <td>0</td>\n",
              "      <td>0</td>\n",
              "      <td>0</td>\n",
              "      <td>0</td>\n",
              "      <td>0</td>\n",
              "      <td>0</td>\n",
              "      <td>0</td>\n",
              "      <td>0</td>\n",
              "    </tr>\n",
              "    <tr>\n",
              "      <th>...</th>\n",
              "      <td>...</td>\n",
              "      <td>...</td>\n",
              "      <td>...</td>\n",
              "      <td>...</td>\n",
              "      <td>...</td>\n",
              "      <td>...</td>\n",
              "      <td>...</td>\n",
              "      <td>...</td>\n",
              "      <td>...</td>\n",
              "      <td>...</td>\n",
              "      <td>...</td>\n",
              "      <td>...</td>\n",
              "      <td>...</td>\n",
              "      <td>...</td>\n",
              "    </tr>\n",
              "    <tr>\n",
              "      <th>5047</th>\n",
              "      <td>26</td>\n",
              "      <td>26</td>\n",
              "      <td>26</td>\n",
              "      <td>0</td>\n",
              "      <td>0</td>\n",
              "      <td>0</td>\n",
              "      <td>0</td>\n",
              "      <td>0</td>\n",
              "      <td>0</td>\n",
              "      <td>0</td>\n",
              "      <td>0</td>\n",
              "      <td>0</td>\n",
              "      <td>1</td>\n",
              "      <td>0</td>\n",
              "    </tr>\n",
              "    <tr>\n",
              "      <th>5048</th>\n",
              "      <td>27</td>\n",
              "      <td>27</td>\n",
              "      <td>27</td>\n",
              "      <td>0</td>\n",
              "      <td>0</td>\n",
              "      <td>0</td>\n",
              "      <td>0</td>\n",
              "      <td>0</td>\n",
              "      <td>0</td>\n",
              "      <td>0</td>\n",
              "      <td>0</td>\n",
              "      <td>0</td>\n",
              "      <td>1</td>\n",
              "      <td>0</td>\n",
              "    </tr>\n",
              "    <tr>\n",
              "      <th>5049</th>\n",
              "      <td>28</td>\n",
              "      <td>28</td>\n",
              "      <td>28</td>\n",
              "      <td>0</td>\n",
              "      <td>0</td>\n",
              "      <td>0</td>\n",
              "      <td>0</td>\n",
              "      <td>0</td>\n",
              "      <td>0</td>\n",
              "      <td>0</td>\n",
              "      <td>0</td>\n",
              "      <td>0</td>\n",
              "      <td>1</td>\n",
              "      <td>0</td>\n",
              "    </tr>\n",
              "    <tr>\n",
              "      <th>5050</th>\n",
              "      <td>29</td>\n",
              "      <td>29</td>\n",
              "      <td>29</td>\n",
              "      <td>0</td>\n",
              "      <td>0</td>\n",
              "      <td>0</td>\n",
              "      <td>0</td>\n",
              "      <td>0</td>\n",
              "      <td>0</td>\n",
              "      <td>0</td>\n",
              "      <td>0</td>\n",
              "      <td>0</td>\n",
              "      <td>1</td>\n",
              "      <td>0</td>\n",
              "    </tr>\n",
              "    <tr>\n",
              "      <th>5051</th>\n",
              "      <td>30</td>\n",
              "      <td>30</td>\n",
              "      <td>30</td>\n",
              "      <td>0</td>\n",
              "      <td>0</td>\n",
              "      <td>0</td>\n",
              "      <td>0</td>\n",
              "      <td>0</td>\n",
              "      <td>0</td>\n",
              "      <td>0</td>\n",
              "      <td>0</td>\n",
              "      <td>0</td>\n",
              "      <td>1</td>\n",
              "      <td>0</td>\n",
              "    </tr>\n",
              "  </tbody>\n",
              "</table>\n",
              "<p>5052 rows × 14 columns</p>\n",
              "</div>"
            ],
            "text/plain": [
              "      red  green  blue  ...  label_Grey  label_Black  label_White\n",
              "0      20    139   240  ...           0            0            0\n",
              "1     174     83    72  ...           0            0            0\n",
              "2     144    249   131  ...           0            0            0\n",
              "3     168     25   156  ...           0            0            0\n",
              "4      30    182   136  ...           0            0            0\n",
              "...   ...    ...   ...  ...         ...          ...          ...\n",
              "5047   26     26    26  ...           0            1            0\n",
              "5048   27     27    27  ...           0            1            0\n",
              "5049   28     28    28  ...           0            1            0\n",
              "5050   29     29    29  ...           0            1            0\n",
              "5051   30     30    30  ...           0            1            0\n",
              "\n",
              "[5052 rows x 14 columns]"
            ]
          },
          "execution_count": 13,
          "metadata": {
            "tags": []
          },
          "output_type": "execute_result"
        }
      ],
      "source": [
        "#  Column Selection and Reordering\n",
        "dataset = dataset[['red', 'green', 'blue', 'label_Red', 'label_Green', 'label_Blue', 'label_Yellow', 'label_Orange', 'label_Pink', 'label_Purple', 'label_Brown', 'label_Grey', 'label_Black', 'label_White']]\n",
        "dataset"
      ]
    },
    {
      "cell_type": "markdown",
      "metadata": {
        "colab_type": "text",
        "id": "cvdxg7-rJDG9"
      },
      "source": [
        "# Data Correlation"
      ]
    },
    {
      "cell_type": "code",
      "execution_count": null,
      "metadata": {
        "colab": {
          "base_uri": "https://localhost:8080/",
          "height": 658
        },
        "colab_type": "code",
        "id": "4_VA4nqUJGQ7",
        "outputId": "b73a44d5-d0c7-468d-d7fb-5b5c2b79cc24"
      },
      "outputs": [
        {
          "data": {
            "image/png": "[encoded data removed]",
            "text/plain": [
              "<Figure size 1080x648 with 2 Axes>"
            ]
          },
          "metadata": {
            "needs_background": "light",
            "tags": []
          },
          "output_type": "display_data"
        }
      ],
      "source": [
        "# Correlation Matrix Heatmap\n",
        "f, ax = plt.subplots(figsize=(15, 9))\n",
        "corr = dataset.corr() # calculates the Pearson correlation coefficient between every pair of features in the dataset\n",
        "hm = sns.heatmap(round(corr,2), annot=True, ax=ax, cmap=\"coolwarm\",fmt='.2f',\n",
        "                 linewidths=.05)\n",
        "f.subplots_adjust(top=0.93)\n",
        "t= f.suptitle('Correlation Heatmap', fontsize=15)"
      ]
    },
    {
      "cell_type": "markdown",
      "metadata": {
        "colab_type": "text",
        "id": "pPufJUsdK5Aj"
      },
      "source": [
        "# Split the data into train and test"
      ]
    },
    {
      "cell_type": "code",
      "execution_count": null,
      "metadata": {
        "colab": {
          "base_uri": "https://localhost:8080/",
          "height": 419
        },
        "colab_type": "code",
        "id": "nm2w3Tn1K_TG",
        "outputId": "9a631d77-de6b-4c9b-d057-edb830586046"
      },
      "outputs": [
        {
          "data": {
            "text/html": [
              "<div>\n",
              "<style scoped>\n",
              "    .dataframe tbody tr th:only-of-type {\n",
              "        vertical-align: middle;\n",
              "    }\n",
              "\n",
              "    .dataframe tbody tr th {\n",
              "        vertical-align: top;\n",
              "    }\n",
              "\n",
              "    .dataframe thead th {\n",
              "        text-align: right;\n",
              "    }\n",
              "</style>\n",
              "<table border=\"1\" class=\"dataframe\">\n",
              "  <thead>\n",
              "    <tr style=\"text-align: right;\">\n",
              "      <th></th>\n",
              "      <th>red</th>\n",
              "      <th>green</th>\n",
              "      <th>blue</th>\n",
              "      <th>label_Red</th>\n",
              "      <th>label_Green</th>\n",
              "      <th>label_Blue</th>\n",
              "      <th>label_Yellow</th>\n",
              "      <th>label_Orange</th>\n",
              "      <th>label_Pink</th>\n",
              "      <th>label_Purple</th>\n",
              "      <th>label_Brown</th>\n",
              "      <th>label_Grey</th>\n",
              "      <th>label_Black</th>\n",
              "      <th>label_White</th>\n",
              "    </tr>\n",
              "  </thead>\n",
              "  <tbody>\n",
              "    <tr>\n",
              "      <th>4185</th>\n",
              "      <td>189</td>\n",
              "      <td>148</td>\n",
              "      <td>192</td>\n",
              "      <td>0</td>\n",
              "      <td>0</td>\n",
              "      <td>0</td>\n",
              "      <td>0</td>\n",
              "      <td>0</td>\n",
              "      <td>0</td>\n",
              "      <td>1</td>\n",
              "      <td>0</td>\n",
              "      <td>0</td>\n",
              "      <td>0</td>\n",
              "      <td>0</td>\n",
              "    </tr>\n",
              "    <tr>\n",
              "      <th>3378</th>\n",
              "      <td>178</td>\n",
              "      <td>251</td>\n",
              "      <td>22</td>\n",
              "      <td>0</td>\n",
              "      <td>0</td>\n",
              "      <td>0</td>\n",
              "      <td>1</td>\n",
              "      <td>0</td>\n",
              "      <td>0</td>\n",
              "      <td>0</td>\n",
              "      <td>0</td>\n",
              "      <td>0</td>\n",
              "      <td>0</td>\n",
              "      <td>0</td>\n",
              "    </tr>\n",
              "    <tr>\n",
              "      <th>2744</th>\n",
              "      <td>54</td>\n",
              "      <td>9</td>\n",
              "      <td>125</td>\n",
              "      <td>0</td>\n",
              "      <td>0</td>\n",
              "      <td>1</td>\n",
              "      <td>0</td>\n",
              "      <td>0</td>\n",
              "      <td>0</td>\n",
              "      <td>0</td>\n",
              "      <td>0</td>\n",
              "      <td>0</td>\n",
              "      <td>0</td>\n",
              "      <td>0</td>\n",
              "    </tr>\n",
              "    <tr>\n",
              "      <th>968</th>\n",
              "      <td>119</td>\n",
              "      <td>147</td>\n",
              "      <td>60</td>\n",
              "      <td>0</td>\n",
              "      <td>1</td>\n",
              "      <td>0</td>\n",
              "      <td>0</td>\n",
              "      <td>0</td>\n",
              "      <td>0</td>\n",
              "      <td>0</td>\n",
              "      <td>0</td>\n",
              "      <td>0</td>\n",
              "      <td>0</td>\n",
              "      <td>0</td>\n",
              "    </tr>\n",
              "    <tr>\n",
              "      <th>2286</th>\n",
              "      <td>230</td>\n",
              "      <td>161</td>\n",
              "      <td>233</td>\n",
              "      <td>0</td>\n",
              "      <td>0</td>\n",
              "      <td>0</td>\n",
              "      <td>0</td>\n",
              "      <td>0</td>\n",
              "      <td>1</td>\n",
              "      <td>0</td>\n",
              "      <td>0</td>\n",
              "      <td>0</td>\n",
              "      <td>0</td>\n",
              "      <td>0</td>\n",
              "    </tr>\n",
              "    <tr>\n",
              "      <th>...</th>\n",
              "      <td>...</td>\n",
              "      <td>...</td>\n",
              "      <td>...</td>\n",
              "      <td>...</td>\n",
              "      <td>...</td>\n",
              "      <td>...</td>\n",
              "      <td>...</td>\n",
              "      <td>...</td>\n",
              "      <td>...</td>\n",
              "      <td>...</td>\n",
              "      <td>...</td>\n",
              "      <td>...</td>\n",
              "      <td>...</td>\n",
              "      <td>...</td>\n",
              "    </tr>\n",
              "    <tr>\n",
              "      <th>1883</th>\n",
              "      <td>223</td>\n",
              "      <td>157</td>\n",
              "      <td>205</td>\n",
              "      <td>0</td>\n",
              "      <td>0</td>\n",
              "      <td>0</td>\n",
              "      <td>0</td>\n",
              "      <td>0</td>\n",
              "      <td>0</td>\n",
              "      <td>1</td>\n",
              "      <td>0</td>\n",
              "      <td>0</td>\n",
              "      <td>0</td>\n",
              "      <td>0</td>\n",
              "    </tr>\n",
              "    <tr>\n",
              "      <th>3707</th>\n",
              "      <td>203</td>\n",
              "      <td>8</td>\n",
              "      <td>10</td>\n",
              "      <td>1</td>\n",
              "      <td>0</td>\n",
              "      <td>0</td>\n",
              "      <td>0</td>\n",
              "      <td>0</td>\n",
              "      <td>0</td>\n",
              "      <td>0</td>\n",
              "      <td>0</td>\n",
              "      <td>0</td>\n",
              "      <td>0</td>\n",
              "      <td>0</td>\n",
              "    </tr>\n",
              "    <tr>\n",
              "      <th>881</th>\n",
              "      <td>154</td>\n",
              "      <td>153</td>\n",
              "      <td>123</td>\n",
              "      <td>0</td>\n",
              "      <td>0</td>\n",
              "      <td>0</td>\n",
              "      <td>0</td>\n",
              "      <td>0</td>\n",
              "      <td>0</td>\n",
              "      <td>0</td>\n",
              "      <td>0</td>\n",
              "      <td>1</td>\n",
              "      <td>0</td>\n",
              "      <td>0</td>\n",
              "    </tr>\n",
              "    <tr>\n",
              "      <th>1352</th>\n",
              "      <td>151</td>\n",
              "      <td>141</td>\n",
              "      <td>236</td>\n",
              "      <td>0</td>\n",
              "      <td>0</td>\n",
              "      <td>0</td>\n",
              "      <td>0</td>\n",
              "      <td>0</td>\n",
              "      <td>0</td>\n",
              "      <td>1</td>\n",
              "      <td>0</td>\n",
              "      <td>0</td>\n",
              "      <td>0</td>\n",
              "      <td>0</td>\n",
              "    </tr>\n",
              "    <tr>\n",
              "      <th>4552</th>\n",
              "      <td>236</td>\n",
              "      <td>222</td>\n",
              "      <td>32</td>\n",
              "      <td>0</td>\n",
              "      <td>0</td>\n",
              "      <td>0</td>\n",
              "      <td>1</td>\n",
              "      <td>0</td>\n",
              "      <td>0</td>\n",
              "      <td>0</td>\n",
              "      <td>0</td>\n",
              "      <td>0</td>\n",
              "      <td>0</td>\n",
              "      <td>0</td>\n",
              "    </tr>\n",
              "  </tbody>\n",
              "</table>\n",
              "<p>4042 rows × 14 columns</p>\n",
              "</div>"
            ],
            "text/plain": [
              "      red  green  blue  ...  label_Grey  label_Black  label_White\n",
              "4185  189    148   192  ...           0            0            0\n",
              "3378  178    251    22  ...           0            0            0\n",
              "2744   54      9   125  ...           0            0            0\n",
              "968   119    147    60  ...           0            0            0\n",
              "2286  230    161   233  ...           0            0            0\n",
              "...   ...    ...   ...  ...         ...          ...          ...\n",
              "1883  223    157   205  ...           0            0            0\n",
              "3707  203      8    10  ...           0            0            0\n",
              "881   154    153   123  ...           1            0            0\n",
              "1352  151    141   236  ...           0            0            0\n",
              "4552  236    222    32  ...           0            0            0\n",
              "\n",
              "[4042 rows x 14 columns]"
            ]
          },
          "execution_count": 15,
          "metadata": {
            "tags": []
          },
          "output_type": "execute_result"
        }
      ],
      "source": [
        "train_dataset = dataset.sample(frac=0.8, random_state=8) #train = 80%,  random_state = any int value means every time when you run your program you will get the same output for train and test dataset, random_state is None by default which means every time when you run your program you will get different output because of splitting between train and test varies within \n",
        "test_dataset = dataset.drop(train_dataset.index) #remove train_dataset from dataframe to get test_dataset\n",
        "train_dataset"
      ]
    },
    {
      "cell_type": "code",
      "execution_count": null,
      "metadata": {
        "colab": {
          "base_uri": "https://localhost:8080/",
          "height": 419
        },
        "colab_type": "code",
        "id": "SIoAOBwuLpt1",
        "outputId": "051e0a65-c269-4c9c-c426-ef100694b165"
      },
      "outputs": [
        {
          "data": {
            "text/html": [
              "<div>\n",
              "<style scoped>\n",
              "    .dataframe tbody tr th:only-of-type {\n",
              "        vertical-align: middle;\n",
              "    }\n",
              "\n",
              "    .dataframe tbody tr th {\n",
              "        vertical-align: top;\n",
              "    }\n",
              "\n",
              "    .dataframe thead th {\n",
              "        text-align: right;\n",
              "    }\n",
              "</style>\n",
              "<table border=\"1\" class=\"dataframe\">\n",
              "  <thead>\n",
              "    <tr style=\"text-align: right;\">\n",
              "      <th></th>\n",
              "      <th>red</th>\n",
              "      <th>green</th>\n",
              "      <th>blue</th>\n",
              "      <th>label_Red</th>\n",
              "      <th>label_Green</th>\n",
              "      <th>label_Blue</th>\n",
              "      <th>label_Yellow</th>\n",
              "      <th>label_Orange</th>\n",
              "      <th>label_Pink</th>\n",
              "      <th>label_Purple</th>\n",
              "      <th>label_Brown</th>\n",
              "      <th>label_Grey</th>\n",
              "      <th>label_Black</th>\n",
              "      <th>label_White</th>\n",
              "    </tr>\n",
              "  </thead>\n",
              "  <tbody>\n",
              "    <tr>\n",
              "      <th>5</th>\n",
              "      <td>199</td>\n",
              "      <td>150</td>\n",
              "      <td>175</td>\n",
              "      <td>0</td>\n",
              "      <td>0</td>\n",
              "      <td>0</td>\n",
              "      <td>0</td>\n",
              "      <td>0</td>\n",
              "      <td>1</td>\n",
              "      <td>0</td>\n",
              "      <td>0</td>\n",
              "      <td>0</td>\n",
              "      <td>0</td>\n",
              "      <td>0</td>\n",
              "    </tr>\n",
              "    <tr>\n",
              "      <th>11</th>\n",
              "      <td>249</td>\n",
              "      <td>99</td>\n",
              "      <td>108</td>\n",
              "      <td>0</td>\n",
              "      <td>0</td>\n",
              "      <td>0</td>\n",
              "      <td>0</td>\n",
              "      <td>0</td>\n",
              "      <td>1</td>\n",
              "      <td>0</td>\n",
              "      <td>0</td>\n",
              "      <td>0</td>\n",
              "      <td>0</td>\n",
              "      <td>0</td>\n",
              "    </tr>\n",
              "    <tr>\n",
              "      <th>13</th>\n",
              "      <td>180</td>\n",
              "      <td>134</td>\n",
              "      <td>41</td>\n",
              "      <td>0</td>\n",
              "      <td>0</td>\n",
              "      <td>0</td>\n",
              "      <td>0</td>\n",
              "      <td>0</td>\n",
              "      <td>0</td>\n",
              "      <td>0</td>\n",
              "      <td>1</td>\n",
              "      <td>0</td>\n",
              "      <td>0</td>\n",
              "      <td>0</td>\n",
              "    </tr>\n",
              "    <tr>\n",
              "      <th>17</th>\n",
              "      <td>249</td>\n",
              "      <td>15</td>\n",
              "      <td>198</td>\n",
              "      <td>0</td>\n",
              "      <td>0</td>\n",
              "      <td>0</td>\n",
              "      <td>0</td>\n",
              "      <td>0</td>\n",
              "      <td>1</td>\n",
              "      <td>0</td>\n",
              "      <td>0</td>\n",
              "      <td>0</td>\n",
              "      <td>0</td>\n",
              "      <td>0</td>\n",
              "    </tr>\n",
              "    <tr>\n",
              "      <th>21</th>\n",
              "      <td>159</td>\n",
              "      <td>253</td>\n",
              "      <td>91</td>\n",
              "      <td>0</td>\n",
              "      <td>1</td>\n",
              "      <td>0</td>\n",
              "      <td>0</td>\n",
              "      <td>0</td>\n",
              "      <td>0</td>\n",
              "      <td>0</td>\n",
              "      <td>0</td>\n",
              "      <td>0</td>\n",
              "      <td>0</td>\n",
              "      <td>0</td>\n",
              "    </tr>\n",
              "    <tr>\n",
              "      <th>...</th>\n",
              "      <td>...</td>\n",
              "      <td>...</td>\n",
              "      <td>...</td>\n",
              "      <td>...</td>\n",
              "      <td>...</td>\n",
              "      <td>...</td>\n",
              "      <td>...</td>\n",
              "      <td>...</td>\n",
              "      <td>...</td>\n",
              "      <td>...</td>\n",
              "      <td>...</td>\n",
              "      <td>...</td>\n",
              "      <td>...</td>\n",
              "      <td>...</td>\n",
              "    </tr>\n",
              "    <tr>\n",
              "      <th>5042</th>\n",
              "      <td>21</td>\n",
              "      <td>21</td>\n",
              "      <td>21</td>\n",
              "      <td>0</td>\n",
              "      <td>0</td>\n",
              "      <td>0</td>\n",
              "      <td>0</td>\n",
              "      <td>0</td>\n",
              "      <td>0</td>\n",
              "      <td>0</td>\n",
              "      <td>0</td>\n",
              "      <td>0</td>\n",
              "      <td>1</td>\n",
              "      <td>0</td>\n",
              "    </tr>\n",
              "    <tr>\n",
              "      <th>5043</th>\n",
              "      <td>22</td>\n",
              "      <td>22</td>\n",
              "      <td>22</td>\n",
              "      <td>0</td>\n",
              "      <td>0</td>\n",
              "      <td>0</td>\n",
              "      <td>0</td>\n",
              "      <td>0</td>\n",
              "      <td>0</td>\n",
              "      <td>0</td>\n",
              "      <td>0</td>\n",
              "      <td>0</td>\n",
              "      <td>1</td>\n",
              "      <td>0</td>\n",
              "    </tr>\n",
              "    <tr>\n",
              "      <th>5046</th>\n",
              "      <td>25</td>\n",
              "      <td>25</td>\n",
              "      <td>25</td>\n",
              "      <td>0</td>\n",
              "      <td>0</td>\n",
              "      <td>0</td>\n",
              "      <td>0</td>\n",
              "      <td>0</td>\n",
              "      <td>0</td>\n",
              "      <td>0</td>\n",
              "      <td>0</td>\n",
              "      <td>0</td>\n",
              "      <td>1</td>\n",
              "      <td>0</td>\n",
              "    </tr>\n",
              "    <tr>\n",
              "      <th>5047</th>\n",
              "      <td>26</td>\n",
              "      <td>26</td>\n",
              "      <td>26</td>\n",
              "      <td>0</td>\n",
              "      <td>0</td>\n",
              "      <td>0</td>\n",
              "      <td>0</td>\n",
              "      <td>0</td>\n",
              "      <td>0</td>\n",
              "      <td>0</td>\n",
              "      <td>0</td>\n",
              "      <td>0</td>\n",
              "      <td>1</td>\n",
              "      <td>0</td>\n",
              "    </tr>\n",
              "    <tr>\n",
              "      <th>5050</th>\n",
              "      <td>29</td>\n",
              "      <td>29</td>\n",
              "      <td>29</td>\n",
              "      <td>0</td>\n",
              "      <td>0</td>\n",
              "      <td>0</td>\n",
              "      <td>0</td>\n",
              "      <td>0</td>\n",
              "      <td>0</td>\n",
              "      <td>0</td>\n",
              "      <td>0</td>\n",
              "      <td>0</td>\n",
              "      <td>1</td>\n",
              "      <td>0</td>\n",
              "    </tr>\n",
              "  </tbody>\n",
              "</table>\n",
              "<p>1010 rows × 14 columns</p>\n",
              "</div>"
            ],
            "text/plain": [
              "      red  green  blue  ...  label_Grey  label_Black  label_White\n",
              "5     199    150   175  ...           0            0            0\n",
              "11    249     99   108  ...           0            0            0\n",
              "13    180    134    41  ...           0            0            0\n",
              "17    249     15   198  ...           0            0            0\n",
              "21    159    253    91  ...           0            0            0\n",
              "...   ...    ...   ...  ...         ...          ...          ...\n",
              "5042   21     21    21  ...           0            1            0\n",
              "5043   22     22    22  ...           0            1            0\n",
              "5046   25     25    25  ...           0            1            0\n",
              "5047   26     26    26  ...           0            1            0\n",
              "5050   29     29    29  ...           0            1            0\n",
              "\n",
              "[1010 rows x 14 columns]"
            ]
          },
          "execution_count": 16,
          "metadata": {
            "tags": []
          },
          "output_type": "execute_result"
        }
      ],
      "source": [
        "test_dataset"
      ]
    },
    {
      "cell_type": "markdown",
      "metadata": {
        "colab_type": "text",
        "id": "lrb5CxEdL7u-"
      },
      "source": [
        "## Split features: `red`, `green`, `blue` and labels"
      ]
    },
    {
      "cell_type": "code",
      "execution_count": null,
      "metadata": {
        "colab": {
          "base_uri": "https://localhost:8080/",
          "height": 419
        },
        "colab_type": "code",
        "id": "xv3NMZAlLtDY",
        "outputId": "0660f0ef-e533-4185-883c-32227c6f3c7e"
      },
      "outputs": [
        {
          "data": {
            "text/html": [
              "<div>\n",
              "<style scoped>\n",
              "    .dataframe tbody tr th:only-of-type {\n",
              "        vertical-align: middle;\n",
              "    }\n",
              "\n",
              "    .dataframe tbody tr th {\n",
              "        vertical-align: top;\n",
              "    }\n",
              "\n",
              "    .dataframe thead th {\n",
              "        text-align: right;\n",
              "    }\n",
              "</style>\n",
              "<table border=\"1\" class=\"dataframe\">\n",
              "  <thead>\n",
              "    <tr style=\"text-align: right;\">\n",
              "      <th></th>\n",
              "      <th>label_Red</th>\n",
              "      <th>label_Green</th>\n",
              "      <th>label_Blue</th>\n",
              "      <th>label_Yellow</th>\n",
              "      <th>label_Orange</th>\n",
              "      <th>label_Pink</th>\n",
              "      <th>label_Purple</th>\n",
              "      <th>label_Brown</th>\n",
              "      <th>label_Grey</th>\n",
              "      <th>label_Black</th>\n",
              "      <th>label_White</th>\n",
              "    </tr>\n",
              "  </thead>\n",
              "  <tbody>\n",
              "    <tr>\n",
              "      <th>4185</th>\n",
              "      <td>0</td>\n",
              "      <td>0</td>\n",
              "      <td>0</td>\n",
              "      <td>0</td>\n",
              "      <td>0</td>\n",
              "      <td>0</td>\n",
              "      <td>1</td>\n",
              "      <td>0</td>\n",
              "      <td>0</td>\n",
              "      <td>0</td>\n",
              "      <td>0</td>\n",
              "    </tr>\n",
              "    <tr>\n",
              "      <th>3378</th>\n",
              "      <td>0</td>\n",
              "      <td>0</td>\n",
              "      <td>0</td>\n",
              "      <td>1</td>\n",
              "      <td>0</td>\n",
              "      <td>0</td>\n",
              "      <td>0</td>\n",
              "      <td>0</td>\n",
              "      <td>0</td>\n",
              "      <td>0</td>\n",
              "      <td>0</td>\n",
              "    </tr>\n",
              "    <tr>\n",
              "      <th>2744</th>\n",
              "      <td>0</td>\n",
              "      <td>0</td>\n",
              "      <td>1</td>\n",
              "      <td>0</td>\n",
              "      <td>0</td>\n",
              "      <td>0</td>\n",
              "      <td>0</td>\n",
              "      <td>0</td>\n",
              "      <td>0</td>\n",
              "      <td>0</td>\n",
              "      <td>0</td>\n",
              "    </tr>\n",
              "    <tr>\n",
              "      <th>968</th>\n",
              "      <td>0</td>\n",
              "      <td>1</td>\n",
              "      <td>0</td>\n",
              "      <td>0</td>\n",
              "      <td>0</td>\n",
              "      <td>0</td>\n",
              "      <td>0</td>\n",
              "      <td>0</td>\n",
              "      <td>0</td>\n",
              "      <td>0</td>\n",
              "      <td>0</td>\n",
              "    </tr>\n",
              "    <tr>\n",
              "      <th>2286</th>\n",
              "      <td>0</td>\n",
              "      <td>0</td>\n",
              "      <td>0</td>\n",
              "      <td>0</td>\n",
              "      <td>0</td>\n",
              "      <td>1</td>\n",
              "      <td>0</td>\n",
              "      <td>0</td>\n",
              "      <td>0</td>\n",
              "      <td>0</td>\n",
              "      <td>0</td>\n",
              "    </tr>\n",
              "    <tr>\n",
              "      <th>...</th>\n",
              "      <td>...</td>\n",
              "      <td>...</td>\n",
              "      <td>...</td>\n",
              "      <td>...</td>\n",
              "      <td>...</td>\n",
              "      <td>...</td>\n",
              "      <td>...</td>\n",
              "      <td>...</td>\n",
              "      <td>...</td>\n",
              "      <td>...</td>\n",
              "      <td>...</td>\n",
              "    </tr>\n",
              "    <tr>\n",
              "      <th>1883</th>\n",
              "      <td>0</td>\n",
              "      <td>0</td>\n",
              "      <td>0</td>\n",
              "      <td>0</td>\n",
              "      <td>0</td>\n",
              "      <td>0</td>\n",
              "      <td>1</td>\n",
              "      <td>0</td>\n",
              "      <td>0</td>\n",
              "      <td>0</td>\n",
              "      <td>0</td>\n",
              "    </tr>\n",
              "    <tr>\n",
              "      <th>3707</th>\n",
              "      <td>1</td>\n",
              "      <td>0</td>\n",
              "      <td>0</td>\n",
              "      <td>0</td>\n",
              "      <td>0</td>\n",
              "      <td>0</td>\n",
              "      <td>0</td>\n",
              "      <td>0</td>\n",
              "      <td>0</td>\n",
              "      <td>0</td>\n",
              "      <td>0</td>\n",
              "    </tr>\n",
              "    <tr>\n",
              "      <th>881</th>\n",
              "      <td>0</td>\n",
              "      <td>0</td>\n",
              "      <td>0</td>\n",
              "      <td>0</td>\n",
              "      <td>0</td>\n",
              "      <td>0</td>\n",
              "      <td>0</td>\n",
              "      <td>0</td>\n",
              "      <td>1</td>\n",
              "      <td>0</td>\n",
              "      <td>0</td>\n",
              "    </tr>\n",
              "    <tr>\n",
              "      <th>1352</th>\n",
              "      <td>0</td>\n",
              "      <td>0</td>\n",
              "      <td>0</td>\n",
              "      <td>0</td>\n",
              "      <td>0</td>\n",
              "      <td>0</td>\n",
              "      <td>1</td>\n",
              "      <td>0</td>\n",
              "      <td>0</td>\n",
              "      <td>0</td>\n",
              "      <td>0</td>\n",
              "    </tr>\n",
              "    <tr>\n",
              "      <th>4552</th>\n",
              "      <td>0</td>\n",
              "      <td>0</td>\n",
              "      <td>0</td>\n",
              "      <td>1</td>\n",
              "      <td>0</td>\n",
              "      <td>0</td>\n",
              "      <td>0</td>\n",
              "      <td>0</td>\n",
              "      <td>0</td>\n",
              "      <td>0</td>\n",
              "      <td>0</td>\n",
              "    </tr>\n",
              "  </tbody>\n",
              "</table>\n",
              "<p>4042 rows × 11 columns</p>\n",
              "</div>"
            ],
            "text/plain": [
              "      label_Red  label_Green  label_Blue  ...  label_Grey  label_Black  label_White\n",
              "4185          0            0           0  ...           0            0            0\n",
              "3378          0            0           0  ...           0            0            0\n",
              "2744          0            0           1  ...           0            0            0\n",
              "968           0            1           0  ...           0            0            0\n",
              "2286          0            0           0  ...           0            0            0\n",
              "...         ...          ...         ...  ...         ...          ...          ...\n",
              "1883          0            0           0  ...           0            0            0\n",
              "3707          1            0           0  ...           0            0            0\n",
              "881           0            0           0  ...           1            0            0\n",
              "1352          0            0           0  ...           0            0            0\n",
              "4552          0            0           0  ...           0            0            0\n",
              "\n",
              "[4042 rows x 11 columns]"
            ]
          },
          "execution_count": 17,
          "metadata": {
            "tags": []
          },
          "output_type": "execute_result"
        }
      ],
      "source": [
        "train_labels = pd.DataFrame([train_dataset.pop(x) for x in ['label_Red', 'label_Green', 'label_Blue', 'label_Yellow', 'label_Orange', 'label_Pink', 'label_Purple', 'label_Brown', 'label_Grey', 'label_Black', 'label_White']]).T\n",
        "train_labels"
      ]
    },
    {
      "cell_type": "code",
      "execution_count": null,
      "metadata": {
        "colab": {
          "base_uri": "https://localhost:8080/",
          "height": 419
        },
        "colab_type": "code",
        "id": "ev4dPvzKWw0_",
        "outputId": "da84393f-f10c-4c9e-e0d2-1c6dfd09c87a"
      },
      "outputs": [
        {
          "data": {
            "text/html": [
              "<div>\n",
              "<style scoped>\n",
              "    .dataframe tbody tr th:only-of-type {\n",
              "        vertical-align: middle;\n",
              "    }\n",
              "\n",
              "    .dataframe tbody tr th {\n",
              "        vertical-align: top;\n",
              "    }\n",
              "\n",
              "    .dataframe thead th {\n",
              "        text-align: right;\n",
              "    }\n",
              "</style>\n",
              "<table border=\"1\" class=\"dataframe\">\n",
              "  <thead>\n",
              "    <tr style=\"text-align: right;\">\n",
              "      <th></th>\n",
              "      <th>red</th>\n",
              "      <th>green</th>\n",
              "      <th>blue</th>\n",
              "    </tr>\n",
              "  </thead>\n",
              "  <tbody>\n",
              "    <tr>\n",
              "      <th>4185</th>\n",
              "      <td>189</td>\n",
              "      <td>148</td>\n",
              "      <td>192</td>\n",
              "    </tr>\n",
              "    <tr>\n",
              "      <th>3378</th>\n",
              "      <td>178</td>\n",
              "      <td>251</td>\n",
              "      <td>22</td>\n",
              "    </tr>\n",
              "    <tr>\n",
              "      <th>2744</th>\n",
              "      <td>54</td>\n",
              "      <td>9</td>\n",
              "      <td>125</td>\n",
              "    </tr>\n",
              "    <tr>\n",
              "      <th>968</th>\n",
              "      <td>119</td>\n",
              "      <td>147</td>\n",
              "      <td>60</td>\n",
              "    </tr>\n",
              "    <tr>\n",
              "      <th>2286</th>\n",
              "      <td>230</td>\n",
              "      <td>161</td>\n",
              "      <td>233</td>\n",
              "    </tr>\n",
              "    <tr>\n",
              "      <th>...</th>\n",
              "      <td>...</td>\n",
              "      <td>...</td>\n",
              "      <td>...</td>\n",
              "    </tr>\n",
              "    <tr>\n",
              "      <th>1883</th>\n",
              "      <td>223</td>\n",
              "      <td>157</td>\n",
              "      <td>205</td>\n",
              "    </tr>\n",
              "    <tr>\n",
              "      <th>3707</th>\n",
              "      <td>203</td>\n",
              "      <td>8</td>\n",
              "      <td>10</td>\n",
              "    </tr>\n",
              "    <tr>\n",
              "      <th>881</th>\n",
              "      <td>154</td>\n",
              "      <td>153</td>\n",
              "      <td>123</td>\n",
              "    </tr>\n",
              "    <tr>\n",
              "      <th>1352</th>\n",
              "      <td>151</td>\n",
              "      <td>141</td>\n",
              "      <td>236</td>\n",
              "    </tr>\n",
              "    <tr>\n",
              "      <th>4552</th>\n",
              "      <td>236</td>\n",
              "      <td>222</td>\n",
              "      <td>32</td>\n",
              "    </tr>\n",
              "  </tbody>\n",
              "</table>\n",
              "<p>4042 rows × 3 columns</p>\n",
              "</div>"
            ],
            "text/plain": [
              "      red  green  blue\n",
              "4185  189    148   192\n",
              "3378  178    251    22\n",
              "2744   54      9   125\n",
              "968   119    147    60\n",
              "2286  230    161   233\n",
              "...   ...    ...   ...\n",
              "1883  223    157   205\n",
              "3707  203      8    10\n",
              "881   154    153   123\n",
              "1352  151    141   236\n",
              "4552  236    222    32\n",
              "\n",
              "[4042 rows x 3 columns]"
            ]
          },
          "execution_count": 18,
          "metadata": {
            "tags": []
          },
          "output_type": "execute_result"
        }
      ],
      "source": [
        "train_dataset"
      ]
    },
    {
      "cell_type": "code",
      "execution_count": null,
      "metadata": {
        "colab": {
          "base_uri": "https://localhost:8080/",
          "height": 419
        },
        "colab_type": "code",
        "id": "4jJYbg89Myxq",
        "outputId": "a8b60ab0-8a0f-4c4b-893a-ed2ef48b81ff"
      },
      "outputs": [
        {
          "data": {
            "text/html": [
              "<div>\n",
              "<style scoped>\n",
              "    .dataframe tbody tr th:only-of-type {\n",
              "        vertical-align: middle;\n",
              "    }\n",
              "\n",
              "    .dataframe tbody tr th {\n",
              "        vertical-align: top;\n",
              "    }\n",
              "\n",
              "    .dataframe thead th {\n",
              "        text-align: right;\n",
              "    }\n",
              "</style>\n",
              "<table border=\"1\" class=\"dataframe\">\n",
              "  <thead>\n",
              "    <tr style=\"text-align: right;\">\n",
              "      <th></th>\n",
              "      <th>label_Red</th>\n",
              "      <th>label_Green</th>\n",
              "      <th>label_Blue</th>\n",
              "      <th>label_Yellow</th>\n",
              "      <th>label_Orange</th>\n",
              "      <th>label_Pink</th>\n",
              "      <th>label_Purple</th>\n",
              "      <th>label_Brown</th>\n",
              "      <th>label_Grey</th>\n",
              "      <th>label_Black</th>\n",
              "      <th>label_White</th>\n",
              "    </tr>\n",
              "  </thead>\n",
              "  <tbody>\n",
              "    <tr>\n",
              "      <th>5</th>\n",
              "      <td>0</td>\n",
              "      <td>0</td>\n",
              "      <td>0</td>\n",
              "      <td>0</td>\n",
              "      <td>0</td>\n",
              "      <td>1</td>\n",
              "      <td>0</td>\n",
              "      <td>0</td>\n",
              "      <td>0</td>\n",
              "      <td>0</td>\n",
              "      <td>0</td>\n",
              "    </tr>\n",
              "    <tr>\n",
              "      <th>11</th>\n",
              "      <td>0</td>\n",
              "      <td>0</td>\n",
              "      <td>0</td>\n",
              "      <td>0</td>\n",
              "      <td>0</td>\n",
              "      <td>1</td>\n",
              "      <td>0</td>\n",
              "      <td>0</td>\n",
              "      <td>0</td>\n",
              "      <td>0</td>\n",
              "      <td>0</td>\n",
              "    </tr>\n",
              "    <tr>\n",
              "      <th>13</th>\n",
              "      <td>0</td>\n",
              "      <td>0</td>\n",
              "      <td>0</td>\n",
              "      <td>0</td>\n",
              "      <td>0</td>\n",
              "      <td>0</td>\n",
              "      <td>0</td>\n",
              "      <td>1</td>\n",
              "      <td>0</td>\n",
              "      <td>0</td>\n",
              "      <td>0</td>\n",
              "    </tr>\n",
              "    <tr>\n",
              "      <th>17</th>\n",
              "      <td>0</td>\n",
              "      <td>0</td>\n",
              "      <td>0</td>\n",
              "      <td>0</td>\n",
              "      <td>0</td>\n",
              "      <td>1</td>\n",
              "      <td>0</td>\n",
              "      <td>0</td>\n",
              "      <td>0</td>\n",
              "      <td>0</td>\n",
              "      <td>0</td>\n",
              "    </tr>\n",
              "    <tr>\n",
              "      <th>21</th>\n",
              "      <td>0</td>\n",
              "      <td>1</td>\n",
              "      <td>0</td>\n",
              "      <td>0</td>\n",
              "      <td>0</td>\n",
              "      <td>0</td>\n",
              "      <td>0</td>\n",
              "      <td>0</td>\n",
              "      <td>0</td>\n",
              "      <td>0</td>\n",
              "      <td>0</td>\n",
              "    </tr>\n",
              "    <tr>\n",
              "      <th>...</th>\n",
              "      <td>...</td>\n",
              "      <td>...</td>\n",
              "      <td>...</td>\n",
              "      <td>...</td>\n",
              "      <td>...</td>\n",
              "      <td>...</td>\n",
              "      <td>...</td>\n",
              "      <td>...</td>\n",
              "      <td>...</td>\n",
              "      <td>...</td>\n",
              "      <td>...</td>\n",
              "    </tr>\n",
              "    <tr>\n",
              "      <th>5042</th>\n",
              "      <td>0</td>\n",
              "      <td>0</td>\n",
              "      <td>0</td>\n",
              "      <td>0</td>\n",
              "      <td>0</td>\n",
              "      <td>0</td>\n",
              "      <td>0</td>\n",
              "      <td>0</td>\n",
              "      <td>0</td>\n",
              "      <td>1</td>\n",
              "      <td>0</td>\n",
              "    </tr>\n",
              "    <tr>\n",
              "      <th>5043</th>\n",
              "      <td>0</td>\n",
              "      <td>0</td>\n",
              "      <td>0</td>\n",
              "      <td>0</td>\n",
              "      <td>0</td>\n",
              "      <td>0</td>\n",
              "      <td>0</td>\n",
              "      <td>0</td>\n",
              "      <td>0</td>\n",
              "      <td>1</td>\n",
              "      <td>0</td>\n",
              "    </tr>\n",
              "    <tr>\n",
              "      <th>5046</th>\n",
              "      <td>0</td>\n",
              "      <td>0</td>\n",
              "      <td>0</td>\n",
              "      <td>0</td>\n",
              "      <td>0</td>\n",
              "      <td>0</td>\n",
              "      <td>0</td>\n",
              "      <td>0</td>\n",
              "      <td>0</td>\n",
              "      <td>1</td>\n",
              "      <td>0</td>\n",
              "    </tr>\n",
              "    <tr>\n",
              "      <th>5047</th>\n",
              "      <td>0</td>\n",
              "      <td>0</td>\n",
              "      <td>0</td>\n",
              "      <td>0</td>\n",
              "      <td>0</td>\n",
              "      <td>0</td>\n",
              "      <td>0</td>\n",
              "      <td>0</td>\n",
              "      <td>0</td>\n",
              "      <td>1</td>\n",
              "      <td>0</td>\n",
              "    </tr>\n",
              "    <tr>\n",
              "      <th>5050</th>\n",
              "      <td>0</td>\n",
              "      <td>0</td>\n",
              "      <td>0</td>\n",
              "      <td>0</td>\n",
              "      <td>0</td>\n",
              "      <td>0</td>\n",
              "      <td>0</td>\n",
              "      <td>0</td>\n",
              "      <td>0</td>\n",
              "      <td>1</td>\n",
              "      <td>0</td>\n",
              "    </tr>\n",
              "  </tbody>\n",
              "</table>\n",
              "<p>1010 rows × 11 columns</p>\n",
              "</div>"
            ],
            "text/plain": [
              "      label_Red  label_Green  label_Blue  ...  label_Grey  label_Black  label_White\n",
              "5             0            0           0  ...           0            0            0\n",
              "11            0            0           0  ...           0            0            0\n",
              "13            0            0           0  ...           0            0            0\n",
              "17            0            0           0  ...           0            0            0\n",
              "21            0            1           0  ...           0            0            0\n",
              "...         ...          ...         ...  ...         ...          ...          ...\n",
              "5042          0            0           0  ...           0            1            0\n",
              "5043          0            0           0  ...           0            1            0\n",
              "5046          0            0           0  ...           0            1            0\n",
              "5047          0            0           0  ...           0            1            0\n",
              "5050          0            0           0  ...           0            1            0\n",
              "\n",
              "[1010 rows x 11 columns]"
            ]
          },
          "execution_count": 19,
          "metadata": {
            "tags": []
          },
          "output_type": "execute_result"
        }
      ],
      "source": [
        "test_labels = pd.DataFrame([test_dataset.pop(x) for x in ['label_Red', 'label_Green', 'label_Blue', 'label_Yellow', 'label_Orange', 'label_Pink', 'label_Purple', 'label_Brown', 'label_Grey', 'label_Black', 'label_White']]).T\n",
        "test_labels"
      ]
    },
    {
      "cell_type": "code",
      "execution_count": null,
      "metadata": {
        "colab": {
          "base_uri": "https://localhost:8080/",
          "height": 419
        },
        "colab_type": "code",
        "id": "ldjQZXqNW0T1",
        "outputId": "f6502c2c-c475-40b3-bb12-7ea0fa6714dc"
      },
      "outputs": [
        {
          "data": {
            "text/html": [
              "<div>\n",
              "<style scoped>\n",
              "    .dataframe tbody tr th:only-of-type {\n",
              "        vertical-align: middle;\n",
              "    }\n",
              "\n",
              "    .dataframe tbody tr th {\n",
              "        vertical-align: top;\n",
              "    }\n",
              "\n",
              "    .dataframe thead th {\n",
              "        text-align: right;\n",
              "    }\n",
              "</style>\n",
              "<table border=\"1\" class=\"dataframe\">\n",
              "  <thead>\n",
              "    <tr style=\"text-align: right;\">\n",
              "      <th></th>\n",
              "      <th>red</th>\n",
              "      <th>green</th>\n",
              "      <th>blue</th>\n",
              "    </tr>\n",
              "  </thead>\n",
              "  <tbody>\n",
              "    <tr>\n",
              "      <th>5</th>\n",
              "      <td>199</td>\n",
              "      <td>150</td>\n",
              "      <td>175</td>\n",
              "    </tr>\n",
              "    <tr>\n",
              "      <th>11</th>\n",
              "      <td>249</td>\n",
              "      <td>99</td>\n",
              "      <td>108</td>\n",
              "    </tr>\n",
              "    <tr>\n",
              "      <th>13</th>\n",
              "      <td>180</td>\n",
              "      <td>134</td>\n",
              "      <td>41</td>\n",
              "    </tr>\n",
              "    <tr>\n",
              "      <th>17</th>\n",
              "      <td>249</td>\n",
              "      <td>15</td>\n",
              "      <td>198</td>\n",
              "    </tr>\n",
              "    <tr>\n",
              "      <th>21</th>\n",
              "      <td>159</td>\n",
              "      <td>253</td>\n",
              "      <td>91</td>\n",
              "    </tr>\n",
              "    <tr>\n",
              "      <th>...</th>\n",
              "      <td>...</td>\n",
              "      <td>...</td>\n",
              "      <td>...</td>\n",
              "    </tr>\n",
              "    <tr>\n",
              "      <th>5042</th>\n",
              "      <td>21</td>\n",
              "      <td>21</td>\n",
              "      <td>21</td>\n",
              "    </tr>\n",
              "    <tr>\n",
              "      <th>5043</th>\n",
              "      <td>22</td>\n",
              "      <td>22</td>\n",
              "      <td>22</td>\n",
              "    </tr>\n",
              "    <tr>\n",
              "      <th>5046</th>\n",
              "      <td>25</td>\n",
              "      <td>25</td>\n",
              "      <td>25</td>\n",
              "    </tr>\n",
              "    <tr>\n",
              "      <th>5047</th>\n",
              "      <td>26</td>\n",
              "      <td>26</td>\n",
              "      <td>26</td>\n",
              "    </tr>\n",
              "    <tr>\n",
              "      <th>5050</th>\n",
              "      <td>29</td>\n",
              "      <td>29</td>\n",
              "      <td>29</td>\n",
              "    </tr>\n",
              "  </tbody>\n",
              "</table>\n",
              "<p>1010 rows × 3 columns</p>\n",
              "</div>"
            ],
            "text/plain": [
              "      red  green  blue\n",
              "5     199    150   175\n",
              "11    249     99   108\n",
              "13    180    134    41\n",
              "17    249     15   198\n",
              "21    159    253    91\n",
              "...   ...    ...   ...\n",
              "5042   21     21    21\n",
              "5043   22     22    22\n",
              "5046   25     25    25\n",
              "5047   26     26    26\n",
              "5050   29     29    29\n",
              "\n",
              "[1010 rows x 3 columns]"
            ]
          },
          "execution_count": 20,
          "metadata": {
            "tags": []
          },
          "output_type": "execute_result"
        }
      ],
      "source": [
        "test_dataset"
      ]
    },
    {
      "cell_type": "markdown",
      "metadata": {
        "colab_type": "text",
        "id": "gPXdgIZ_TU04"
      },
      "source": [
        "# Build & Compile the Model"
      ]
    },
    {
      "cell_type": "markdown",
      "metadata": {
        "colab_type": "text",
        "id": "f5JljEapUR_T"
      },
      "source": [
        "## Set up the layers"
      ]
    },
    {
      "cell_type": "code",
      "execution_count": null,
      "metadata": {
        "colab": {},
        "colab_type": "code",
        "id": "RKh634-eTXgC"
      },
      "outputs": [],
      "source": [
        "from keras import regularizers\n",
        "model = keras.Sequential([\n",
        "    layers.Dense(3, kernel_regularizer=regularizers.l2(0.001), activation='relu', input_shape=[len(train_dataset.keys())]), #inputshape=[3] # First hidden layer: 3 neurons\n",
        "    layers.Dense(24, kernel_regularizer=regularizers.l2(0.001), activation='relu'), # Second hidden layer: 24 neurons\n",
        "    layers.Dense(24, kernel_regularizer=regularizers.l2(0.001), activation='relu'), # Third hidden layer: 24 neurons\n",
        "    layers.Dense(16, kernel_regularizer=regularizers.l2(0.001), activation='relu'), # Fourth hidden layer: 16 neurons\n",
        "    layers.Dense(11) # Output layer: 11 neurons\n",
        "  ])"
      ]
    },
    {
      "cell_type": "markdown",
      "metadata": {
        "colab_type": "text",
        "id": "fCD_Pm6gUaxQ"
      },
      "source": [
        "## Compile the model"
      ]
    },
    {
      "cell_type": "code",
      "execution_count": null,
      "metadata": {
        "colab": {},
        "colab_type": "code",
        "id": "WtENxFDvUVSS"
      },
      "outputs": [],
      "source": [
        "optimizer = keras.optimizers.Adam(learning_rate=0.001)\n",
        "loss_function = tf.keras.losses.CategoricalCrossentropy(from_logits=True)\n",
        "\n",
        "model.compile(loss=loss_function,\n",
        "                optimizer=optimizer,\n",
        "                metrics=['accuracy']) # This sets the metric that will be monitored during training and evaluation.\n",
        "\n",
        "\n",
        "# Parameters=(Input Features×Neurons)+ Bias Terms"
      ]
    },
    {
      "cell_type": "code",
      "execution_count": null,
      "metadata": {
        "colab": {
          "base_uri": "https://localhost:8080/",
          "height": 323
        },
        "colab_type": "code",
        "id": "gs8DaJPKWV1f",
        "outputId": "5c744b93-58df-413b-d2b3-ab770417d73d"
      },
      "outputs": [
        {
          "name": "stdout",
          "output_type": "stream",
          "text": [
            "Model: \"sequential\"\n",
            "_________________________________________________________________\n",
            "Layer (type)                 Output Shape              Param #   \n",
            "=================================================================\n",
            "dense (Dense)                (None, 3)                 12        \n",
            "_________________________________________________________________\n",
            "dense_1 (Dense)              (None, 24)                96        \n",
            "_________________________________________________________________\n",
            "dense_2 (Dense)              (None, 24)                600       \n",
            "_________________________________________________________________\n",
            "dense_3 (Dense)              (None, 16)                400       \n",
            "_________________________________________________________________\n",
            "dense_4 (Dense)              (None, 11)                187       \n",
            "=================================================================\n",
            "Total params: 1,295\n",
            "Trainable params: 1,295\n",
            "Non-trainable params: 0\n",
            "_________________________________________________________________\n"
          ]
        }
      ],
      "source": [
        "model.summary()"
      ]
    },
    {
      "cell_type": "markdown",
      "metadata": {
        "colab_type": "text",
        "id": "BcBpbVrsV6pq"
      },
      "source": [
        "Param #\n",
        "\n",
        "first layer: 3inputs\\*3neurons + 1bias at each neuron = 3\\*3 + 1\\*3 = 12\n",
        "\n",
        "second layer: 3inputs*24neurons +24biases = 72+24 = 96\n",
        "\n",
        "third layer: 24inputs*24neurons +24biases = 576+24 = 600\n",
        "\n",
        "fourth layer: 24inputs*16neurons +16biases = 384+16 = 400\n",
        "\n",
        "fifth layer: 16inputs*11neurons +11biases = 176+11 = 187"
      ]
    },
    {
      "cell_type": "markdown",
      "metadata": {
        "colab_type": "text",
        "id": "lz09-vP3WeYg"
      },
      "source": [
        "## Train the model"
      ]
    },
    {
      "cell_type": "code",
      "execution_count": null,
      "metadata": {
        "colab": {
          "base_uri": "https://localhost:8080/",
          "height": 1000
        },
        "colab_type": "code",
        "id": "6vYbpLvlWbK-",
        "outputId": "9779977f-f3e5-4f27-ba52-073a11235000"
      },
      "outputs": [
        {
          "name": "stdout",
          "output_type": "stream",
          "text": [
            "\n",
            "Epoch: 0, accuracy:0.0334,  loss:8.4276,  val_accuracy:0.0358,  val_loss:7.3572,  \n",
            "....................................................................................................\n",
            "Epoch: 100, accuracy:0.6270,  loss:1.0215,  val_accuracy:0.6366,  val_loss:1.0345,  \n",
            "....................................................................................................\n",
            "Epoch: 200, accuracy:0.7062,  loss:0.7494,  val_accuracy:0.7145,  val_loss:0.7833,  \n",
            "....................................................................................................\n",
            "Epoch: 300, accuracy:0.7510,  loss:0.6516,  val_accuracy:0.7429,  val_loss:0.6872,  \n",
            "....................................................................................................\n",
            "Epoch: 400, accuracy:0.7689,  loss:0.6024,  val_accuracy:0.7540,  val_loss:0.6418,  \n",
            "....................................................................................................\n",
            "Epoch: 500, accuracy:0.7847,  loss:0.5749,  val_accuracy:0.7701,  val_loss:0.6198,  \n",
            "....................................................................................................\n",
            "Epoch: 600, accuracy:0.8045,  loss:0.5389,  val_accuracy:0.7750,  val_loss:0.5856,  \n",
            "....................................................................................................\n",
            "Epoch: 700, accuracy:0.8209,  loss:0.4998,  val_accuracy:0.8072,  val_loss:0.5554,  \n",
            "....................................................................................................\n",
            "Epoch: 800, accuracy:0.8274,  loss:0.4705,  val_accuracy:0.8059,  val_loss:0.5137,  \n",
            "....................................................................................................\n",
            "Epoch: 900, accuracy:0.8370,  loss:0.4420,  val_accuracy:0.8183,  val_loss:0.4897,  \n",
            "....................................................................................................\n",
            "Epoch: 1000, accuracy:0.8494,  loss:0.4255,  val_accuracy:0.8356,  val_loss:0.4681,  \n",
            "....................................................................................................\n",
            "Epoch: 1100, accuracy:0.8472,  loss:0.4091,  val_accuracy:0.8245,  val_loss:0.4614,  \n",
            "....................................................................................................\n",
            "Epoch: 1200, accuracy:0.8521,  loss:0.3984,  val_accuracy:0.8393,  val_loss:0.4406,  \n",
            "....................................................................................................\n",
            "Epoch: 1300, accuracy:0.8586,  loss:0.3842,  val_accuracy:0.8480,  val_loss:0.4224,  \n",
            "....................................................................................................\n",
            "Epoch: 1400, accuracy:0.8596,  loss:0.3699,  val_accuracy:0.8455,  val_loss:0.4129,  \n",
            "....................................................................................................\n",
            "Epoch: 1500, accuracy:0.8713,  loss:0.3529,  val_accuracy:0.8541,  val_loss:0.3939,  \n",
            "....................................................................................................\n",
            "Epoch: 1600, accuracy:0.8750,  loss:0.3450,  val_accuracy:0.8566,  val_loss:0.3943,  \n",
            "....................................................................................................\n",
            "Epoch: 1700, accuracy:0.8784,  loss:0.3357,  val_accuracy:0.8554,  val_loss:0.3828,  \n",
            "....................................................................................................\n",
            "Epoch: 1800, accuracy:0.8747,  loss:0.3414,  val_accuracy:0.8616,  val_loss:0.3891,  \n",
            "....................................................................................................\n",
            "Epoch: 1900, accuracy:0.8859,  loss:0.3183,  val_accuracy:0.8628,  val_loss:0.3796,  \n",
            "....................................................................................................\n",
            "Epoch: 2000, accuracy:0.8865,  loss:0.3107,  val_accuracy:0.8653,  val_loss:0.3698,  \n",
            "....................................................................................................\n",
            "Epoch: 2100, accuracy:0.8862,  loss:0.3072,  val_accuracy:0.8640,  val_loss:0.3656,  \n",
            "....................................................................................................\n",
            "Epoch: 2200, accuracy:0.8945,  loss:0.3024,  val_accuracy:0.8702,  val_loss:0.3664,  \n",
            "....................................................................................................\n",
            "Epoch: 2300, accuracy:0.8908,  loss:0.3008,  val_accuracy:0.8653,  val_loss:0.3622,  \n",
            "....................................................................................................\n",
            "Epoch: 2400, accuracy:0.8936,  loss:0.2962,  val_accuracy:0.8591,  val_loss:0.3725,  \n",
            "....................................................................................................\n",
            "Epoch: 2500, accuracy:0.8908,  loss:0.2966,  val_accuracy:0.8665,  val_loss:0.3648,  \n",
            "....................................................................................................\n",
            "Epoch: 2600, accuracy:0.8939,  loss:0.2915,  val_accuracy:0.8690,  val_loss:0.3629,  \n",
            "....................................................................................................\n",
            "Epoch: 2700, accuracy:0.8914,  loss:0.2943,  val_accuracy:0.8677,  val_loss:0.3721,  \n",
            "....................................................................................................\n",
            "Epoch: 2800, accuracy:0.8911,  loss:0.2966,  val_accuracy:0.8690,  val_loss:0.3616,  \n",
            "....................................................................................................\n",
            "Epoch: 2900, accuracy:0.8942,  loss:0.2913,  val_accuracy:0.8714,  val_loss:0.3616,  \n",
            "....................................................................................................\n",
            "Epoch: 3000, accuracy:0.8973,  loss:0.2887,  val_accuracy:0.8690,  val_loss:0.3612,  \n",
            "....................................................................................................\n",
            "Epoch: 3100, accuracy:0.8927,  loss:0.2904,  val_accuracy:0.8640,  val_loss:0.3559,  \n",
            "....................................................................................................\n",
            "Epoch: 3200, accuracy:0.8989,  loss:0.2880,  val_accuracy:0.8665,  val_loss:0.3583,  \n",
            "....................................................................................................\n",
            "Epoch: 3300, accuracy:0.9010,  loss:0.2837,  val_accuracy:0.8665,  val_loss:0.3620,  \n",
            "....................................................................................................\n",
            "Epoch: 3400, accuracy:0.8979,  loss:0.2874,  val_accuracy:0.8702,  val_loss:0.3552,  \n",
            "....................................................................................................\n",
            "Epoch: 3500, accuracy:0.9026,  loss:0.2812,  val_accuracy:0.8677,  val_loss:0.3575,  \n",
            "....................................................................................................\n",
            "Epoch: 3600, accuracy:0.9041,  loss:0.2796,  val_accuracy:0.8690,  val_loss:0.3601,  \n",
            "....................................................................................................\n",
            "Epoch: 3700, accuracy:0.9026,  loss:0.2802,  val_accuracy:0.8640,  val_loss:0.3566,  \n",
            "....................................................................................................\n",
            "Epoch: 3800, accuracy:0.9010,  loss:0.2801,  val_accuracy:0.8690,  val_loss:0.3622,  \n",
            "....................................................................................................\n",
            "Epoch: 3900, accuracy:0.9032,  loss:0.2788,  val_accuracy:0.8665,  val_loss:0.3568,  \n",
            "....................................................................................................\n",
            "Epoch: 4000, accuracy:0.9050,  loss:0.2790,  val_accuracy:0.8727,  val_loss:0.3550,  \n",
            "....................................................................................................\n",
            "Epoch: 4100, accuracy:0.8979,  loss:0.2871,  val_accuracy:0.8702,  val_loss:0.3542,  \n",
            "....................................................................................................\n",
            "Epoch: 4200, accuracy:0.9038,  loss:0.2771,  val_accuracy:0.8665,  val_loss:0.3564,  \n",
            "....................................................................................................\n",
            "Epoch: 4300, accuracy:0.9019,  loss:0.2765,  val_accuracy:0.8677,  val_loss:0.3636,  \n",
            "....................................................................................................\n",
            "Epoch: 4400, accuracy:0.9007,  loss:0.2784,  val_accuracy:0.8628,  val_loss:0.3634,  \n",
            "....................................................................................................\n",
            "Epoch: 4500, accuracy:0.9010,  loss:0.2806,  val_accuracy:0.8702,  val_loss:0.3612,  \n",
            "....................................................................................................\n",
            "Epoch: 4600, accuracy:0.9004,  loss:0.2756,  val_accuracy:0.8653,  val_loss:0.3589,  \n",
            "....................................................................................................\n",
            "Epoch: 4700, accuracy:0.9050,  loss:0.2735,  val_accuracy:0.8739,  val_loss:0.3574,  \n",
            "....................................................................................................\n",
            "Epoch: 4800, accuracy:0.9047,  loss:0.2751,  val_accuracy:0.8690,  val_loss:0.3605,  \n",
            "....................................................................................................\n",
            "Epoch: 4900, accuracy:0.9035,  loss:0.2732,  val_accuracy:0.8702,  val_loss:0.3563,  \n",
            "....................................................................................................\n",
            "Epoch: 5000, accuracy:0.9032,  loss:0.2764,  val_accuracy:0.8677,  val_loss:0.3590,  \n",
            "."
          ]
        }
      ],
      "source": [
        "history = model.fit(x=train_dataset, y=train_labels, \n",
        "                    validation_split=0.2, # 20% of the training data is used for validation\n",
        "                    epochs=5001, # the model will go through the entire training dataset 5,001 times.\n",
        "                    batch_size=2048, # the model will update the weights after processing 2,048 samples.\n",
        "                    verbose=0, # no output will be displayed during training.\n",
        "                    callbacks=[tfdocs.modeling.EpochDots()],  # This callback prints a . for each epoch, with a full set of metrics every 100 epochs.\n",
        "                    shuffle=True) # the training data will be shuffled before each epoch."
      ]
    },
    {
      "cell_type": "code",
      "execution_count": null,
      "metadata": {
        "colab": {
          "base_uri": "https://localhost:8080/",
          "height": 204
        },
        "colab_type": "code",
        "id": "IOUa3rnHYZHP",
        "outputId": "bfa3428e-6064-4c89-d4d0-0b5321be348d"
      },
      "outputs": [
        {
          "data": {
            "text/html": [
              "<div>\n",
              "<style scoped>\n",
              "    .dataframe tbody tr th:only-of-type {\n",
              "        vertical-align: middle;\n",
              "    }\n",
              "\n",
              "    .dataframe tbody tr th {\n",
              "        vertical-align: top;\n",
              "    }\n",
              "\n",
              "    .dataframe thead th {\n",
              "        text-align: right;\n",
              "    }\n",
              "</style>\n",
              "<table border=\"1\" class=\"dataframe\">\n",
              "  <thead>\n",
              "    <tr style=\"text-align: right;\">\n",
              "      <th></th>\n",
              "      <th>loss</th>\n",
              "      <th>accuracy</th>\n",
              "      <th>val_loss</th>\n",
              "      <th>val_accuracy</th>\n",
              "      <th>epoch</th>\n",
              "    </tr>\n",
              "  </thead>\n",
              "  <tbody>\n",
              "    <tr>\n",
              "      <th>4996</th>\n",
              "      <td>0.275708</td>\n",
              "      <td>0.898856</td>\n",
              "      <td>0.352302</td>\n",
              "      <td>0.871446</td>\n",
              "      <td>4996</td>\n",
              "    </tr>\n",
              "    <tr>\n",
              "      <th>4997</th>\n",
              "      <td>0.272850</td>\n",
              "      <td>0.902877</td>\n",
              "      <td>0.356521</td>\n",
              "      <td>0.864030</td>\n",
              "      <td>4997</td>\n",
              "    </tr>\n",
              "    <tr>\n",
              "      <th>4998</th>\n",
              "      <td>0.274366</td>\n",
              "      <td>0.904114</td>\n",
              "      <td>0.354394</td>\n",
              "      <td>0.866502</td>\n",
              "      <td>4998</td>\n",
              "    </tr>\n",
              "    <tr>\n",
              "      <th>4999</th>\n",
              "      <td>0.274568</td>\n",
              "      <td>0.899783</td>\n",
              "      <td>0.355068</td>\n",
              "      <td>0.867738</td>\n",
              "      <td>4999</td>\n",
              "    </tr>\n",
              "    <tr>\n",
              "      <th>5000</th>\n",
              "      <td>0.276410</td>\n",
              "      <td>0.903186</td>\n",
              "      <td>0.359033</td>\n",
              "      <td>0.867738</td>\n",
              "      <td>5000</td>\n",
              "    </tr>\n",
              "  </tbody>\n",
              "</table>\n",
              "</div>"
            ],
            "text/plain": [
              "          loss  accuracy  val_loss  val_accuracy  epoch\n",
              "4996  0.275708  0.898856  0.352302      0.871446   4996\n",
              "4997  0.272850  0.902877  0.356521      0.864030   4997\n",
              "4998  0.274366  0.904114  0.354394      0.866502   4998\n",
              "4999  0.274568  0.899783  0.355068      0.867738   4999\n",
              "5000  0.276410  0.903186  0.359033      0.867738   5000"
            ]
          },
          "execution_count": 28,
          "metadata": {
            "tags": []
          },
          "output_type": "execute_result"
        }
      ],
      "source": [
        "hist = pd.DataFrame(history.history)\n",
        "hist['epoch'] = history.epoch\n",
        "hist.tail()"
      ]
    },
    {
      "cell_type": "code",
      "execution_count": null,
      "metadata": {
        "colab": {},
        "colab_type": "code",
        "id": "Ys1G6EVPZeWn"
      },
      "outputs": [],
      "source": [
        "plotter = tfdocs.plots.HistoryPlotter(smoothing_std=2)"
      ]
    },
    {
      "cell_type": "code",
      "execution_count": null,
      "metadata": {
        "colab": {
          "base_uri": "https://localhost:8080/",
          "height": 300
        },
        "colab_type": "code",
        "id": "r0re9qhzZiGy",
        "outputId": "a9f2ffb2-b765-475c-ae24-0755496296ea"
      },
      "outputs": [
        {
          "data": {
            "text/plain": [
              "Text(0, 0.5, 'accuracy [Color]')"
            ]
          },
          "execution_count": 30,
          "metadata": {
            "tags": []
          },
          "output_type": "execute_result"
        },
        {
          "data": {
            "image/png": "[encoded data removed]",
            "text/plain": [
              "<Figure size 432x288 with 1 Axes>"
            ]
          },
          "metadata": {
            "needs_background": "light",
            "tags": []
          },
          "output_type": "display_data"
        }
      ],
      "source": [
        "plotter.plot({'Basic': history}, metric = \"accuracy\")\n",
        "plt.ylim([0, 1])\n",
        "plt.ylabel('accuracy [Color]')"
      ]
    },
    {
      "cell_type": "code",
      "execution_count": null,
      "metadata": {
        "colab": {
          "base_uri": "https://localhost:8080/",
          "height": 300
        },
        "colab_type": "code",
        "id": "JHbf7wC1j4ch",
        "outputId": "ddd3a435-d30c-4b23-dd93-8d03b529cd0a"
      },
      "outputs": [
        {
          "data": {
            "text/plain": [
              "Text(0, 0.5, 'loss [Color]')"
            ]
          },
          "execution_count": 31,
          "metadata": {
            "tags": []
          },
          "output_type": "execute_result"
        },
        {
          "data": {
            "image/png": "[encoded data removed]",
            "text/plain": [
              "<Figure size 432x288 with 1 Axes>"
            ]
          },
          "metadata": {
            "needs_background": "light",
            "tags": []
          },
          "output_type": "display_data"
        }
      ],
      "source": [
        "plotter.plot({'Basic': history}, metric = \"loss\")\n",
        "plt.ylim([0, 1])\n",
        "plt.ylabel('loss [Color]')"
      ]
    },
    {
      "cell_type": "markdown",
      "metadata": {
        "colab_type": "text",
        "id": "7TBuP3rL3dG9"
      },
      "source": [
        "# Save Model"
      ]
    },
    {
      "cell_type": "code",
      "execution_count": null,
      "metadata": {
        "colab": {},
        "colab_type": "code",
        "id": "KCKkwLGA3dct"
      },
      "outputs": [],
      "source": [
        "#Install PyDrive library into Google Colab notebook\n",
        "!pip install -U -q PyDrive\n",
        "from pydrive.auth import GoogleAuth\n",
        "from pydrive.drive import GoogleDrive \n",
        "from google.colab import auth \n",
        "from oauth2client.client import GoogleCredentials"
      ]
    },
    {
      "cell_type": "code",
      "execution_count": null,
      "metadata": {
        "colab": {},
        "colab_type": "code",
        "id": "IesvceMJ3xmr"
      },
      "outputs": [],
      "source": [
        "#Authenticate and create the PyDrive client\n",
        "auth.authenticate_user()\n",
        "gauth = GoogleAuth()\n",
        "gauth.credentials = GoogleCredentials.get_application_default()                       \n",
        "drive = GoogleDrive(gauth)"
      ]
    },
    {
      "cell_type": "code",
      "execution_count": null,
      "metadata": {
        "colab": {
          "base_uri": "https://localhost:8080/",
          "height": 85
        },
        "colab_type": "code",
        "id": "Jc2idwd432Uj",
        "outputId": "100e32fa-ac60-4cb7-ab50-71fdd9219cba"
      },
      "outputs": [
        {
          "name": "stdout",
          "output_type": "stream",
          "text": [
            "Requirement already satisfied: pyyaml in /usr/local/lib/python3.6/dist-packages (3.13)\n",
            "Requirement already satisfied: h5py in /usr/local/lib/python3.6/dist-packages (2.10.0)\n",
            "Requirement already satisfied: numpy>=1.7 in /usr/local/lib/python3.6/dist-packages (from h5py) (1.18.5)\n",
            "Requirement already satisfied: six in /usr/local/lib/python3.6/dist-packages (from h5py) (1.15.0)\n"
          ]
        }
      ],
      "source": [
        "!pip install pyyaml h5py  # Required to save models in HDF5 format"
      ]
    },
    {
      "cell_type": "code",
      "execution_count": null,
      "metadata": {
        "colab": {},
        "colab_type": "code",
        "id": "ELYSzs2V34tr"
      },
      "outputs": [],
      "source": [
        "# Save Model or weights on google drive and create on Colab directory in Google Drive\n",
        "\n",
        "# Save the entire model to a HDF5 file.\n",
        "# The '.h5' extension indicates that the model should be saved to HDF5.\n",
        "model.save('colormodel_acu_90.h5')\n",
        "model_file = drive.CreateFile({'title' : 'colormodel_acu_90.h5'}) # colormodel_acu_  .h5 is the name of the model uploaded to Drive                   \n",
        "model_file.SetContentFile('colormodel_acu_90.h5')                       \n",
        "model_file.Upload()"
      ]
    },
    {
      "cell_type": "code",
      "execution_count": null,
      "metadata": {
        "colab": {
          "base_uri": "https://localhost:8080/",
          "height": 34
        },
        "colab_type": "code",
        "id": "TnzOoZq6N4ih",
        "outputId": "29633af6-b161-4ca0-c1ba-a8ea6f6ec4d0"
      },
      "outputs": [
        {
          "data": {
            "text/plain": [
              "GoogleDriveFile({'id': '1c9XD2Xex-94pEjEyjrZLBR-qo5CwsYMH'})"
            ]
          },
          "execution_count": 56,
          "metadata": {
            "tags": []
          },
          "output_type": "execute_result"
        }
      ],
      "source": [
        "# download to google drive                       \n",
        "drive.CreateFile({'id': model_file.get('id')}) ### very important to run this last cell for loading the model in new notebook"
      ]
    },
    {
      "cell_type": "code",
      "execution_count": null,
      "metadata": {
        "colab": {},
        "colab_type": "code",
        "id": "u2atLZGfOAla"
      },
      "outputs": [],
      "source": [
        "#Load model from google drive into colab\n",
        "file_obj = drive.CreateFile({'id': '1c9XD2Xex-94pEjEyjrZLBR-qo5CwsYMH'})                       \n",
        "file_obj.GetContentFile('colormodel_trained_90.h5') #colormodel_trained.h5 is the name of model uploaded to colab"
      ]
    },
    {
      "cell_type": "code",
      "execution_count": null,
      "metadata": {
        "colab": {
          "base_uri": "https://localhost:8080/",
          "height": 51
        },
        "colab_type": "code",
        "id": "ISG3PgtS661E",
        "outputId": "11b6a9f2-8a15-4358-85a5-5bfd780d03a6"
      },
      "outputs": [
        {
          "name": "stdout",
          "output_type": "stream",
          "text": [
            "adc.json              colormodel_acu_90.h5      final_data.csv\n",
            "colormodel_acu_89.h5  colormodel_trained_90.h5  \u001b[0m\u001b[01;34msample_data\u001b[0m/\n"
          ]
        }
      ],
      "source": [
        "ls"
      ]
    },
    {
      "cell_type": "code",
      "execution_count": null,
      "metadata": {
        "colab": {
          "base_uri": "https://localhost:8080/",
          "height": 323
        },
        "colab_type": "code",
        "id": "l5LlE9uOjljp",
        "outputId": "b12745b9-177d-4d82-83db-1d28237dc451"
      },
      "outputs": [
        {
          "name": "stdout",
          "output_type": "stream",
          "text": [
            "Model: \"sequential\"\n",
            "_________________________________________________________________\n",
            "Layer (type)                 Output Shape              Param #   \n",
            "=================================================================\n",
            "dense (Dense)                (None, 3)                 12        \n",
            "_________________________________________________________________\n",
            "dense_1 (Dense)              (None, 24)                96        \n",
            "_________________________________________________________________\n",
            "dense_2 (Dense)              (None, 24)                600       \n",
            "_________________________________________________________________\n",
            "dense_3 (Dense)              (None, 16)                400       \n",
            "_________________________________________________________________\n",
            "dense_4 (Dense)              (None, 11)                187       \n",
            "=================================================================\n",
            "Total params: 1,295\n",
            "Trainable params: 1,295\n",
            "Non-trainable params: 0\n",
            "_________________________________________________________________\n"
          ]
        }
      ],
      "source": [
        "# Recreate the exact same model, including its weights and the optimizer\n",
        "model = tf.keras.models.load_model('colormodel_trained_90.h5') #very important\n",
        "\n",
        "# Show the model architecture\n",
        "model.summary()"
      ]
    },
    {
      "cell_type": "markdown",
      "metadata": {
        "colab_type": "text",
        "id": "7GrAHGTk6lvT"
      },
      "source": [
        "# Make Prediction"
      ]
    },
    {
      "cell_type": "markdown",
      "metadata": {
        "colab_type": "text",
        "id": "bJoCCgusn1bM"
      },
      "source": [
        "The prediction by the ANN model is an array of 11 numbers. \n",
        "\n",
        "They represent the model's \"confidence\" that the RGB color corresponds to each of the 11 different classes of color as follows:\n",
        "\n",
        "* 0 for Red\n",
        "* 1 for Green\n",
        "* 2 for Blue \n",
        "* 3 for Yellow\n",
        "* 4 for Orange\n",
        "* 5 for Pink\n",
        "* 6 for Purple\n",
        "* 7 for Brown\n",
        "* 8 for Grey\n",
        "* 9 for Black\n",
        "* 10 for White \n",
        "\n",
        "\n",
        "\n",
        "\n",
        "You can see which out of the 11 labels has the highest confidence value "
      ]
    },
    {
      "cell_type": "markdown",
      "metadata": {
        "colab_type": "text",
        "id": "tcvavsyCwHEs"
      },
      "source": [
        "## Train Dataset Prediction"
      ]
    },
    {
      "cell_type": "code",
      "execution_count": null,
      "metadata": {
        "colab": {
          "base_uri": "https://localhost:8080/",
          "height": 238
        },
        "colab_type": "code",
        "id": "hTekMPXwBgbk",
        "outputId": "fabe9b7f-a99d-439b-b1a0-6d576524dae3"
      },
      "outputs": [
        {
          "data": {
            "text/plain": [
              "array([[   6.6414285,  -10.715376 ,    7.608483 , ...,    4.3335853,\n",
              "         -27.685467 ,    2.1767297],\n",
              "       [  -7.101584 ,   39.32995  ,  -17.919071 , ...,   12.647608 ,\n",
              "         -81.99742  ,  -40.66754  ],\n",
              "       [   2.488012 ,  -20.27663  ,   17.728304 , ...,   -6.0555873,\n",
              "           1.9531192,  -13.140007 ],\n",
              "       ...,\n",
              "       [  -4.3495016,    9.806089 ,   -2.3537765, ...,   11.821397 ,\n",
              "         -24.579756 ,  -12.1771145],\n",
              "       [  -2.738946 ,  -12.031187 ,   16.35327  , ...,    5.5947495,\n",
              "         -15.198125 ,   -8.385141 ],\n",
              "       [   2.675357 ,   33.05732  ,  -20.956156 , ...,    2.6135037,\n",
              "        -146.58624  ,  -30.97173  ]], dtype=float32)"
            ]
          },
          "execution_count": 22,
          "metadata": {
            "tags": []
          },
          "output_type": "execute_result"
        }
      ],
      "source": [
        "train_predictions = model.predict(train_dataset)\n",
        "train_predictions"
      ]
    },
    {
      "cell_type": "markdown",
      "metadata": {
        "colab_type": "text",
        "id": "oCb5U39RutDc"
      },
      "source": [
        "### Selecting Class with highest confidence"
      ]
    },
    {
      "cell_type": "code",
      "execution_count": null,
      "metadata": {
        "colab": {
          "base_uri": "https://localhost:8080/",
          "height": 34
        },
        "colab_type": "code",
        "id": "FekJ3FSDlUdd",
        "outputId": "4daf704a-5696-4bc7-af62-d971dfddcd06"
      },
      "outputs": [
        {
          "data": {
            "text/plain": [
              "array([6, 3, 2, ..., 8, 6, 3])"
            ]
          },
          "execution_count": 23,
          "metadata": {
            "tags": []
          },
          "output_type": "execute_result"
        }
      ],
      "source": [
        "actual_encoded_train_labels = np.argmax(train_labels.to_numpy(), axis=1) #train_labels were originally in one-hot\n",
        "actual_encoded_train_labels"
      ]
    },
    {
      "cell_type": "code",
      "execution_count": null,
      "metadata": {
        "colab": {
          "base_uri": "https://localhost:8080/",
          "height": 34
        },
        "colab_type": "code",
        "id": "5Hwf0rUf7_v-",
        "outputId": "031c91dd-657e-4133-ebfd-42e0969063f7"
      },
      "outputs": [
        {
          "data": {
            "text/plain": [
              "array([6, 1, 2, ..., 8, 2, 3])"
            ]
          },
          "execution_count": 24,
          "metadata": {
            "tags": []
          },
          "output_type": "execute_result"
        }
      ],
      "source": [
        "predicted_encoded_train_labels = np.argmax(train_predictions, axis=1)\n",
        "predicted_encoded_train_labels"
      ]
    },
    {
      "cell_type": "markdown",
      "metadata": {
        "colab_type": "text",
        "id": "cHO_UhVauykL"
      },
      "source": [
        "### Converting numpy array to pandas dataframe"
      ]
    },
    {
      "cell_type": "code",
      "execution_count": null,
      "metadata": {
        "colab": {
          "base_uri": "https://localhost:8080/",
          "height": 419
        },
        "colab_type": "code",
        "id": "5LiS-igjsThR",
        "outputId": "1286f1c1-7d08-428c-f465-93a263a1fc37"
      },
      "outputs": [
        {
          "data": {
            "text/html": [
              "<div>\n",
              "<style scoped>\n",
              "    .dataframe tbody tr th:only-of-type {\n",
              "        vertical-align: middle;\n",
              "    }\n",
              "\n",
              "    .dataframe tbody tr th {\n",
              "        vertical-align: top;\n",
              "    }\n",
              "\n",
              "    .dataframe thead th {\n",
              "        text-align: right;\n",
              "    }\n",
              "</style>\n",
              "<table border=\"1\" class=\"dataframe\">\n",
              "  <thead>\n",
              "    <tr style=\"text-align: right;\">\n",
              "      <th></th>\n",
              "      <th>Labels</th>\n",
              "    </tr>\n",
              "  </thead>\n",
              "  <tbody>\n",
              "    <tr>\n",
              "      <th>0</th>\n",
              "      <td>6</td>\n",
              "    </tr>\n",
              "    <tr>\n",
              "      <th>1</th>\n",
              "      <td>3</td>\n",
              "    </tr>\n",
              "    <tr>\n",
              "      <th>2</th>\n",
              "      <td>2</td>\n",
              "    </tr>\n",
              "    <tr>\n",
              "      <th>3</th>\n",
              "      <td>1</td>\n",
              "    </tr>\n",
              "    <tr>\n",
              "      <th>4</th>\n",
              "      <td>5</td>\n",
              "    </tr>\n",
              "    <tr>\n",
              "      <th>...</th>\n",
              "      <td>...</td>\n",
              "    </tr>\n",
              "    <tr>\n",
              "      <th>4037</th>\n",
              "      <td>6</td>\n",
              "    </tr>\n",
              "    <tr>\n",
              "      <th>4038</th>\n",
              "      <td>0</td>\n",
              "    </tr>\n",
              "    <tr>\n",
              "      <th>4039</th>\n",
              "      <td>8</td>\n",
              "    </tr>\n",
              "    <tr>\n",
              "      <th>4040</th>\n",
              "      <td>6</td>\n",
              "    </tr>\n",
              "    <tr>\n",
              "      <th>4041</th>\n",
              "      <td>3</td>\n",
              "    </tr>\n",
              "  </tbody>\n",
              "</table>\n",
              "<p>4042 rows × 1 columns</p>\n",
              "</div>"
            ],
            "text/plain": [
              "      Labels\n",
              "0          6\n",
              "1          3\n",
              "2          2\n",
              "3          1\n",
              "4          5\n",
              "...      ...\n",
              "4037       6\n",
              "4038       0\n",
              "4039       8\n",
              "4040       6\n",
              "4041       3\n",
              "\n",
              "[4042 rows x 1 columns]"
            ]
          },
          "execution_count": 25,
          "metadata": {
            "tags": []
          },
          "output_type": "execute_result"
        }
      ],
      "source": [
        "actual_encoded_train_labels = pd.DataFrame(actual_encoded_train_labels, columns=['Labels'])\n",
        "actual_encoded_train_labels"
      ]
    },
    {
      "cell_type": "code",
      "execution_count": null,
      "metadata": {
        "colab": {
          "base_uri": "https://localhost:8080/",
          "height": 419
        },
        "colab_type": "code",
        "id": "dN7flvP3vOa_",
        "outputId": "07c7cc8a-a519-4aa1-e2d8-4a779b5d8650"
      },
      "outputs": [
        {
          "data": {
            "text/html": [
              "<div>\n",
              "<style scoped>\n",
              "    .dataframe tbody tr th:only-of-type {\n",
              "        vertical-align: middle;\n",
              "    }\n",
              "\n",
              "    .dataframe tbody tr th {\n",
              "        vertical-align: top;\n",
              "    }\n",
              "\n",
              "    .dataframe thead th {\n",
              "        text-align: right;\n",
              "    }\n",
              "</style>\n",
              "<table border=\"1\" class=\"dataframe\">\n",
              "  <thead>\n",
              "    <tr style=\"text-align: right;\">\n",
              "      <th></th>\n",
              "      <th>Labels</th>\n",
              "    </tr>\n",
              "  </thead>\n",
              "  <tbody>\n",
              "    <tr>\n",
              "      <th>0</th>\n",
              "      <td>6</td>\n",
              "    </tr>\n",
              "    <tr>\n",
              "      <th>1</th>\n",
              "      <td>1</td>\n",
              "    </tr>\n",
              "    <tr>\n",
              "      <th>2</th>\n",
              "      <td>2</td>\n",
              "    </tr>\n",
              "    <tr>\n",
              "      <th>3</th>\n",
              "      <td>1</td>\n",
              "    </tr>\n",
              "    <tr>\n",
              "      <th>4</th>\n",
              "      <td>5</td>\n",
              "    </tr>\n",
              "    <tr>\n",
              "      <th>...</th>\n",
              "      <td>...</td>\n",
              "    </tr>\n",
              "    <tr>\n",
              "      <th>4037</th>\n",
              "      <td>5</td>\n",
              "    </tr>\n",
              "    <tr>\n",
              "      <th>4038</th>\n",
              "      <td>0</td>\n",
              "    </tr>\n",
              "    <tr>\n",
              "      <th>4039</th>\n",
              "      <td>8</td>\n",
              "    </tr>\n",
              "    <tr>\n",
              "      <th>4040</th>\n",
              "      <td>2</td>\n",
              "    </tr>\n",
              "    <tr>\n",
              "      <th>4041</th>\n",
              "      <td>3</td>\n",
              "    </tr>\n",
              "  </tbody>\n",
              "</table>\n",
              "<p>4042 rows × 1 columns</p>\n",
              "</div>"
            ],
            "text/plain": [
              "      Labels\n",
              "0          6\n",
              "1          1\n",
              "2          2\n",
              "3          1\n",
              "4          5\n",
              "...      ...\n",
              "4037       5\n",
              "4038       0\n",
              "4039       8\n",
              "4040       2\n",
              "4041       3\n",
              "\n",
              "[4042 rows x 1 columns]"
            ]
          },
          "execution_count": 26,
          "metadata": {
            "tags": []
          },
          "output_type": "execute_result"
        }
      ],
      "source": [
        "predicted_encoded_train_labels = pd.DataFrame(predicted_encoded_train_labels, columns=['Labels'])\n",
        "predicted_encoded_train_labels"
      ]
    },
    {
      "cell_type": "markdown",
      "metadata": {
        "colab_type": "text",
        "id": "N8AyYkpd8F9O"
      },
      "source": [
        "### Visualize Prediction for Train Dataset"
      ]
    },
    {
      "cell_type": "code",
      "execution_count": null,
      "metadata": {
        "colab": {
          "base_uri": "https://localhost:8080/",
          "height": 542
        },
        "colab_type": "code",
        "id": "KBMLd2094oOa",
        "outputId": "25c83db6-b5ad-4511-9601-d2cc9c244bc3"
      },
      "outputs": [
        {
          "data": {
            "text/html": [
              "<html>\n",
              "<head><meta charset=\"utf-8\" /></head>\n",
              "<body>\n",
              "    <div>\n",
              "            <script src=\"https://cdnjs.cloudflare.com/ajax/libs/mathjax/2.7.5/MathJax.js?config=TeX-AMS-MML_SVG\"></script><script type=\"text/javascript\">if (window.MathJax) {MathJax.Hub.Config({SVG: {font: \"STIX-Web\"}});}</script>\n",
              "                <script type=\"text/javascript\">window.PlotlyConfig = {MathJaxConfig: 'local'};</script>\n",
              "        <script src=\"https://cdn.plot.ly/plotly-latest.min.js\"></script>    \n",
              "            <div id=\"406b134f-f203-4a5c-a9ba-fa54be1f38b8\" class=\"plotly-graph-div\" style=\"height:525px; width:100%;\"></div>\n",
              "            <script type=\"text/javascript\">\n",
              "                \n",
              "                    window.PLOTLYENV=window.PLOTLYENV || {};\n",
              "                    \n",
              "                if (document.getElementById(\"406b134f-f203-4a5c-a9ba-fa54be1f38b8\")) {\n",
              "                    Plotly.newPlot(\n",
              "                        '406b134f-f203-4a5c-a9ba-fa54be1f38b8',\n",
              "                        [{\"name\": \"Predicted Label\", \"type\": \"scatter\", \"x\": [0, 1, 2, 3, 4, 5, 6, 7, 8, 9, 10, 11, 12, 13, 14, 15, 16, 17, 18, 19, 20, 21, 22, 23, 24, 25, 26, 27, 28, 29, 30, 31, 32, 33, 34, 35, 36, 37, 38, 39, 40, 41, 42, 43, 44, 45, 46, 47, 48, 49, 50, 51, 52, 53, 54, 55, 56, 57, 58, 59, 60, 61, 62, 63, 64, 65, 66, 67, 68, 69, 70, 71, 72, 73, 74, 75, 76, 77, 78, 79, 80, 81, 82, 83, 84, 85, 86, 87, 88, 89, 90, 91, 92, 93, 94, 95, 96, 97, 98, 99, 100, 101, 102, 103, 104, 105, 106, 107, 108, 109, 110, 111, 112, 113, 114, 115, 116, 117, 118, 119, 120, 121, 122, 123, 124, 125, 126, 127, 128, 129, 130, 131, 132, 133, 134, 135, 136, 137, 138, 139, 140, 141, 142, 143, 144, 145, 146, 147, 148, 149, 150, 151, 152, 153, 154, 155, 156, 157, 158, 159, 160, 161, 162, 163, 164, 165, 166, 167, 168, 169, 170, 171, 172, 173, 174, 175, 176, 177, 178, 179, 180, 181, 182, 183, 184, 185, 186, 187, 188, 189, 190, 191, 192, 193, 194, 195, 196, 197, 198, 199, 200, 201, 202, 203, 204, 205, 206, 207, 208, 209, 210, 211, 212, 213, 214, 215, 216, 217, 218, 219, 220, 221, 222, 223, 224, 225, 226, 227, 228, 229, 230, 231, 232, 233, 234, 235, 236, 237, 238, 239, 240, 241, 242, 243, 244, 245, 246, 247, 248, 249, 250, 251, 252, 253, 254, 255, 256, 257, 258, 259, 260, 261, 262, 263, 264, 265, 266, 267, 268, 269, 270, 271, 272, 273, 274, 275, 276, 277, 278, 279, 280, 281, 282, 283, 284, 285, 286, 287, 288, 289, 290, 291, 292, 293, 294, 295, 296, 297, 298, 299, 300, 301, 302, 303, 304, 305, 306, 307, 308, 309, 310, 311, 312, 313, 314, 315, 316, 317, 318, 319, 320, 321, 322, 323, 324, 325, 326, 327, 328, 329, 330, 331, 332, 333, 334, 335, 336, 337, 338, 339, 340, 341, 342, 343, 344, 345, 346, 347, 348, 349, 350, 351, 352, 353, 354, 355, 356, 357, 358, 359, 360, 361, 362, 363, 364, 365, 366, 367, 368, 369, 370, 371, 372, 373, 374, 375, 376, 377, 378, 379, 380, 381, 382, 383, 384, 385, 386, 387, 388, 389, 390, 391, 392, 393, 394, 395, 396, 397, 398, 399, 400, 401, 402, 403, 404, 405, 406, 407, 408, 409, 410, 411, 412, 413, 414, 415, 416, 417, 418, 419, 420, 421, 422, 423, 424, 425, 426, 427, 428, 429, 430, 431, 432, 433, 434, 435, 436, 437, 438, 439, 440, 441, 442, 443, 444, 445, 446, 447, 448, 449, 450, 451, 452, 453, 454, 455, 456, 457, 458, 459, 460, 461, 462, 463, 464, 465, 466, 467, 468, 469, 470, 471, 472, 473, 474, 475, 476, 477, 478, 479, 480, 481, 482, 483, 484, 485, 486, 487, 488, 489, 490, 491, 492, 493, 494, 495, 496, 497, 498, 499, 500, 501, 502, 503, 504, 505, 506, 507, 508, 509, 510, 511, 512, 513, 514, 515, 516, 517, 518, 519, 520, 521, 522, 523, 524, 525, 526, 527, 528, 529, 530, 531, 532, 533, 534, 535, 536, 537, 538, 539, 540, 541, 542, 543, 544, 545, 546, 547, 548, 549, 550, 551, 552, 553, 554, 555, 556, 557, 558, 559, 560, 561, 562, 563, 564, 565, 566, 567, 568, 569, 570, 571, 572, 573, 574, 575, 576, 577, 578, 579, 580, 581, 582, 583, 584, 585, 586, 587, 588, 589, 590, 591, 592, 593, 594, 595, 596, 597, 598, 599, 600, 601, 602, 603, 604, 605, 606, 607, 608, 609, 610, 611, 612, 613, 614, 615, 616, 617, 618, 619, 620, 621, 622, 623, 624, 625, 626, 627, 628, 629, 630, 631, 632, 633, 634, 635, 636, 637, 638, 639, 640, 641, 642, 643, 644, 645, 646, 647, 648, 649, 650, 651, 652, 653, 654, 655, 656, 657, 658, 659, 660, 661, 662, 663, 664, 665, 666, 667, 668, 669, 670, 671, 672, 673, 674, 675, 676, 677, 678, 679, 680, 681, 682, 683, 684, 685, 686, 687, 688, 689, 690, 691, 692, 693, 694, 695, 696, 697, 698, 699, 700, 701, 702, 703, 704, 705, 706, 707, 708, 709, 710, 711, 712, 713, 714, 715, 716, 717, 718, 719, 720, 721, 722, 723, 724, 725, 726, 727, 728, 729, 730, 731, 732, 733, 734, 735, 736, 737, 738, 739, 740, 741, 742, 743, 744, 745, 746, 747, 748, 749, 750, 751, 752, 753, 754, 755, 756, 757, 758, 759, 760, 761, 762, 763, 764, 765, 766, 767, 768, 769, 770, 771, 772, 773, 774, 775, 776, 777, 778, 779, 780, 781, 782, 783, 784, 785, 786, 787, 788, 789, 790, 791, 792, 793, 794, 795, 796, 797, 798, 799, 800, 801, 802, 803, 804, 805, 806, 807, 808, 809, 810, 811, 812, 813, 814, 815, 816, 817, 818, 819, 820, 821, 822, 823, 824, 825, 826, 827, 828, 829, 830, 831, 832, 833, 834, 835, 836, 837, 838, 839, 840, 841, 842, 843, 844, 845, 846, 847, 848, 849, 850, 851, 852, 853, 854, 855, 856, 857, 858, 859, 860, 861, 862, 863, 864, 865, 866, 867, 868, 869, 870, 871, 872, 873, 874, 875, 876, 877, 878, 879, 880, 881, 882, 883, 884, 885, 886, 887, 888, 889, 890, 891, 892, 893, 894, 895, 896, 897, 898, 899, 900, 901, 902, 903, 904, 905, 906, 907, 908, 909, 910, 911, 912, 913, 914, 915, 916, 917, 918, 919, 920, 921, 922, 923, 924, 925, 926, 927, 928, 929, 930, 931, 932, 933, 934, 935, 936, 937, 938, 939, 940, 941, 942, 943, 944, 945, 946, 947, 948, 949, 950, 951, 952, 953, 954, 955, 956, 957, 958, 959, 960, 961, 962, 963, 964, 965, 966, 967, 968, 969, 970, 971, 972, 973, 974, 975, 976, 977, 978, 979, 980, 981, 982, 983, 984, 985, 986, 987, 988, 989, 990, 991, 992, 993, 994, 995, 996, 997, 998, 999, 1000, 1001, 1002, 1003, 1004, 1005, 1006, 1007, 1008, 1009, 1010, 1011, 1012, 1013, 1014, 1015, 1016, 1017, 1018, 1019, 1020, 1021, 1022, 1023, 1024, 1025, 1026, 1027, 1028, 1029, 1030, 1031, 1032, 1033, 1034, 1035, 1036, 1037, 1038, 1039, 1040, 1041, 1042, 1043, 1044, 1045, 1046, 1047, 1048, 1049, 1050, 1051, 1052, 1053, 1054, 1055, 1056, 1057, 1058, 1059, 1060, 1061, 1062, 1063, 1064, 1065, 1066, 1067, 1068, 1069, 1070, 1071, 1072, 1073, 1074, 1075, 1076, 1077, 1078, 1079, 1080, 1081, 1082, 1083, 1084, 1085, 1086, 1087, 1088, 1089, 1090, 1091, 1092, 1093, 1094, 1095, 1096, 1097, 1098, 1099, 1100, 1101, 1102, 1103, 1104, 1105, 1106, 1107, 1108, 1109, 1110, 1111, 1112, 1113, 1114, 1115, 1116, 1117, 1118, 1119, 1120, 1121, 1122, 1123, 1124, 1125, 1126, 1127, 1128, 1129, 1130, 1131, 1132, 1133, 1134, 1135, 1136, 1137, 1138, 1139, 1140, 1141, 1142, 1143, 1144, 1145, 1146, 1147, 1148, 1149, 1150, 1151, 1152, 1153, 1154, 1155, 1156, 1157, 1158, 1159, 1160, 1161, 1162, 1163, 1164, 1165, 1166, 1167, 1168, 1169, 1170, 1171, 1172, 1173, 1174, 1175, 1176, 1177, 1178, 1179, 1180, 1181, 1182, 1183, 1184, 1185, 1186, 1187, 1188, 1189, 1190, 1191, 1192, 1193, 1194, 1195, 1196, 1197, 1198, 1199, 1200, 1201, 1202, 1203, 1204, 1205, 1206, 1207, 1208, 1209, 1210, 1211, 1212, 1213, 1214, 1215, 1216, 1217, 1218, 1219, 1220, 1221, 1222, 1223, 1224, 1225, 1226, 1227, 1228, 1229, 1230, 1231, 1232, 1233, 1234, 1235, 1236, 1237, 1238, 1239, 1240, 1241, 1242, 1243, 1244, 1245, 1246, 1247, 1248, 1249, 1250, 1251, 1252, 1253, 1254, 1255, 1256, 1257, 1258, 1259, 1260, 1261, 1262, 1263, 1264, 1265, 1266, 1267, 1268, 1269, 1270, 1271, 1272, 1273, 1274, 1275, 1276, 1277, 1278, 1279, 1280, 1281, 1282, 1283, 1284, 1285, 1286, 1287, 1288, 1289, 1290, 1291, 1292, 1293, 1294, 1295, 1296, 1297, 1298, 1299, 1300, 1301, 1302, 1303, 1304, 1305, 1306, 1307, 1308, 1309, 1310, 1311, 1312, 1313, 1314, 1315, 1316, 1317, 1318, 1319, 1320, 1321, 1322, 1323, 1324, 1325, 1326, 1327, 1328, 1329, 1330, 1331, 1332, 1333, 1334, 1335, 1336, 1337, 1338, 1339, 1340, 1341, 1342, 1343, 1344, 1345, 1346, 1347, 1348, 1349, 1350, 1351, 1352, 1353, 1354, 1355, 1356, 1357, 1358, 1359, 1360, 1361, 1362, 1363, 1364, 1365, 1366, 1367, 1368, 1369, 1370, 1371, 1372, 1373, 1374, 1375, 1376, 1377, 1378, 1379, 1380, 1381, 1382, 1383, 1384, 1385, 1386, 1387, 1388, 1389, 1390, 1391, 1392, 1393, 1394, 1395, 1396, 1397, 1398, 1399, 1400, 1401, 1402, 1403, 1404, 1405, 1406, 1407, 1408, 1409, 1410, 1411, 1412, 1413, 1414, 1415, 1416, 1417, 1418, 1419, 1420, 1421, 1422, 1423, 1424, 1425, 1426, 1427, 1428, 1429, 1430, 1431, 1432, 1433, 1434, 1435, 1436, 1437, 1438, 1439, 1440, 1441, 1442, 1443, 1444, 1445, 1446, 1447, 1448, 1449, 1450, 1451, 1452, 1453, 1454, 1455, 1456, 1457, 1458, 1459, 1460, 1461, 1462, 1463, 1464, 1465, 1466, 1467, 1468, 1469, 1470, 1471, 1472, 1473, 1474, 1475, 1476, 1477, 1478, 1479, 1480, 1481, 1482, 1483, 1484, 1485, 1486, 1487, 1488, 1489, 1490, 1491, 1492, 1493, 1494, 1495, 1496, 1497, 1498, 1499, 1500, 1501, 1502, 1503, 1504, 1505, 1506, 1507, 1508, 1509, 1510, 1511, 1512, 1513, 1514, 1515, 1516, 1517, 1518, 1519, 1520, 1521, 1522, 1523, 1524, 1525, 1526, 1527, 1528, 1529, 1530, 1531, 1532, 1533, 1534, 1535, 1536, 1537, 1538, 1539, 1540, 1541, 1542, 1543, 1544, 1545, 1546, 1547, 1548, 1549, 1550, 1551, 1552, 1553, 1554, 1555, 1556, 1557, 1558, 1559, 1560, 1561, 1562, 1563, 1564, 1565, 1566, 1567, 1568, 1569, 1570, 1571, 1572, 1573, 1574, 1575, 1576, 1577, 1578, 1579, 1580, 1581, 1582, 1583, 1584, 1585, 1586, 1587, 1588, 1589, 1590, 1591, 1592, 1593, 1594, 1595, 1596, 1597, 1598, 1599, 1600, 1601, 1602, 1603, 1604, 1605, 1606, 1607, 1608, 1609, 1610, 1611, 1612, 1613, 1614, 1615, 1616, 1617, 1618, 1619, 1620, 1621, 1622, 1623, 1624, 1625, 1626, 1627, 1628, 1629, 1630, 1631, 1632, 1633, 1634, 1635, 1636, 1637, 1638, 1639, 1640, 1641, 1642, 1643, 1644, 1645, 1646, 1647, 1648, 1649, 1650, 1651, 1652, 1653, 1654, 1655, 1656, 1657, 1658, 1659, 1660, 1661, 1662, 1663, 1664, 1665, 1666, 1667, 1668, 1669, 1670, 1671, 1672, 1673, 1674, 1675, 1676, 1677, 1678, 1679, 1680, 1681, 1682, 1683, 1684, 1685, 1686, 1687, 1688, 1689, 1690, 1691, 1692, 1693, 1694, 1695, 1696, 1697, 1698, 1699, 1700, 1701, 1702, 1703, 1704, 1705, 1706, 1707, 1708, 1709, 1710, 1711, 1712, 1713, 1714, 1715, 1716, 1717, 1718, 1719, 1720, 1721, 1722, 1723, 1724, 1725, 1726, 1727, 1728, 1729, 1730, 1731, 1732, 1733, 1734, 1735, 1736, 1737, 1738, 1739, 1740, 1741, 1742, 1743, 1744, 1745, 1746, 1747, 1748, 1749, 1750, 1751, 1752, 1753, 1754, 1755, 1756, 1757, 1758, 1759, 1760, 1761, 1762, 1763, 1764, 1765, 1766, 1767, 1768, 1769, 1770, 1771, 1772, 1773, 1774, 1775, 1776, 1777, 1778, 1779, 1780, 1781, 1782, 1783, 1784, 1785, 1786, 1787, 1788, 1789, 1790, 1791, 1792, 1793, 1794, 1795, 1796, 1797, 1798, 1799, 1800, 1801, 1802, 1803, 1804, 1805, 1806, 1807, 1808, 1809, 1810, 1811, 1812, 1813, 1814, 1815, 1816, 1817, 1818, 1819, 1820, 1821, 1822, 1823, 1824, 1825, 1826, 1827, 1828, 1829, 1830, 1831, 1832, 1833, 1834, 1835, 1836, 1837, 1838, 1839, 1840, 1841, 1842, 1843, 1844, 1845, 1846, 1847, 1848, 1849, 1850, 1851, 1852, 1853, 1854, 1855, 1856, 1857, 1858, 1859, 1860, 1861, 1862, 1863, 1864, 1865, 1866, 1867, 1868, 1869, 1870, 1871, 1872, 1873, 1874, 1875, 1876, 1877, 1878, 1879, 1880, 1881, 1882, 1883, 1884, 1885, 1886, 1887, 1888, 1889, 1890, 1891, 1892, 1893, 1894, 1895, 1896, 1897, 1898, 1899, 1900, 1901, 1902, 1903, 1904, 1905, 1906, 1907, 1908, 1909, 1910, 1911, 1912, 1913, 1914, 1915, 1916, 1917, 1918, 1919, 1920, 1921, 1922, 1923, 1924, 1925, 1926, 1927, 1928, 1929, 1930, 1931, 1932, 1933, 1934, 1935, 1936, 1937, 1938, 1939, 1940, 1941, 1942, 1943, 1944, 1945, 1946, 1947, 1948, 1949, 1950, 1951, 1952, 1953, 1954, 1955, 1956, 1957, 1958, 1959, 1960, 1961, 1962, 1963, 1964, 1965, 1966, 1967, 1968, 1969, 1970, 1971, 1972, 1973, 1974, 1975, 1976, 1977, 1978, 1979, 1980, 1981, 1982, 1983, 1984, 1985, 1986, 1987, 1988, 1989, 1990, 1991, 1992, 1993, 1994, 1995, 1996, 1997, 1998, 1999, 2000, 2001, 2002, 2003, 2004, 2005, 2006, 2007, 2008, 2009, 2010, 2011, 2012, 2013, 2014, 2015, 2016, 2017, 2018, 2019, 2020, 2021, 2022, 2023, 2024, 2025, 2026, 2027, 2028, 2029, 2030, 2031, 2032, 2033, 2034, 2035, 2036, 2037, 2038, 2039, 2040, 2041, 2042, 2043, 2044, 2045, 2046, 2047, 2048, 2049, 2050, 2051, 2052, 2053, 2054, 2055, 2056, 2057, 2058, 2059, 2060, 2061, 2062, 2063, 2064, 2065, 2066, 2067, 2068, 2069, 2070, 2071, 2072, 2073, 2074, 2075, 2076, 2077, 2078, 2079, 2080, 2081, 2082, 2083, 2084, 2085, 2086, 2087, 2088, 2089, 2090, 2091, 2092, 2093, 2094, 2095, 2096, 2097, 2098, 2099, 2100, 2101, 2102, 2103, 2104, 2105, 2106, 2107, 2108, 2109, 2110, 2111, 2112, 2113, 2114, 2115, 2116, 2117, 2118, 2119, 2120, 2121, 2122, 2123, 2124, 2125, 2126, 2127, 2128, 2129, 2130, 2131, 2132, 2133, 2134, 2135, 2136, 2137, 2138, 2139, 2140, 2141, 2142, 2143, 2144, 2145, 2146, 2147, 2148, 2149, 2150, 2151, 2152, 2153, 2154, 2155, 2156, 2157, 2158, 2159, 2160, 2161, 2162, 2163, 2164, 2165, 2166, 2167, 2168, 2169, 2170, 2171, 2172, 2173, 2174, 2175, 2176, 2177, 2178, 2179, 2180, 2181, 2182, 2183, 2184, 2185, 2186, 2187, 2188, 2189, 2190, 2191, 2192, 2193, 2194, 2195, 2196, 2197, 2198, 2199, 2200, 2201, 2202, 2203, 2204, 2205, 2206, 2207, 2208, 2209, 2210, 2211, 2212, 2213, 2214, 2215, 2216, 2217, 2218, 2219, 2220, 2221, 2222, 2223, 2224, 2225, 2226, 2227, 2228, 2229, 2230, 2231, 2232, 2233, 2234, 2235, 2236, 2237, 2238, 2239, 2240, 2241, 2242, 2243, 2244, 2245, 2246, 2247, 2248, 2249, 2250, 2251, 2252, 2253, 2254, 2255, 2256, 2257, 2258, 2259, 2260, 2261, 2262, 2263, 2264, 2265, 2266, 2267, 2268, 2269, 2270, 2271, 2272, 2273, 2274, 2275, 2276, 2277, 2278, 2279, 2280, 2281, 2282, 2283, 2284, 2285, 2286, 2287, 2288, 2289, 2290, 2291, 2292, 2293, 2294, 2295, 2296, 2297, 2298, 2299, 2300, 2301, 2302, 2303, 2304, 2305, 2306, 2307, 2308, 2309, 2310, 2311, 2312, 2313, 2314, 2315, 2316, 2317, 2318, 2319, 2320, 2321, 2322, 2323, 2324, 2325, 2326, 2327, 2328, 2329, 2330, 2331, 2332, 2333, 2334, 2335, 2336, 2337, 2338, 2339, 2340, 2341, 2342, 2343, 2344, 2345, 2346, 2347, 2348, 2349, 2350, 2351, 2352, 2353, 2354, 2355, 2356, 2357, 2358, 2359, 2360, 2361, 2362, 2363, 2364, 2365, 2366, 2367, 2368, 2369, 2370, 2371, 2372, 2373, 2374, 2375, 2376, 2377, 2378, 2379, 2380, 2381, 2382, 2383, 2384, 2385, 2386, 2387, 2388, 2389, 2390, 2391, 2392, 2393, 2394, 2395, 2396, 2397, 2398, 2399, 2400, 2401, 2402, 2403, 2404, 2405, 2406, 2407, 2408, 2409, 2410, 2411, 2412, 2413, 2414, 2415, 2416, 2417, 2418, 2419, 2420, 2421, 2422, 2423, 2424, 2425, 2426, 2427, 2428, 2429, 2430, 2431, 2432, 2433, 2434, 2435, 2436, 2437, 2438, 2439, 2440, 2441, 2442, 2443, 2444, 2445, 2446, 2447, 2448, 2449, 2450, 2451, 2452, 2453, 2454, 2455, 2456, 2457, 2458, 2459, 2460, 2461, 2462, 2463, 2464, 2465, 2466, 2467, 2468, 2469, 2470, 2471, 2472, 2473, 2474, 2475, 2476, 2477, 2478, 2479, 2480, 2481, 2482, 2483, 2484, 2485, 2486, 2487, 2488, 2489, 2490, 2491, 2492, 2493, 2494, 2495, 2496, 2497, 2498, 2499, 2500, 2501, 2502, 2503, 2504, 2505, 2506, 2507, 2508, 2509, 2510, 2511, 2512, 2513, 2514, 2515, 2516, 2517, 2518, 2519, 2520, 2521, 2522, 2523, 2524, 2525, 2526, 2527, 2528, 2529, 2530, 2531, 2532, 2533, 2534, 2535, 2536, 2537, 2538, 2539, 2540, 2541, 2542, 2543, 2544, 2545, 2546, 2547, 2548, 2549, 2550, 2551, 2552, 2553, 2554, 2555, 2556, 2557, 2558, 2559, 2560, 2561, 2562, 2563, 2564, 2565, 2566, 2567, 2568, 2569, 2570, 2571, 2572, 2573, 2574, 2575, 2576, 2577, 2578, 2579, 2580, 2581, 2582, 2583, 2584, 2585, 2586, 2587, 2588, 2589, 2590, 2591, 2592, 2593, 2594, 2595, 2596, 2597, 2598, 2599, 2600, 2601, 2602, 2603, 2604, 2605, 2606, 2607, 2608, 2609, 2610, 2611, 2612, 2613, 2614, 2615, 2616, 2617, 2618, 2619, 2620, 2621, 2622, 2623, 2624, 2625, 2626, 2627, 2628, 2629, 2630, 2631, 2632, 2633, 2634, 2635, 2636, 2637, 2638, 2639, 2640, 2641, 2642, 2643, 2644, 2645, 2646, 2647, 2648, 2649, 2650, 2651, 2652, 2653, 2654, 2655, 2656, 2657, 2658, 2659, 2660, 2661, 2662, 2663, 2664, 2665, 2666, 2667, 2668, 2669, 2670, 2671, 2672, 2673, 2674, 2675, 2676, 2677, 2678, 2679, 2680, 2681, 2682, 2683, 2684, 2685, 2686, 2687, 2688, 2689, 2690, 2691, 2692, 2693, 2694, 2695, 2696, 2697, 2698, 2699, 2700, 2701, 2702, 2703, 2704, 2705, 2706, 2707, 2708, 2709, 2710, 2711, 2712, 2713, 2714, 2715, 2716, 2717, 2718, 2719, 2720, 2721, 2722, 2723, 2724, 2725, 2726, 2727, 2728, 2729, 2730, 2731, 2732, 2733, 2734, 2735, 2736, 2737, 2738, 2739, 2740, 2741, 2742, 2743, 2744, 2745, 2746, 2747, 2748, 2749, 2750, 2751, 2752, 2753, 2754, 2755, 2756, 2757, 2758, 2759, 2760, 2761, 2762, 2763, 2764, 2765, 2766, 2767, 2768, 2769, 2770, 2771, 2772, 2773, 2774, 2775, 2776, 2777, 2778, 2779, 2780, 2781, 2782, 2783, 2784, 2785, 2786, 2787, 2788, 2789, 2790, 2791, 2792, 2793, 2794, 2795, 2796, 2797, 2798, 2799, 2800, 2801, 2802, 2803, 2804, 2805, 2806, 2807, 2808, 2809, 2810, 2811, 2812, 2813, 2814, 2815, 2816, 2817, 2818, 2819, 2820, 2821, 2822, 2823, 2824, 2825, 2826, 2827, 2828, 2829, 2830, 2831, 2832, 2833, 2834, 2835, 2836, 2837, 2838, 2839, 2840, 2841, 2842, 2843, 2844, 2845, 2846, 2847, 2848, 2849, 2850, 2851, 2852, 2853, 2854, 2855, 2856, 2857, 2858, 2859, 2860, 2861, 2862, 2863, 2864, 2865, 2866, 2867, 2868, 2869, 2870, 2871, 2872, 2873, 2874, 2875, 2876, 2877, 2878, 2879, 2880, 2881, 2882, 2883, 2884, 2885, 2886, 2887, 2888, 2889, 2890, 2891, 2892, 2893, 2894, 2895, 2896, 2897, 2898, 2899, 2900, 2901, 2902, 2903, 2904, 2905, 2906, 2907, 2908, 2909, 2910, 2911, 2912, 2913, 2914, 2915, 2916, 2917, 2918, 2919, 2920, 2921, 2922, 2923, 2924, 2925, 2926, 2927, 2928, 2929, 2930, 2931, 2932, 2933, 2934, 2935, 2936, 2937, 2938, 2939, 2940, 2941, 2942, 2943, 2944, 2945, 2946, 2947, 2948, 2949, 2950, 2951, 2952, 2953, 2954, 2955, 2956, 2957, 2958, 2959, 2960, 2961, 2962, 2963, 2964, 2965, 2966, 2967, 2968, 2969, 2970, 2971, 2972, 2973, 2974, 2975, 2976, 2977, 2978, 2979, 2980, 2981, 2982, 2983, 2984, 2985, 2986, 2987, 2988, 2989, 2990, 2991, 2992, 2993, 2994, 2995, 2996, 2997, 2998, 2999, 3000, 3001, 3002, 3003, 3004, 3005, 3006, 3007, 3008, 3009, 3010, 3011, 3012, 3013, 3014, 3015, 3016, 3017, 3018, 3019, 3020, 3021, 3022, 3023, 3024, 3025, 3026, 3027, 3028, 3029, 3030, 3031, 3032, 3033, 3034, 3035, 3036, 3037, 3038, 3039, 3040, 3041, 3042, 3043, 3044, 3045, 3046, 3047, 3048, 3049, 3050, 3051, 3052, 3053, 3054, 3055, 3056, 3057, 3058, 3059, 3060, 3061, 3062, 3063, 3064, 3065, 3066, 3067, 3068, 3069, 3070, 3071, 3072, 3073, 3074, 3075, 3076, 3077, 3078, 3079, 3080, 3081, 3082, 3083, 3084, 3085, 3086, 3087, 3088, 3089, 3090, 3091, 3092, 3093, 3094, 3095, 3096, 3097, 3098, 3099, 3100, 3101, 3102, 3103, 3104, 3105, 3106, 3107, 3108, 3109, 3110, 3111, 3112, 3113, 3114, 3115, 3116, 3117, 3118, 3119, 3120, 3121, 3122, 3123, 3124, 3125, 3126, 3127, 3128, 3129, 3130, 3131, 3132, 3133, 3134, 3135, 3136, 3137, 3138, 3139, 3140, 3141, 3142, 3143, 3144, 3145, 3146, 3147, 3148, 3149, 3150, 3151, 3152, 3153, 3154, 3155, 3156, 3157, 3158, 3159, 3160, 3161, 3162, 3163, 3164, 3165, 3166, 3167, 3168, 3169, 3170, 3171, 3172, 3173, 3174, 3175, 3176, 3177, 3178, 3179, 3180, 3181, 3182, 3183, 3184, 3185, 3186, 3187, 3188, 3189, 3190, 3191, 3192, 3193, 3194, 3195, 3196, 3197, 3198, 3199, 3200, 3201, 3202, 3203, 3204, 3205, 3206, 3207, 3208, 3209, 3210, 3211, 3212, 3213, 3214, 3215, 3216, 3217, 3218, 3219, 3220, 3221, 3222, 3223, 3224, 3225, 3226, 3227, 3228, 3229, 3230, 3231, 3232, 3233, 3234, 3235, 3236, 3237, 3238, 3239, 3240, 3241, 3242, 3243, 3244, 3245, 3246, 3247, 3248, 3249, 3250, 3251, 3252, 3253, 3254, 3255, 3256, 3257, 3258, 3259, 3260, 3261, 3262, 3263, 3264, 3265, 3266, 3267, 3268, 3269, 3270, 3271, 3272, 3273, 3274, 3275, 3276, 3277, 3278, 3279, 3280, 3281, 3282, 3283, 3284, 3285, 3286, 3287, 3288, 3289, 3290, 3291, 3292, 3293, 3294, 3295, 3296, 3297, 3298, 3299, 3300, 3301, 3302, 3303, 3304, 3305, 3306, 3307, 3308, 3309, 3310, 3311, 3312, 3313, 3314, 3315, 3316, 3317, 3318, 3319, 3320, 3321, 3322, 3323, 3324, 3325, 3326, 3327, 3328, 3329, 3330, 3331, 3332, 3333, 3334, 3335, 3336, 3337, 3338, 3339, 3340, 3341, 3342, 3343, 3344, 3345, 3346, 3347, 3348, 3349, 3350, 3351, 3352, 3353, 3354, 3355, 3356, 3357, 3358, 3359, 3360, 3361, 3362, 3363, 3364, 3365, 3366, 3367, 3368, 3369, 3370, 3371, 3372, 3373, 3374, 3375, 3376, 3377, 3378, 3379, 3380, 3381, 3382, 3383, 3384, 3385, 3386, 3387, 3388, 3389, 3390, 3391, 3392, 3393, 3394, 3395, 3396, 3397, 3398, 3399, 3400, 3401, 3402, 3403, 3404, 3405, 3406, 3407, 3408, 3409, 3410, 3411, 3412, 3413, 3414, 3415, 3416, 3417, 3418, 3419, 3420, 3421, 3422, 3423, 3424, 3425, 3426, 3427, 3428, 3429, 3430, 3431, 3432, 3433, 3434, 3435, 3436, 3437, 3438, 3439, 3440, 3441, 3442, 3443, 3444, 3445, 3446, 3447, 3448, 3449, 3450, 3451, 3452, 3453, 3454, 3455, 3456, 3457, 3458, 3459, 3460, 3461, 3462, 3463, 3464, 3465, 3466, 3467, 3468, 3469, 3470, 3471, 3472, 3473, 3474, 3475, 3476, 3477, 3478, 3479, 3480, 3481, 3482, 3483, 3484, 3485, 3486, 3487, 3488, 3489, 3490, 3491, 3492, 3493, 3494, 3495, 3496, 3497, 3498, 3499, 3500, 3501, 3502, 3503, 3504, 3505, 3506, 3507, 3508, 3509, 3510, 3511, 3512, 3513, 3514, 3515, 3516, 3517, 3518, 3519, 3520, 3521, 3522, 3523, 3524, 3525, 3526, 3527, 3528, 3529, 3530, 3531, 3532, 3533, 3534, 3535, 3536, 3537, 3538, 3539, 3540, 3541, 3542, 3543, 3544, 3545, 3546, 3547, 3548, 3549, 3550, 3551, 3552, 3553, 3554, 3555, 3556, 3557, 3558, 3559, 3560, 3561, 3562, 3563, 3564, 3565, 3566, 3567, 3568, 3569, 3570, 3571, 3572, 3573, 3574, 3575, 3576, 3577, 3578, 3579, 3580, 3581, 3582, 3583, 3584, 3585, 3586, 3587, 3588, 3589, 3590, 3591, 3592, 3593, 3594, 3595, 3596, 3597, 3598, 3599, 3600, 3601, 3602, 3603, 3604, 3605, 3606, 3607, 3608, 3609, 3610, 3611, 3612, 3613, 3614, 3615, 3616, 3617, 3618, 3619, 3620, 3621, 3622, 3623, 3624, 3625, 3626, 3627, 3628, 3629, 3630, 3631, 3632, 3633, 3634, 3635, 3636, 3637, 3638, 3639, 3640, 3641, 3642, 3643, 3644, 3645, 3646, 3647, 3648, 3649, 3650, 3651, 3652, 3653, 3654, 3655, 3656, 3657, 3658, 3659, 3660, 3661, 3662, 3663, 3664, 3665, 3666, 3667, 3668, 3669, 3670, 3671, 3672, 3673, 3674, 3675, 3676, 3677, 3678, 3679, 3680, 3681, 3682, 3683, 3684, 3685, 3686, 3687, 3688, 3689, 3690, 3691, 3692, 3693, 3694, 3695, 3696, 3697, 3698, 3699, 3700, 3701, 3702, 3703, 3704, 3705, 3706, 3707, 3708, 3709, 3710, 3711, 3712, 3713, 3714, 3715, 3716, 3717, 3718, 3719, 3720, 3721, 3722, 3723, 3724, 3725, 3726, 3727, 3728, 3729, 3730, 3731, 3732, 3733, 3734, 3735, 3736, 3737, 3738, 3739, 3740, 3741, 3742, 3743, 3744, 3745, 3746, 3747, 3748, 3749, 3750, 3751, 3752, 3753, 3754, 3755, 3756, 3757, 3758, 3759, 3760, 3761, 3762, 3763, 3764, 3765, 3766, 3767, 3768, 3769, 3770, 3771, 3772, 3773, 3774, 3775, 3776, 3777, 3778, 3779, 3780, 3781, 3782, 3783, 3784, 3785, 3786, 3787, 3788, 3789, 3790, 3791, 3792, 3793, 3794, 3795, 3796, 3797, 3798, 3799, 3800, 3801, 3802, 3803, 3804, 3805, 3806, 3807, 3808, 3809, 3810, 3811, 3812, 3813, 3814, 3815, 3816, 3817, 3818, 3819, 3820, 3821, 3822, 3823, 3824, 3825, 3826, 3827, 3828, 3829, 3830, 3831, 3832, 3833, 3834, 3835, 3836, 3837, 3838, 3839, 3840, 3841, 3842, 3843, 3844, 3845, 3846, 3847, 3848, 3849, 3850, 3851, 3852, 3853, 3854, 3855, 3856, 3857, 3858, 3859, 3860, 3861, 3862, 3863, 3864, 3865, 3866, 3867, 3868, 3869, 3870, 3871, 3872, 3873, 3874, 3875, 3876, 3877, 3878, 3879, 3880, 3881, 3882, 3883, 3884, 3885, 3886, 3887, 3888, 3889, 3890, 3891, 3892, 3893, 3894, 3895, 3896, 3897, 3898, 3899, 3900, 3901, 3902, 3903, 3904, 3905, 3906, 3907, 3908, 3909, 3910, 3911, 3912, 3913, 3914, 3915, 3916, 3917, 3918, 3919, 3920, 3921, 3922, 3923, 3924, 3925, 3926, 3927, 3928, 3929, 3930, 3931, 3932, 3933, 3934, 3935, 3936, 3937, 3938, 3939, 3940, 3941, 3942, 3943, 3944, 3945, 3946, 3947, 3948, 3949, 3950, 3951, 3952, 3953, 3954, 3955, 3956, 3957, 3958, 3959, 3960, 3961, 3962, 3963, 3964, 3965, 3966, 3967, 3968, 3969, 3970, 3971, 3972, 3973, 3974, 3975, 3976, 3977, 3978, 3979, 3980, 3981, 3982, 3983, 3984, 3985, 3986, 3987, 3988, 3989, 3990, 3991, 3992, 3993, 3994, 3995, 3996, 3997, 3998, 3999, 4000, 4001, 4002, 4003, 4004, 4005, 4006, 4007, 4008, 4009, 4010, 4011, 4012, 4013, 4014, 4015, 4016, 4017, 4018, 4019, 4020, 4021, 4022, 4023, 4024, 4025, 4026, 4027, 4028, 4029, 4030, 4031, 4032, 4033, 4034, 4035, 4036, 4037, 4038, 4039, 4040, 4041], \"y\": [6, 1, 2, 1, 5, 5, 1, 1, 0, 2, 6, 1, 6, 5, 4, 9, 6, 1, 1, 7, 1, 6, 1, 1, 1, 1, 7, 7, 7, 5, 2, 2, 3, 4, 2, 5, 7, 1, 7, 1, 9, 1, 2, 1, 1, 1, 6, 7, 5, 3, 9, 1, 3, 1, 3, 7, 1, 1, 2, 2, 0, 1, 5, 2, 1, 6, 2, 0, 4, 5, 1, 5, 1, 1, 7, 5, 1, 7, 1, 5, 2, 1, 2, 7, 2, 2, 1, 8, 1, 1, 6, 1, 2, 0, 6, 3, 1, 1, 2, 5, 6, 2, 5, 7, 1, 1, 6, 6, 4, 1, 2, 2, 1, 6, 5, 1, 1, 2, 5, 5, 7, 1, 2, 1, 2, 6, 5, 1, 2, 1, 2, 2, 2, 2, 1, 5, 5, 0, 2, 2, 1, 7, 1, 3, 5, 0, 1, 1, 1, 1, 7, 5, 2, 1, 2, 5, 2, 1, 4, 1, 9, 6, 1, 5, 0, 5, 1, 1, 5, 1, 2, 6, 0, 4, 2, 6, 5, 3, 2, 1, 4, 7, 6, 6, 1, 1, 7, 2, 5, 7, 2, 1, 3, 8, 7, 4, 1, 5, 5, 7, 1, 6, 2, 6, 7, 3, 1, 3, 1, 1, 2, 9, 1, 1, 7, 2, 2, 0, 2, 1, 2, 4, 2, 3, 2, 5, 1, 3, 1, 2, 4, 4, 1, 7, 2, 1, 1, 7, 1, 1, 1, 1, 5, 1, 5, 8, 1, 8, 6, 2, 2, 1, 1, 8, 4, 4, 1, 1, 5, 2, 4, 2, 1, 1, 2, 3, 1, 1, 5, 1, 4, 0, 10, 5, 1, 2, 2, 6, 2, 1, 5, 0, 2, 8, 2, 1, 1, 6, 2, 1, 7, 1, 1, 8, 6, 2, 2, 6, 5, 8, 3, 7, 1, 5, 1, 1, 0, 2, 5, 5, 7, 6, 8, 2, 6, 2, 5, 2, 1, 5, 3, 2, 2, 1, 0, 7, 1, 2, 1, 7, 3, 1, 3, 2, 1, 8, 2, 1, 6, 6, 2, 7, 2, 2, 2, 0, 2, 8, 6, 0, 5, 2, 8, 7, 8, 1, 1, 4, 2, 8, 2, 1, 5, 2, 7, 6, 1, 3, 1, 5, 2, 2, 2, 1, 6, 6, 5, 6, 1, 2, 2, 1, 2, 1, 1, 6, 1, 2, 1, 1, 0, 5, 2, 2, 2, 0, 1, 4, 2, 1, 3, 2, 0, 1, 1, 1, 1, 8, 2, 2, 1, 3, 1, 6, 2, 5, 1, 1, 0, 1, 5, 4, 5, 0, 1, 8, 3, 1, 5, 1, 1, 3, 0, 0, 1, 1, 1, 2, 2, 2, 1, 6, 1, 2, 2, 1, 1, 0, 1, 1, 2, 8, 1, 1, 7, 2, 7, 2, 8, 6, 2, 5, 6, 7, 2, 5, 2, 5, 5, 1, 5, 1, 2, 2, 1, 4, 1, 1, 1, 1, 2, 5, 1, 0, 2, 2, 7, 1, 5, 7, 6, 0, 3, 7, 1, 2, 5, 1, 3, 6, 1, 2, 6, 2, 6, 4, 0, 1, 2, 2, 1, 1, 4, 6, 1, 7, 6, 1, 5, 2, 1, 1, 5, 2, 3, 6, 4, 2, 7, 7, 2, 5, 6, 2, 5, 2, 7, 10, 4, 1, 3, 6, 2, 5, 2, 1, 1, 1, 6, 7, 0, 2, 1, 10, 2, 1, 1, 1, 6, 3, 2, 1, 7, 3, 6, 9, 5, 6, 2, 2, 1, 9, 3, 7, 7, 7, 1, 1, 2, 8, 2, 1, 2, 1, 2, 1, 8, 1, 6, 4, 4, 3, 1, 6, 2, 7, 1, 2, 5, 4, 2, 0, 1, 7, 2, 1, 2, 5, 2, 4, 1, 1, 7, 5, 1, 1, 7, 3, 3, 2, 6, 0, 2, 6, 5, 5, 6, 1, 2, 1, 1, 1, 8, 0, 2, 3, 1, 2, 1, 0, 1, 6, 6, 2, 6, 0, 3, 7, 5, 2, 2, 1, 7, 7, 5, 2, 5, 1, 6, 1, 6, 1, 7, 6, 2, 1, 1, 1, 5, 2, 5, 6, 2, 6, 7, 7, 1, 9, 2, 5, 1, 1, 6, 6, 3, 6, 1, 1, 6, 1, 5, 5, 2, 2, 2, 2, 1, 1, 7, 2, 2, 2, 2, 1, 1, 6, 4, 7, 1, 5, 2, 2, 2, 6, 1, 2, 3, 3, 2, 6, 2, 1, 2, 1, 6, 2, 1, 1, 7, 5, 4, 7, 1, 0, 5, 1, 2, 1, 3, 2, 6, 7, 5, 5, 1, 2, 5, 2, 0, 1, 3, 7, 1, 6, 3, 5, 7, 3, 1, 1, 2, 4, 6, 1, 6, 2, 9, 3, 1, 7, 2, 3, 2, 2, 8, 1, 6, 6, 2, 5, 1, 6, 6, 5, 6, 9, 5, 5, 4, 2, 1, 1, 6, 5, 1, 1, 2, 7, 5, 1, 1, 2, 7, 1, 2, 7, 1, 7, 7, 8, 5, 6, 6, 6, 4, 7, 3, 0, 1, 2, 6, 5, 6, 1, 1, 5, 3, 6, 5, 5, 6, 2, 0, 0, 5, 2, 2, 0, 2, 6, 1, 2, 1, 2, 1, 2, 1, 2, 2, 4, 7, 1, 4, 1, 1, 2, 5, 0, 1, 6, 0, 1, 5, 5, 1, 5, 2, 5, 6, 2, 3, 1, 7, 1, 5, 6, 6, 8, 6, 1, 1, 2, 2, 1, 1, 1, 5, 2, 6, 8, 2, 6, 5, 1, 5, 1, 10, 1, 2, 7, 2, 1, 5, 3, 1, 2, 1, 1, 2, 6, 7, 5, 1, 5, 9, 1, 1, 7, 1, 0, 5, 5, 1, 1, 0, 2, 1, 1, 5, 5, 1, 3, 5, 1, 2, 5, 5, 3, 1, 5, 1, 2, 0, 5, 8, 1, 4, 2, 1, 4, 7, 2, 6, 5, 5, 1, 6, 1, 1, 1, 1, 8, 1, 1, 0, 8, 8, 4, 1, 1, 1, 2, 2, 1, 7, 1, 2, 5, 1, 6, 8, 7, 2, 2, 7, 2, 2, 6, 1, 2, 1, 5, 1, 7, 5, 3, 5, 1, 1, 2, 1, 2, 1, 1, 1, 9, 1, 1, 1, 5, 2, 8, 2, 9, 2, 6, 3, 1, 2, 1, 2, 1, 6, 1, 1, 7, 7, 2, 5, 6, 7, 5, 6, 2, 1, 1, 1, 5, 2, 2, 2, 7, 8, 4, 1, 2, 3, 4, 0, 2, 1, 1, 5, 6, 5, 1, 1, 6, 0, 5, 1, 3, 2, 2, 0, 1, 1, 5, 1, 6, 3, 1, 1, 2, 2, 1, 1, 1, 1, 8, 2, 1, 2, 4, 1, 5, 3, 6, 1, 1, 7, 2, 0, 5, 5, 7, 6, 2, 6, 5, 5, 2, 3, 2, 7, 1, 7, 2, 2, 5, 2, 1, 5, 1, 7, 1, 4, 1, 0, 1, 5, 1, 6, 6, 1, 2, 1, 2, 7, 2, 1, 2, 5, 5, 7, 2, 6, 5, 9, 2, 2, 5, 3, 2, 1, 10, 2, 3, 2, 5, 5, 3, 7, 1, 1, 5, 1, 1, 3, 6, 2, 7, 6, 1, 0, 6, 1, 8, 2, 5, 2, 2, 3, 5, 2, 1, 5, 1, 0, 2, 6, 6, 1, 6, 7, 6, 6, 4, 3, 1, 1, 2, 5, 1, 1, 6, 2, 6, 6, 1, 5, 7, 1, 1, 8, 2, 1, 8, 1, 7, 2, 10, 1, 1, 2, 6, 6, 1, 2, 1, 7, 2, 6, 1, 1, 7, 1, 3, 1, 2, 2, 1, 2, 6, 2, 3, 1, 2, 6, 2, 3, 6, 5, 7, 7, 6, 5, 6, 8, 3, 0, 2, 1, 5, 1, 3, 7, 6, 1, 1, 5, 1, 2, 1, 2, 1, 6, 1, 4, 1, 2, 7, 1, 2, 8, 5, 3, 2, 2, 2, 7, 5, 7, 5, 1, 1, 1, 6, 0, 6, 2, 1, 8, 1, 4, 2, 1, 5, 1, 5, 5, 2, 2, 0, 1, 2, 7, 1, 1, 2, 7, 5, 6, 7, 5, 3, 2, 6, 6, 7, 5, 6, 0, 7, 1, 1, 8, 3, 1, 0, 5, 7, 6, 1, 2, 6, 3, 2, 7, 1, 2, 2, 8, 1, 1, 5, 2, 6, 2, 2, 0, 0, 1, 0, 0, 1, 1, 1, 8, 5, 2, 2, 1, 7, 2, 7, 8, 1, 2, 5, 1, 2, 3, 5, 2, 7, 3, 1, 6, 3, 2, 6, 1, 2, 2, 1, 2, 6, 3, 6, 10, 8, 6, 3, 2, 5, 5, 1, 8, 3, 1, 9, 4, 1, 1, 5, 4, 5, 2, 5, 2, 1, 5, 0, 0, 1, 2, 6, 0, 8, 1, 1, 5, 3, 2, 1, 7, 1, 2, 1, 6, 4, 8, 6, 1, 6, 1, 1, 8, 4, 1, 2, 6, 1, 5, 1, 1, 2, 1, 1, 7, 2, 8, 1, 1, 3, 2, 0, 5, 6, 1, 8, 2, 1, 6, 2, 2, 0, 1, 2, 6, 7, 2, 1, 0, 1, 4, 6, 1, 0, 1, 2, 2, 5, 1, 10, 2, 2, 5, 7, 7, 2, 4, 0, 2, 4, 2, 7, 2, 3, 6, 5, 2, 6, 2, 9, 1, 5, 4, 9, 0, 3, 2, 1, 5, 3, 7, 1, 1, 1, 6, 2, 6, 7, 1, 8, 1, 2, 8, 2, 1, 1, 1, 2, 2, 6, 6, 1, 5, 0, 8, 1, 3, 2, 4, 2, 5, 6, 6, 1, 2, 2, 1, 2, 2, 6, 6, 2, 1, 2, 8, 2, 2, 4, 1, 6, 2, 2, 5, 2, 1, 2, 5, 1, 1, 2, 1, 2, 2, 5, 2, 1, 1, 6, 1, 1, 1, 1, 5, 0, 1, 7, 1, 1, 3, 5, 2, 1, 2, 7, 6, 8, 6, 1, 2, 7, 5, 1, 2, 1, 2, 0, 5, 2, 1, 1, 6, 6, 2, 1, 1, 5, 8, 3, 0, 2, 2, 5, 1, 6, 2, 0, 5, 1, 2, 2, 2, 6, 2, 1, 5, 0, 2, 7, 2, 1, 2, 5, 3, 2, 2, 7, 3, 7, 2, 1, 1, 1, 1, 1, 2, 5, 2, 2, 1, 1, 8, 6, 1, 2, 1, 2, 1, 1, 5, 8, 3, 2, 1, 7, 1, 0, 2, 3, 2, 1, 1, 7, 2, 1, 5, 4, 1, 1, 1, 2, 1, 2, 1, 1, 2, 2, 0, 6, 8, 7, 6, 7, 5, 8, 1, 2, 6, 6, 7, 2, 5, 3, 1, 1, 6, 1, 1, 5, 2, 1, 1, 1, 2, 5, 0, 4, 3, 1, 0, 3, 1, 2, 2, 6, 6, 6, 2, 1, 1, 1, 2, 6, 1, 7, 1, 5, 6, 0, 1, 1, 5, 3, 5, 1, 1, 1, 7, 1, 6, 2, 5, 2, 0, 7, 1, 2, 5, 3, 1, 0, 5, 1, 1, 1, 1, 1, 1, 4, 5, 6, 2, 2, 1, 6, 2, 4, 5, 2, 9, 6, 2, 6, 1, 5, 2, 5, 1, 0, 6, 7, 1, 5, 1, 2, 3, 8, 2, 2, 1, 5, 5, 1, 5, 5, 5, 1, 0, 3, 0, 5, 2, 2, 6, 2, 2, 7, 2, 2, 8, 1, 2, 4, 4, 1, 7, 3, 5, 0, 2, 2, 1, 1, 5, 1, 1, 2, 2, 1, 5, 7, 7, 1, 8, 6, 1, 4, 1, 7, 1, 2, 1, 5, 7, 1, 1, 3, 6, 0, 2, 6, 6, 5, 2, 6, 2, 4, 0, 4, 5, 7, 7, 4, 1, 1, 4, 0, 6, 3, 6, 7, 2, 2, 1, 1, 10, 6, 1, 7, 3, 1, 0, 7, 1, 1, 1, 6, 1, 4, 7, 1, 3, 1, 1, 7, 1, 2, 6, 2, 2, 1, 1, 6, 7, 4, 4, 2, 4, 1, 6, 9, 4, 7, 3, 3, 1, 2, 5, 0, 1, 5, 2, 1, 2, 6, 8, 5, 5, 1, 6, 1, 6, 7, 1, 6, 2, 1, 0, 1, 1, 3, 2, 6, 2, 5, 1, 5, 2, 3, 5, 6, 1, 6, 8, 5, 5, 7, 6, 1, 1, 0, 2, 5, 1, 1, 2, 7, 6, 2, 2, 2, 7, 6, 4, 5, 3, 1, 2, 5, 3, 2, 6, 5, 7, 2, 7, 0, 2, 1, 5, 6, 9, 3, 2, 2, 1, 5, 1, 6, 0, 5, 1, 1, 3, 2, 2, 1, 3, 5, 7, 1, 1, 2, 6, 6, 1, 1, 0, 6, 1, 4, 1, 4, 2, 2, 5, 1, 1, 2, 1, 4, 7, 8, 6, 5, 5, 5, 1, 7, 2, 1, 5, 2, 5, 7, 3, 2, 1, 5, 5, 1, 6, 7, 2, 7, 1, 1, 6, 1, 0, 1, 3, 2, 6, 1, 3, 5, 6, 1, 5, 6, 2, 4, 8, 2, 7, 4, 5, 1, 2, 2, 5, 2, 6, 1, 6, 1, 3, 0, 2, 0, 6, 6, 5, 5, 1, 10, 5, 1, 2, 2, 1, 8, 1, 1, 5, 7, 7, 6, 7, 4, 1, 8, 1, 5, 9, 6, 5, 1, 8, 6, 2, 2, 4, 0, 5, 4, 0, 0, 7, 1, 5, 1, 4, 1, 4, 1, 3, 1, 5, 1, 1, 4, 1, 8, 2, 6, 1, 1, 3, 6, 5, 7, 5, 1, 2, 2, 10, 3, 1, 3, 2, 1, 5, 1, 1, 2, 8, 6, 1, 1, 2, 1, 5, 6, 2, 3, 0, 1, 5, 6, 6, 2, 2, 1, 1, 0, 7, 2, 1, 1, 7, 6, 4, 2, 7, 1, 6, 2, 1, 7, 7, 1, 2, 1, 2, 1, 2, 1, 7, 1, 1, 8, 1, 6, 2, 6, 1, 4, 4, 1, 1, 6, 4, 2, 1, 2, 2, 1, 1, 7, 0, 2, 1, 7, 1, 1, 1, 5, 1, 7, 6, 8, 1, 1, 5, 3, 7, 4, 1, 2, 8, 1, 1, 1, 0, 1, 6, 3, 1, 1, 1, 3, 1, 3, 2, 2, 5, 5, 5, 6, 2, 6, 2, 8, 1, 3, 3, 2, 2, 1, 6, 7, 7, 7, 2, 2, 1, 2, 6, 6, 4, 2, 7, 3, 2, 1, 2, 4, 2, 2, 6, 1, 2, 2, 1, 6, 1, 1, 6, 1, 1, 1, 1, 7, 7, 3, 0, 8, 5, 3, 2, 2, 5, 3, 5, 1, 2, 7, 5, 7, 5, 1, 8, 0, 7, 2, 1, 5, 2, 1, 6, 5, 2, 1, 2, 2, 1, 7, 4, 1, 1, 1, 1, 7, 2, 0, 5, 1, 2, 5, 2, 1, 6, 6, 1, 1, 7, 6, 1, 2, 2, 6, 5, 0, 1, 1, 1, 4, 2, 2, 7, 1, 1, 2, 6, 5, 2, 5, 5, 1, 2, 1, 2, 4, 2, 3, 7, 3, 8, 3, 7, 3, 7, 3, 2, 2, 3, 1, 3, 2, 2, 3, 1, 1, 2, 1, 6, 1, 2, 6, 6, 2, 4, 1, 4, 2, 2, 2, 1, 1, 2, 8, 6, 1, 2, 1, 8, 2, 0, 1, 7, 1, 1, 4, 7, 6, 5, 0, 1, 0, 3, 6, 1, 1, 7, 4, 2, 2, 3, 7, 5, 5, 1, 2, 7, 6, 7, 1, 7, 2, 6, 1, 6, 6, 1, 1, 8, 6, 1, 5, 5, 0, 5, 2, 2, 5, 2, 6, 9, 6, 1, 2, 1, 2, 6, 9, 0, 2, 1, 7, 1, 1, 6, 7, 2, 5, 0, 7, 2, 2, 1, 2, 7, 5, 6, 2, 1, 1, 3, 4, 5, 1, 6, 3, 6, 5, 5, 1, 1, 6, 2, 2, 6, 3, 2, 5, 1, 2, 5, 2, 6, 1, 5, 1, 8, 0, 1, 5, 1, 6, 1, 5, 2, 7, 5, 3, 6, 1, 1, 7, 7, 9, 2, 6, 3, 7, 8, 1, 2, 6, 2, 3, 1, 2, 0, 9, 2, 2, 1, 2, 2, 2, 3, 2, 1, 2, 1, 7, 1, 2, 1, 4, 2, 0, 1, 8, 7, 1, 1, 6, 1, 1, 2, 5, 2, 6, 1, 2, 5, 2, 2, 4, 8, 1, 6, 4, 5, 6, 7, 8, 2, 2, 5, 1, 0, 1, 4, 2, 2, 2, 1, 3, 8, 1, 6, 9, 6, 1, 5, 6, 1, 1, 1, 3, 1, 4, 6, 1, 1, 5, 6, 4, 6, 6, 1, 5, 6, 1, 5, 0, 0, 2, 1, 5, 2, 0, 2, 1, 0, 6, 2, 2, 6, 2, 5, 10, 1, 3, 2, 6, 6, 2, 1, 3, 4, 1, 1, 1, 6, 1, 1, 1, 6, 2, 2, 1, 2, 1, 2, 2, 3, 2, 7, 1, 7, 2, 0, 4, 2, 1, 1, 2, 4, 2, 1, 2, 1, 0, 4, 2, 6, 2, 7, 3, 2, 0, 5, 1, 1, 1, 1, 5, 1, 1, 6, 1, 4, 0, 5, 3, 5, 6, 5, 2, 1, 2, 2, 0, 1, 5, 7, 0, 2, 1, 6, 3, 5, 2, 6, 2, 5, 1, 1, 2, 1, 2, 5, 1, 1, 7, 2, 1, 1, 5, 2, 2, 7, 2, 2, 4, 1, 0, 7, 1, 1, 4, 6, 2, 8, 4, 1, 8, 8, 2, 1, 1, 2, 2, 1, 1, 2, 6, 2, 2, 1, 7, 7, 2, 1, 1, 8, 5, 1, 1, 7, 1, 1, 6, 1, 0, 6, 6, 1, 1, 1, 2, 1, 5, 4, 2, 2, 1, 2, 6, 6, 2, 1, 2, 6, 8, 2, 2, 5, 5, 3, 1, 8, 0, 5, 1, 8, 5, 7, 6, 1, 2, 0, 2, 2, 2, 2, 4, 1, 3, 5, 6, 1, 6, 2, 4, 1, 1, 2, 2, 4, 2, 0, 7, 7, 5, 2, 2, 2, 7, 1, 2, 7, 2, 1, 2, 8, 8, 1, 7, 2, 7, 1, 2, 2, 2, 2, 5, 1, 1, 2, 5, 7, 5, 1, 1, 4, 1, 1, 2, 4, 1, 3, 1, 3, 0, 2, 1, 1, 2, 1, 5, 6, 2, 0, 4, 1, 5, 1, 0, 2, 0, 1, 3, 6, 1, 1, 0, 1, 1, 6, 0, 9, 1, 4, 1, 3, 0, 2, 8, 9, 1, 2, 1, 4, 0, 2, 1, 6, 1, 1, 6, 1, 5, 7, 8, 7, 7, 7, 0, 0, 6, 6, 2, 2, 6, 6, 8, 9, 6, 3, 2, 1, 1, 5, 6, 1, 2, 7, 2, 6, 2, 7, 8, 1, 7, 5, 7, 2, 2, 1, 7, 3, 1, 2, 1, 1, 4, 2, 4, 6, 1, 8, 2, 1, 5, 5, 6, 1, 8, 8, 2, 8, 6, 9, 0, 6, 6, 3, 1, 6, 7, 1, 8, 3, 4, 6, 7, 7, 3, 3, 2, 2, 2, 4, 1, 10, 2, 7, 1, 2, 7, 6, 5, 0, 2, 1, 5, 4, 3, 6, 1, 2, 2, 5, 6, 2, 5, 1, 2, 1, 6, 3, 0, 5, 0, 2, 1, 7, 7, 6, 1, 1, 1, 2, 1, 1, 2, 2, 6, 4, 5, 3, 1, 9, 1, 3, 1, 4, 5, 1, 6, 1, 8, 6, 6, 6, 4, 1, 7, 1, 5, 0, 5, 2, 0, 6, 2, 1, 1, 6, 7, 1, 6, 1, 7, 1, 7, 0, 2, 1, 2, 6, 2, 5, 6, 1, 1, 1, 1, 4, 5, 4, 6, 1, 1, 1, 6, 6, 1, 7, 0, 1, 1, 2, 1, 2, 2, 6, 1, 0, 2, 1, 1, 1, 1, 5, 2, 1, 2, 1, 3, 7, 1, 6, 0, 7, 3, 5, 1, 2, 2, 4, 1, 1, 6, 2, 2, 1, 7, 1, 2, 7, 5, 6, 1, 2, 1, 6, 2, 1, 1, 6, 1, 1, 1, 3, 8, 2, 0, 2, 2, 5, 1, 6, 2, 0, 8, 2, 8, 1, 6, 6, 1, 6, 3, 2, 5, 7, 0, 8, 7, 2, 2, 8, 2, 2, 7, 2, 1, 2, 3, 7, 1, 6, 5, 5, 1, 0, 9, 1, 0, 8, 6, 2, 3, 7, 4, 5, 7, 1, 1, 1, 2, 6, 1, 2, 2, 1, 4, 5, 6, 1, 6, 2, 2, 1, 2, 6, 2, 2, 1, 6, 1, 5, 5, 2, 7, 8, 6, 5, 3, 5, 8, 3, 7, 5, 8, 5, 10, 0, 5, 6, 8, 2, 1, 1, 5, 1, 1, 7, 2, 5, 2, 6, 6, 1, 1, 6, 1, 5, 5, 6, 1, 5, 2, 2, 1, 5, 5, 0, 6, 1, 6, 5, 2, 8, 7, 5, 2, 2, 2, 0, 4, 6, 1, 0, 6, 3, 6, 1, 2, 5, 7, 6, 2, 2, 0, 1, 1, 2, 7, 1, 6, 3, 1, 1, 9, 0, 2, 4, 7, 1, 8, 5, 6, 1, 2, 9, 2, 1, 1, 2, 2, 2, 1, 2, 7, 1, 3, 6, 1, 1, 2, 3, 1, 1, 5, 5, 1, 7, 1, 1, 4, 2, 1, 1, 1, 6, 3, 6, 1, 4, 2, 1, 1, 2, 5, 2, 1, 7, 1, 0, 1, 4, 1, 6, 1, 1, 6, 5, 5, 3, 3, 1, 1, 2, 1, 7, 1, 5, 1, 1, 1, 1, 6, 1, 6, 2, 3, 7, 7, 6, 8, 3, 2, 3, 8, 3, 2, 1, 1, 7, 7, 1, 1, 2, 2, 6, 4, 7, 7, 1, 1, 5, 5, 2, 1, 4, 1, 8, 1, 6, 1, 1, 8, 6, 2, 4, 1, 5, 1, 6, 1, 7, 2, 6, 6, 1, 7, 6, 1, 1, 5, 1, 5, 1, 2, 5, 0, 7, 4, 1, 1, 3, 2, 1, 2, 2, 6, 0, 1, 2, 1, 3, 1, 1, 6, 1, 1, 4, 8, 4, 2, 1, 7, 2, 0, 1, 1, 1, 1, 1, 2, 1, 5, 5, 1, 1, 1, 2, 2, 1, 1, 1, 1, 9, 8, 1, 5, 0, 3, 6, 7, 3, 4, 2, 1, 5, 2, 3, 6, 7, 2, 2, 3, 5, 2, 6, 5, 1, 2, 1, 2, 8, 0, 9, 2, 6, 2, 1, 7, 4, 3, 0, 1, 0, 1, 2, 1, 1, 2, 6, 2, 3, 1, 2, 4, 2, 5, 2, 7, 7, 1, 1, 5, 7, 5, 1, 3, 5, 5, 4, 4, 1, 1, 1, 1, 2, 5, 5, 2, 2, 1, 10, 8, 1, 6, 4, 7, 1, 5, 2, 1, 2, 7, 7, 2, 2, 1, 7, 7, 1, 8, 1, 1, 1, 2, 1, 2, 5, 2, 1, 3, 1, 8, 7, 6, 2, 8, 7, 2, 3, 6, 2, 9, 6, 5, 7, 2, 5, 2, 0, 1, 0, 6, 1, 1, 2, 7, 1, 0, 1, 3, 3, 1, 0, 2, 1, 6, 5, 8, 5, 3, 2, 1, 6, 5, 2, 2, 7, 5, 3, 6, 0, 6, 7, 2, 1, 6, 2, 7, 1, 5, 1, 6, 5, 1, 1, 1, 2, 2, 1, 9, 7, 2, 7, 1, 2, 2, 1, 7, 2, 7, 6, 2, 7, 2, 2, 7, 2, 3, 6, 2, 2, 1, 1, 6, 1, 1, 5, 1, 2, 1, 2, 1, 6, 1, 3, 1, 1, 2, 7, 3, 5, 1, 2, 1, 1, 6, 3, 2, 1, 1, 3, 8, 4, 3, 2, 4, 0, 4, 1, 2, 7, 2, 5, 2, 5, 2, 1, 1, 2, 1, 0, 1, 1, 2, 2, 6, 3, 1, 2, 10, 2, 1, 6, 2, 8, 5, 2, 2, 0, 6, 3, 1, 2, 1, 4, 3, 2, 6, 1, 6, 5, 2, 7, 6, 5, 5, 5, 5, 1, 2, 8, 1, 7, 6, 4, 0, 0, 1, 2, 8, 6, 1, 2, 2, 5, 6, 3, 5, 1, 8, 2, 1, 1, 1, 5, 2, 0, 5, 7, 7, 2, 2, 2, 2, 1, 4, 1, 4, 3, 7, 7, 5, 2, 1, 4, 5, 1, 1, 5, 10, 6, 4, 1, 1, 0, 1, 0, 7, 1, 2, 5, 1, 1, 1, 8, 5, 1, 5, 2, 1, 6, 2, 1, 5, 1, 1, 6, 2, 3, 2, 1, 5, 2, 1, 6, 2, 6, 2, 7, 2, 1, 2, 1, 6, 6, 2, 2, 2, 6, 2, 0, 6, 6, 1, 2, 2, 0, 6, 1, 2, 5, 1, 1, 6, 1, 6, 1, 2, 5, 1, 7, 7, 1, 2, 2, 2, 2, 6, 0, 6, 2, 5, 6, 2, 1, 1, 6, 0, 6, 2, 1, 6, 1, 2, 6, 1, 1, 6, 5, 5, 0, 3, 0, 7, 6, 0, 1, 1, 2, 2, 4, 1, 2, 5, 0, 8, 2, 3]}, {\"name\": \"Actual Label\", \"type\": \"scatter\", \"x\": [0, 1, 2, 3, 4, 5, 6, 7, 8, 9, 10, 11, 12, 13, 14, 15, 16, 17, 18, 19, 20, 21, 22, 23, 24, 25, 26, 27, 28, 29, 30, 31, 32, 33, 34, 35, 36, 37, 38, 39, 40, 41, 42, 43, 44, 45, 46, 47, 48, 49, 50, 51, 52, 53, 54, 55, 56, 57, 58, 59, 60, 61, 62, 63, 64, 65, 66, 67, 68, 69, 70, 71, 72, 73, 74, 75, 76, 77, 78, 79, 80, 81, 82, 83, 84, 85, 86, 87, 88, 89, 90, 91, 92, 93, 94, 95, 96, 97, 98, 99, 100, 101, 102, 103, 104, 105, 106, 107, 108, 109, 110, 111, 112, 113, 114, 115, 116, 117, 118, 119, 120, 121, 122, 123, 124, 125, 126, 127, 128, 129, 130, 131, 132, 133, 134, 135, 136, 137, 138, 139, 140, 141, 142, 143, 144, 145, 146, 147, 148, 149, 150, 151, 152, 153, 154, 155, 156, 157, 158, 159, 160, 161, 162, 163, 164, 165, 166, 167, 168, 169, 170, 171, 172, 173, 174, 175, 176, 177, 178, 179, 180, 181, 182, 183, 184, 185, 186, 187, 188, 189, 190, 191, 192, 193, 194, 195, 196, 197, 198, 199, 200, 201, 202, 203, 204, 205, 206, 207, 208, 209, 210, 211, 212, 213, 214, 215, 216, 217, 218, 219, 220, 221, 222, 223, 224, 225, 226, 227, 228, 229, 230, 231, 232, 233, 234, 235, 236, 237, 238, 239, 240, 241, 242, 243, 244, 245, 246, 247, 248, 249, 250, 251, 252, 253, 254, 255, 256, 257, 258, 259, 260, 261, 262, 263, 264, 265, 266, 267, 268, 269, 270, 271, 272, 273, 274, 275, 276, 277, 278, 279, 280, 281, 282, 283, 284, 285, 286, 287, 288, 289, 290, 291, 292, 293, 294, 295, 296, 297, 298, 299, 300, 301, 302, 303, 304, 305, 306, 307, 308, 309, 310, 311, 312, 313, 314, 315, 316, 317, 318, 319, 320, 321, 322, 323, 324, 325, 326, 327, 328, 329, 330, 331, 332, 333, 334, 335, 336, 337, 338, 339, 340, 341, 342, 343, 344, 345, 346, 347, 348, 349, 350, 351, 352, 353, 354, 355, 356, 357, 358, 359, 360, 361, 362, 363, 364, 365, 366, 367, 368, 369, 370, 371, 372, 373, 374, 375, 376, 377, 378, 379, 380, 381, 382, 383, 384, 385, 386, 387, 388, 389, 390, 391, 392, 393, 394, 395, 396, 397, 398, 399, 400, 401, 402, 403, 404, 405, 406, 407, 408, 409, 410, 411, 412, 413, 414, 415, 416, 417, 418, 419, 420, 421, 422, 423, 424, 425, 426, 427, 428, 429, 430, 431, 432, 433, 434, 435, 436, 437, 438, 439, 440, 441, 442, 443, 444, 445, 446, 447, 448, 449, 450, 451, 452, 453, 454, 455, 456, 457, 458, 459, 460, 461, 462, 463, 464, 465, 466, 467, 468, 469, 470, 471, 472, 473, 474, 475, 476, 477, 478, 479, 480, 481, 482, 483, 484, 485, 486, 487, 488, 489, 490, 491, 492, 493, 494, 495, 496, 497, 498, 499, 500, 501, 502, 503, 504, 505, 506, 507, 508, 509, 510, 511, 512, 513, 514, 515, 516, 517, 518, 519, 520, 521, 522, 523, 524, 525, 526, 527, 528, 529, 530, 531, 532, 533, 534, 535, 536, 537, 538, 539, 540, 541, 542, 543, 544, 545, 546, 547, 548, 549, 550, 551, 552, 553, 554, 555, 556, 557, 558, 559, 560, 561, 562, 563, 564, 565, 566, 567, 568, 569, 570, 571, 572, 573, 574, 575, 576, 577, 578, 579, 580, 581, 582, 583, 584, 585, 586, 587, 588, 589, 590, 591, 592, 593, 594, 595, 596, 597, 598, 599, 600, 601, 602, 603, 604, 605, 606, 607, 608, 609, 610, 611, 612, 613, 614, 615, 616, 617, 618, 619, 620, 621, 622, 623, 624, 625, 626, 627, 628, 629, 630, 631, 632, 633, 634, 635, 636, 637, 638, 639, 640, 641, 642, 643, 644, 645, 646, 647, 648, 649, 650, 651, 652, 653, 654, 655, 656, 657, 658, 659, 660, 661, 662, 663, 664, 665, 666, 667, 668, 669, 670, 671, 672, 673, 674, 675, 676, 677, 678, 679, 680, 681, 682, 683, 684, 685, 686, 687, 688, 689, 690, 691, 692, 693, 694, 695, 696, 697, 698, 699, 700, 701, 702, 703, 704, 705, 706, 707, 708, 709, 710, 711, 712, 713, 714, 715, 716, 717, 718, 719, 720, 721, 722, 723, 724, 725, 726, 727, 728, 729, 730, 731, 732, 733, 734, 735, 736, 737, 738, 739, 740, 741, 742, 743, 744, 745, 746, 747, 748, 749, 750, 751, 752, 753, 754, 755, 756, 757, 758, 759, 760, 761, 762, 763, 764, 765, 766, 767, 768, 769, 770, 771, 772, 773, 774, 775, 776, 777, 778, 779, 780, 781, 782, 783, 784, 785, 786, 787, 788, 789, 790, 791, 792, 793, 794, 795, 796, 797, 798, 799, 800, 801, 802, 803, 804, 805, 806, 807, 808, 809, 810, 811, 812, 813, 814, 815, 816, 817, 818, 819, 820, 821, 822, 823, 824, 825, 826, 827, 828, 829, 830, 831, 832, 833, 834, 835, 836, 837, 838, 839, 840, 841, 842, 843, 844, 845, 846, 847, 848, 849, 850, 851, 852, 853, 854, 855, 856, 857, 858, 859, 860, 861, 862, 863, 864, 865, 866, 867, 868, 869, 870, 871, 872, 873, 874, 875, 876, 877, 878, 879, 880, 881, 882, 883, 884, 885, 886, 887, 888, 889, 890, 891, 892, 893, 894, 895, 896, 897, 898, 899, 900, 901, 902, 903, 904, 905, 906, 907, 908, 909, 910, 911, 912, 913, 914, 915, 916, 917, 918, 919, 920, 921, 922, 923, 924, 925, 926, 927, 928, 929, 930, 931, 932, 933, 934, 935, 936, 937, 938, 939, 940, 941, 942, 943, 944, 945, 946, 947, 948, 949, 950, 951, 952, 953, 954, 955, 956, 957, 958, 959, 960, 961, 962, 963, 964, 965, 966, 967, 968, 969, 970, 971, 972, 973, 974, 975, 976, 977, 978, 979, 980, 981, 982, 983, 984, 985, 986, 987, 988, 989, 990, 991, 992, 993, 994, 995, 996, 997, 998, 999, 1000, 1001, 1002, 1003, 1004, 1005, 1006, 1007, 1008, 1009, 1010, 1011, 1012, 1013, 1014, 1015, 1016, 1017, 1018, 1019, 1020, 1021, 1022, 1023, 1024, 1025, 1026, 1027, 1028, 1029, 1030, 1031, 1032, 1033, 1034, 1035, 1036, 1037, 1038, 1039, 1040, 1041, 1042, 1043, 1044, 1045, 1046, 1047, 1048, 1049, 1050, 1051, 1052, 1053, 1054, 1055, 1056, 1057, 1058, 1059, 1060, 1061, 1062, 1063, 1064, 1065, 1066, 1067, 1068, 1069, 1070, 1071, 1072, 1073, 1074, 1075, 1076, 1077, 1078, 1079, 1080, 1081, 1082, 1083, 1084, 1085, 1086, 1087, 1088, 1089, 1090, 1091, 1092, 1093, 1094, 1095, 1096, 1097, 1098, 1099, 1100, 1101, 1102, 1103, 1104, 1105, 1106, 1107, 1108, 1109, 1110, 1111, 1112, 1113, 1114, 1115, 1116, 1117, 1118, 1119, 1120, 1121, 1122, 1123, 1124, 1125, 1126, 1127, 1128, 1129, 1130, 1131, 1132, 1133, 1134, 1135, 1136, 1137, 1138, 1139, 1140, 1141, 1142, 1143, 1144, 1145, 1146, 1147, 1148, 1149, 1150, 1151, 1152, 1153, 1154, 1155, 1156, 1157, 1158, 1159, 1160, 1161, 1162, 1163, 1164, 1165, 1166, 1167, 1168, 1169, 1170, 1171, 1172, 1173, 1174, 1175, 1176, 1177, 1178, 1179, 1180, 1181, 1182, 1183, 1184, 1185, 1186, 1187, 1188, 1189, 1190, 1191, 1192, 1193, 1194, 1195, 1196, 1197, 1198, 1199, 1200, 1201, 1202, 1203, 1204, 1205, 1206, 1207, 1208, 1209, 1210, 1211, 1212, 1213, 1214, 1215, 1216, 1217, 1218, 1219, 1220, 1221, 1222, 1223, 1224, 1225, 1226, 1227, 1228, 1229, 1230, 1231, 1232, 1233, 1234, 1235, 1236, 1237, 1238, 1239, 1240, 1241, 1242, 1243, 1244, 1245, 1246, 1247, 1248, 1249, 1250, 1251, 1252, 1253, 1254, 1255, 1256, 1257, 1258, 1259, 1260, 1261, 1262, 1263, 1264, 1265, 1266, 1267, 1268, 1269, 1270, 1271, 1272, 1273, 1274, 1275, 1276, 1277, 1278, 1279, 1280, 1281, 1282, 1283, 1284, 1285, 1286, 1287, 1288, 1289, 1290, 1291, 1292, 1293, 1294, 1295, 1296, 1297, 1298, 1299, 1300, 1301, 1302, 1303, 1304, 1305, 1306, 1307, 1308, 1309, 1310, 1311, 1312, 1313, 1314, 1315, 1316, 1317, 1318, 1319, 1320, 1321, 1322, 1323, 1324, 1325, 1326, 1327, 1328, 1329, 1330, 1331, 1332, 1333, 1334, 1335, 1336, 1337, 1338, 1339, 1340, 1341, 1342, 1343, 1344, 1345, 1346, 1347, 1348, 1349, 1350, 1351, 1352, 1353, 1354, 1355, 1356, 1357, 1358, 1359, 1360, 1361, 1362, 1363, 1364, 1365, 1366, 1367, 1368, 1369, 1370, 1371, 1372, 1373, 1374, 1375, 1376, 1377, 1378, 1379, 1380, 1381, 1382, 1383, 1384, 1385, 1386, 1387, 1388, 1389, 1390, 1391, 1392, 1393, 1394, 1395, 1396, 1397, 1398, 1399, 1400, 1401, 1402, 1403, 1404, 1405, 1406, 1407, 1408, 1409, 1410, 1411, 1412, 1413, 1414, 1415, 1416, 1417, 1418, 1419, 1420, 1421, 1422, 1423, 1424, 1425, 1426, 1427, 1428, 1429, 1430, 1431, 1432, 1433, 1434, 1435, 1436, 1437, 1438, 1439, 1440, 1441, 1442, 1443, 1444, 1445, 1446, 1447, 1448, 1449, 1450, 1451, 1452, 1453, 1454, 1455, 1456, 1457, 1458, 1459, 1460, 1461, 1462, 1463, 1464, 1465, 1466, 1467, 1468, 1469, 1470, 1471, 1472, 1473, 1474, 1475, 1476, 1477, 1478, 1479, 1480, 1481, 1482, 1483, 1484, 1485, 1486, 1487, 1488, 1489, 1490, 1491, 1492, 1493, 1494, 1495, 1496, 1497, 1498, 1499, 1500, 1501, 1502, 1503, 1504, 1505, 1506, 1507, 1508, 1509, 1510, 1511, 1512, 1513, 1514, 1515, 1516, 1517, 1518, 1519, 1520, 1521, 1522, 1523, 1524, 1525, 1526, 1527, 1528, 1529, 1530, 1531, 1532, 1533, 1534, 1535, 1536, 1537, 1538, 1539, 1540, 1541, 1542, 1543, 1544, 1545, 1546, 1547, 1548, 1549, 1550, 1551, 1552, 1553, 1554, 1555, 1556, 1557, 1558, 1559, 1560, 1561, 1562, 1563, 1564, 1565, 1566, 1567, 1568, 1569, 1570, 1571, 1572, 1573, 1574, 1575, 1576, 1577, 1578, 1579, 1580, 1581, 1582, 1583, 1584, 1585, 1586, 1587, 1588, 1589, 1590, 1591, 1592, 1593, 1594, 1595, 1596, 1597, 1598, 1599, 1600, 1601, 1602, 1603, 1604, 1605, 1606, 1607, 1608, 1609, 1610, 1611, 1612, 1613, 1614, 1615, 1616, 1617, 1618, 1619, 1620, 1621, 1622, 1623, 1624, 1625, 1626, 1627, 1628, 1629, 1630, 1631, 1632, 1633, 1634, 1635, 1636, 1637, 1638, 1639, 1640, 1641, 1642, 1643, 1644, 1645, 1646, 1647, 1648, 1649, 1650, 1651, 1652, 1653, 1654, 1655, 1656, 1657, 1658, 1659, 1660, 1661, 1662, 1663, 1664, 1665, 1666, 1667, 1668, 1669, 1670, 1671, 1672, 1673, 1674, 1675, 1676, 1677, 1678, 1679, 1680, 1681, 1682, 1683, 1684, 1685, 1686, 1687, 1688, 1689, 1690, 1691, 1692, 1693, 1694, 1695, 1696, 1697, 1698, 1699, 1700, 1701, 1702, 1703, 1704, 1705, 1706, 1707, 1708, 1709, 1710, 1711, 1712, 1713, 1714, 1715, 1716, 1717, 1718, 1719, 1720, 1721, 1722, 1723, 1724, 1725, 1726, 1727, 1728, 1729, 1730, 1731, 1732, 1733, 1734, 1735, 1736, 1737, 1738, 1739, 1740, 1741, 1742, 1743, 1744, 1745, 1746, 1747, 1748, 1749, 1750, 1751, 1752, 1753, 1754, 1755, 1756, 1757, 1758, 1759, 1760, 1761, 1762, 1763, 1764, 1765, 1766, 1767, 1768, 1769, 1770, 1771, 1772, 1773, 1774, 1775, 1776, 1777, 1778, 1779, 1780, 1781, 1782, 1783, 1784, 1785, 1786, 1787, 1788, 1789, 1790, 1791, 1792, 1793, 1794, 1795, 1796, 1797, 1798, 1799, 1800, 1801, 1802, 1803, 1804, 1805, 1806, 1807, 1808, 1809, 1810, 1811, 1812, 1813, 1814, 1815, 1816, 1817, 1818, 1819, 1820, 1821, 1822, 1823, 1824, 1825, 1826, 1827, 1828, 1829, 1830, 1831, 1832, 1833, 1834, 1835, 1836, 1837, 1838, 1839, 1840, 1841, 1842, 1843, 1844, 1845, 1846, 1847, 1848, 1849, 1850, 1851, 1852, 1853, 1854, 1855, 1856, 1857, 1858, 1859, 1860, 1861, 1862, 1863, 1864, 1865, 1866, 1867, 1868, 1869, 1870, 1871, 1872, 1873, 1874, 1875, 1876, 1877, 1878, 1879, 1880, 1881, 1882, 1883, 1884, 1885, 1886, 1887, 1888, 1889, 1890, 1891, 1892, 1893, 1894, 1895, 1896, 1897, 1898, 1899, 1900, 1901, 1902, 1903, 1904, 1905, 1906, 1907, 1908, 1909, 1910, 1911, 1912, 1913, 1914, 1915, 1916, 1917, 1918, 1919, 1920, 1921, 1922, 1923, 1924, 1925, 1926, 1927, 1928, 1929, 1930, 1931, 1932, 1933, 1934, 1935, 1936, 1937, 1938, 1939, 1940, 1941, 1942, 1943, 1944, 1945, 1946, 1947, 1948, 1949, 1950, 1951, 1952, 1953, 1954, 1955, 1956, 1957, 1958, 1959, 1960, 1961, 1962, 1963, 1964, 1965, 1966, 1967, 1968, 1969, 1970, 1971, 1972, 1973, 1974, 1975, 1976, 1977, 1978, 1979, 1980, 1981, 1982, 1983, 1984, 1985, 1986, 1987, 1988, 1989, 1990, 1991, 1992, 1993, 1994, 1995, 1996, 1997, 1998, 1999, 2000, 2001, 2002, 2003, 2004, 2005, 2006, 2007, 2008, 2009, 2010, 2011, 2012, 2013, 2014, 2015, 2016, 2017, 2018, 2019, 2020, 2021, 2022, 2023, 2024, 2025, 2026, 2027, 2028, 2029, 2030, 2031, 2032, 2033, 2034, 2035, 2036, 2037, 2038, 2039, 2040, 2041, 2042, 2043, 2044, 2045, 2046, 2047, 2048, 2049, 2050, 2051, 2052, 2053, 2054, 2055, 2056, 2057, 2058, 2059, 2060, 2061, 2062, 2063, 2064, 2065, 2066, 2067, 2068, 2069, 2070, 2071, 2072, 2073, 2074, 2075, 2076, 2077, 2078, 2079, 2080, 2081, 2082, 2083, 2084, 2085, 2086, 2087, 2088, 2089, 2090, 2091, 2092, 2093, 2094, 2095, 2096, 2097, 2098, 2099, 2100, 2101, 2102, 2103, 2104, 2105, 2106, 2107, 2108, 2109, 2110, 2111, 2112, 2113, 2114, 2115, 2116, 2117, 2118, 2119, 2120, 2121, 2122, 2123, 2124, 2125, 2126, 2127, 2128, 2129, 2130, 2131, 2132, 2133, 2134, 2135, 2136, 2137, 2138, 2139, 2140, 2141, 2142, 2143, 2144, 2145, 2146, 2147, 2148, 2149, 2150, 2151, 2152, 2153, 2154, 2155, 2156, 2157, 2158, 2159, 2160, 2161, 2162, 2163, 2164, 2165, 2166, 2167, 2168, 2169, 2170, 2171, 2172, 2173, 2174, 2175, 2176, 2177, 2178, 2179, 2180, 2181, 2182, 2183, 2184, 2185, 2186, 2187, 2188, 2189, 2190, 2191, 2192, 2193, 2194, 2195, 2196, 2197, 2198, 2199, 2200, 2201, 2202, 2203, 2204, 2205, 2206, 2207, 2208, 2209, 2210, 2211, 2212, 2213, 2214, 2215, 2216, 2217, 2218, 2219, 2220, 2221, 2222, 2223, 2224, 2225, 2226, 2227, 2228, 2229, 2230, 2231, 2232, 2233, 2234, 2235, 2236, 2237, 2238, 2239, 2240, 2241, 2242, 2243, 2244, 2245, 2246, 2247, 2248, 2249, 2250, 2251, 2252, 2253, 2254, 2255, 2256, 2257, 2258, 2259, 2260, 2261, 2262, 2263, 2264, 2265, 2266, 2267, 2268, 2269, 2270, 2271, 2272, 2273, 2274, 2275, 2276, 2277, 2278, 2279, 2280, 2281, 2282, 2283, 2284, 2285, 2286, 2287, 2288, 2289, 2290, 2291, 2292, 2293, 2294, 2295, 2296, 2297, 2298, 2299, 2300, 2301, 2302, 2303, 2304, 2305, 2306, 2307, 2308, 2309, 2310, 2311, 2312, 2313, 2314, 2315, 2316, 2317, 2318, 2319, 2320, 2321, 2322, 2323, 2324, 2325, 2326, 2327, 2328, 2329, 2330, 2331, 2332, 2333, 2334, 2335, 2336, 2337, 2338, 2339, 2340, 2341, 2342, 2343, 2344, 2345, 2346, 2347, 2348, 2349, 2350, 2351, 2352, 2353, 2354, 2355, 2356, 2357, 2358, 2359, 2360, 2361, 2362, 2363, 2364, 2365, 2366, 2367, 2368, 2369, 2370, 2371, 2372, 2373, 2374, 2375, 2376, 2377, 2378, 2379, 2380, 2381, 2382, 2383, 2384, 2385, 2386, 2387, 2388, 2389, 2390, 2391, 2392, 2393, 2394, 2395, 2396, 2397, 2398, 2399, 2400, 2401, 2402, 2403, 2404, 2405, 2406, 2407, 2408, 2409, 2410, 2411, 2412, 2413, 2414, 2415, 2416, 2417, 2418, 2419, 2420, 2421, 2422, 2423, 2424, 2425, 2426, 2427, 2428, 2429, 2430, 2431, 2432, 2433, 2434, 2435, 2436, 2437, 2438, 2439, 2440, 2441, 2442, 2443, 2444, 2445, 2446, 2447, 2448, 2449, 2450, 2451, 2452, 2453, 2454, 2455, 2456, 2457, 2458, 2459, 2460, 2461, 2462, 2463, 2464, 2465, 2466, 2467, 2468, 2469, 2470, 2471, 2472, 2473, 2474, 2475, 2476, 2477, 2478, 2479, 2480, 2481, 2482, 2483, 2484, 2485, 2486, 2487, 2488, 2489, 2490, 2491, 2492, 2493, 2494, 2495, 2496, 2497, 2498, 2499, 2500, 2501, 2502, 2503, 2504, 2505, 2506, 2507, 2508, 2509, 2510, 2511, 2512, 2513, 2514, 2515, 2516, 2517, 2518, 2519, 2520, 2521, 2522, 2523, 2524, 2525, 2526, 2527, 2528, 2529, 2530, 2531, 2532, 2533, 2534, 2535, 2536, 2537, 2538, 2539, 2540, 2541, 2542, 2543, 2544, 2545, 2546, 2547, 2548, 2549, 2550, 2551, 2552, 2553, 2554, 2555, 2556, 2557, 2558, 2559, 2560, 2561, 2562, 2563, 2564, 2565, 2566, 2567, 2568, 2569, 2570, 2571, 2572, 2573, 2574, 2575, 2576, 2577, 2578, 2579, 2580, 2581, 2582, 2583, 2584, 2585, 2586, 2587, 2588, 2589, 2590, 2591, 2592, 2593, 2594, 2595, 2596, 2597, 2598, 2599, 2600, 2601, 2602, 2603, 2604, 2605, 2606, 2607, 2608, 2609, 2610, 2611, 2612, 2613, 2614, 2615, 2616, 2617, 2618, 2619, 2620, 2621, 2622, 2623, 2624, 2625, 2626, 2627, 2628, 2629, 2630, 2631, 2632, 2633, 2634, 2635, 2636, 2637, 2638, 2639, 2640, 2641, 2642, 2643, 2644, 2645, 2646, 2647, 2648, 2649, 2650, 2651, 2652, 2653, 2654, 2655, 2656, 2657, 2658, 2659, 2660, 2661, 2662, 2663, 2664, 2665, 2666, 2667, 2668, 2669, 2670, 2671, 2672, 2673, 2674, 2675, 2676, 2677, 2678, 2679, 2680, 2681, 2682, 2683, 2684, 2685, 2686, 2687, 2688, 2689, 2690, 2691, 2692, 2693, 2694, 2695, 2696, 2697, 2698, 2699, 2700, 2701, 2702, 2703, 2704, 2705, 2706, 2707, 2708, 2709, 2710, 2711, 2712, 2713, 2714, 2715, 2716, 2717, 2718, 2719, 2720, 2721, 2722, 2723, 2724, 2725, 2726, 2727, 2728, 2729, 2730, 2731, 2732, 2733, 2734, 2735, 2736, 2737, 2738, 2739, 2740, 2741, 2742, 2743, 2744, 2745, 2746, 2747, 2748, 2749, 2750, 2751, 2752, 2753, 2754, 2755, 2756, 2757, 2758, 2759, 2760, 2761, 2762, 2763, 2764, 2765, 2766, 2767, 2768, 2769, 2770, 2771, 2772, 2773, 2774, 2775, 2776, 2777, 2778, 2779, 2780, 2781, 2782, 2783, 2784, 2785, 2786, 2787, 2788, 2789, 2790, 2791, 2792, 2793, 2794, 2795, 2796, 2797, 2798, 2799, 2800, 2801, 2802, 2803, 2804, 2805, 2806, 2807, 2808, 2809, 2810, 2811, 2812, 2813, 2814, 2815, 2816, 2817, 2818, 2819, 2820, 2821, 2822, 2823, 2824, 2825, 2826, 2827, 2828, 2829, 2830, 2831, 2832, 2833, 2834, 2835, 2836, 2837, 2838, 2839, 2840, 2841, 2842, 2843, 2844, 2845, 2846, 2847, 2848, 2849, 2850, 2851, 2852, 2853, 2854, 2855, 2856, 2857, 2858, 2859, 2860, 2861, 2862, 2863, 2864, 2865, 2866, 2867, 2868, 2869, 2870, 2871, 2872, 2873, 2874, 2875, 2876, 2877, 2878, 2879, 2880, 2881, 2882, 2883, 2884, 2885, 2886, 2887, 2888, 2889, 2890, 2891, 2892, 2893, 2894, 2895, 2896, 2897, 2898, 2899, 2900, 2901, 2902, 2903, 2904, 2905, 2906, 2907, 2908, 2909, 2910, 2911, 2912, 2913, 2914, 2915, 2916, 2917, 2918, 2919, 2920, 2921, 2922, 2923, 2924, 2925, 2926, 2927, 2928, 2929, 2930, 2931, 2932, 2933, 2934, 2935, 2936, 2937, 2938, 2939, 2940, 2941, 2942, 2943, 2944, 2945, 2946, 2947, 2948, 2949, 2950, 2951, 2952, 2953, 2954, 2955, 2956, 2957, 2958, 2959, 2960, 2961, 2962, 2963, 2964, 2965, 2966, 2967, 2968, 2969, 2970, 2971, 2972, 2973, 2974, 2975, 2976, 2977, 2978, 2979, 2980, 2981, 2982, 2983, 2984, 2985, 2986, 2987, 2988, 2989, 2990, 2991, 2992, 2993, 2994, 2995, 2996, 2997, 2998, 2999, 3000, 3001, 3002, 3003, 3004, 3005, 3006, 3007, 3008, 3009, 3010, 3011, 3012, 3013, 3014, 3015, 3016, 3017, 3018, 3019, 3020, 3021, 3022, 3023, 3024, 3025, 3026, 3027, 3028, 3029, 3030, 3031, 3032, 3033, 3034, 3035, 3036, 3037, 3038, 3039, 3040, 3041, 3042, 3043, 3044, 3045, 3046, 3047, 3048, 3049, 3050, 3051, 3052, 3053, 3054, 3055, 3056, 3057, 3058, 3059, 3060, 3061, 3062, 3063, 3064, 3065, 3066, 3067, 3068, 3069, 3070, 3071, 3072, 3073, 3074, 3075, 3076, 3077, 3078, 3079, 3080, 3081, 3082, 3083, 3084, 3085, 3086, 3087, 3088, 3089, 3090, 3091, 3092, 3093, 3094, 3095, 3096, 3097, 3098, 3099, 3100, 3101, 3102, 3103, 3104, 3105, 3106, 3107, 3108, 3109, 3110, 3111, 3112, 3113, 3114, 3115, 3116, 3117, 3118, 3119, 3120, 3121, 3122, 3123, 3124, 3125, 3126, 3127, 3128, 3129, 3130, 3131, 3132, 3133, 3134, 3135, 3136, 3137, 3138, 3139, 3140, 3141, 3142, 3143, 3144, 3145, 3146, 3147, 3148, 3149, 3150, 3151, 3152, 3153, 3154, 3155, 3156, 3157, 3158, 3159, 3160, 3161, 3162, 3163, 3164, 3165, 3166, 3167, 3168, 3169, 3170, 3171, 3172, 3173, 3174, 3175, 3176, 3177, 3178, 3179, 3180, 3181, 3182, 3183, 3184, 3185, 3186, 3187, 3188, 3189, 3190, 3191, 3192, 3193, 3194, 3195, 3196, 3197, 3198, 3199, 3200, 3201, 3202, 3203, 3204, 3205, 3206, 3207, 3208, 3209, 3210, 3211, 3212, 3213, 3214, 3215, 3216, 3217, 3218, 3219, 3220, 3221, 3222, 3223, 3224, 3225, 3226, 3227, 3228, 3229, 3230, 3231, 3232, 3233, 3234, 3235, 3236, 3237, 3238, 3239, 3240, 3241, 3242, 3243, 3244, 3245, 3246, 3247, 3248, 3249, 3250, 3251, 3252, 3253, 3254, 3255, 3256, 3257, 3258, 3259, 3260, 3261, 3262, 3263, 3264, 3265, 3266, 3267, 3268, 3269, 3270, 3271, 3272, 3273, 3274, 3275, 3276, 3277, 3278, 3279, 3280, 3281, 3282, 3283, 3284, 3285, 3286, 3287, 3288, 3289, 3290, 3291, 3292, 3293, 3294, 3295, 3296, 3297, 3298, 3299, 3300, 3301, 3302, 3303, 3304, 3305, 3306, 3307, 3308, 3309, 3310, 3311, 3312, 3313, 3314, 3315, 3316, 3317, 3318, 3319, 3320, 3321, 3322, 3323, 3324, 3325, 3326, 3327, 3328, 3329, 3330, 3331, 3332, 3333, 3334, 3335, 3336, 3337, 3338, 3339, 3340, 3341, 3342, 3343, 3344, 3345, 3346, 3347, 3348, 3349, 3350, 3351, 3352, 3353, 3354, 3355, 3356, 3357, 3358, 3359, 3360, 3361, 3362, 3363, 3364, 3365, 3366, 3367, 3368, 3369, 3370, 3371, 3372, 3373, 3374, 3375, 3376, 3377, 3378, 3379, 3380, 3381, 3382, 3383, 3384, 3385, 3386, 3387, 3388, 3389, 3390, 3391, 3392, 3393, 3394, 3395, 3396, 3397, 3398, 3399, 3400, 3401, 3402, 3403, 3404, 3405, 3406, 3407, 3408, 3409, 3410, 3411, 3412, 3413, 3414, 3415, 3416, 3417, 3418, 3419, 3420, 3421, 3422, 3423, 3424, 3425, 3426, 3427, 3428, 3429, 3430, 3431, 3432, 3433, 3434, 3435, 3436, 3437, 3438, 3439, 3440, 3441, 3442, 3443, 3444, 3445, 3446, 3447, 3448, 3449, 3450, 3451, 3452, 3453, 3454, 3455, 3456, 3457, 3458, 3459, 3460, 3461, 3462, 3463, 3464, 3465, 3466, 3467, 3468, 3469, 3470, 3471, 3472, 3473, 3474, 3475, 3476, 3477, 3478, 3479, 3480, 3481, 3482, 3483, 3484, 3485, 3486, 3487, 3488, 3489, 3490, 3491, 3492, 3493, 3494, 3495, 3496, 3497, 3498, 3499, 3500, 3501, 3502, 3503, 3504, 3505, 3506, 3507, 3508, 3509, 3510, 3511, 3512, 3513, 3514, 3515, 3516, 3517, 3518, 3519, 3520, 3521, 3522, 3523, 3524, 3525, 3526, 3527, 3528, 3529, 3530, 3531, 3532, 3533, 3534, 3535, 3536, 3537, 3538, 3539, 3540, 3541, 3542, 3543, 3544, 3545, 3546, 3547, 3548, 3549, 3550, 3551, 3552, 3553, 3554, 3555, 3556, 3557, 3558, 3559, 3560, 3561, 3562, 3563, 3564, 3565, 3566, 3567, 3568, 3569, 3570, 3571, 3572, 3573, 3574, 3575, 3576, 3577, 3578, 3579, 3580, 3581, 3582, 3583, 3584, 3585, 3586, 3587, 3588, 3589, 3590, 3591, 3592, 3593, 3594, 3595, 3596, 3597, 3598, 3599, 3600, 3601, 3602, 3603, 3604, 3605, 3606, 3607, 3608, 3609, 3610, 3611, 3612, 3613, 3614, 3615, 3616, 3617, 3618, 3619, 3620, 3621, 3622, 3623, 3624, 3625, 3626, 3627, 3628, 3629, 3630, 3631, 3632, 3633, 3634, 3635, 3636, 3637, 3638, 3639, 3640, 3641, 3642, 3643, 3644, 3645, 3646, 3647, 3648, 3649, 3650, 3651, 3652, 3653, 3654, 3655, 3656, 3657, 3658, 3659, 3660, 3661, 3662, 3663, 3664, 3665, 3666, 3667, 3668, 3669, 3670, 3671, 3672, 3673, 3674, 3675, 3676, 3677, 3678, 3679, 3680, 3681, 3682, 3683, 3684, 3685, 3686, 3687, 3688, 3689, 3690, 3691, 3692, 3693, 3694, 3695, 3696, 3697, 3698, 3699, 3700, 3701, 3702, 3703, 3704, 3705, 3706, 3707, 3708, 3709, 3710, 3711, 3712, 3713, 3714, 3715, 3716, 3717, 3718, 3719, 3720, 3721, 3722, 3723, 3724, 3725, 3726, 3727, 3728, 3729, 3730, 3731, 3732, 3733, 3734, 3735, 3736, 3737, 3738, 3739, 3740, 3741, 3742, 3743, 3744, 3745, 3746, 3747, 3748, 3749, 3750, 3751, 3752, 3753, 3754, 3755, 3756, 3757, 3758, 3759, 3760, 3761, 3762, 3763, 3764, 3765, 3766, 3767, 3768, 3769, 3770, 3771, 3772, 3773, 3774, 3775, 3776, 3777, 3778, 3779, 3780, 3781, 3782, 3783, 3784, 3785, 3786, 3787, 3788, 3789, 3790, 3791, 3792, 3793, 3794, 3795, 3796, 3797, 3798, 3799, 3800, 3801, 3802, 3803, 3804, 3805, 3806, 3807, 3808, 3809, 3810, 3811, 3812, 3813, 3814, 3815, 3816, 3817, 3818, 3819, 3820, 3821, 3822, 3823, 3824, 3825, 3826, 3827, 3828, 3829, 3830, 3831, 3832, 3833, 3834, 3835, 3836, 3837, 3838, 3839, 3840, 3841, 3842, 3843, 3844, 3845, 3846, 3847, 3848, 3849, 3850, 3851, 3852, 3853, 3854, 3855, 3856, 3857, 3858, 3859, 3860, 3861, 3862, 3863, 3864, 3865, 3866, 3867, 3868, 3869, 3870, 3871, 3872, 3873, 3874, 3875, 3876, 3877, 3878, 3879, 3880, 3881, 3882, 3883, 3884, 3885, 3886, 3887, 3888, 3889, 3890, 3891, 3892, 3893, 3894, 3895, 3896, 3897, 3898, 3899, 3900, 3901, 3902, 3903, 3904, 3905, 3906, 3907, 3908, 3909, 3910, 3911, 3912, 3913, 3914, 3915, 3916, 3917, 3918, 3919, 3920, 3921, 3922, 3923, 3924, 3925, 3926, 3927, 3928, 3929, 3930, 3931, 3932, 3933, 3934, 3935, 3936, 3937, 3938, 3939, 3940, 3941, 3942, 3943, 3944, 3945, 3946, 3947, 3948, 3949, 3950, 3951, 3952, 3953, 3954, 3955, 3956, 3957, 3958, 3959, 3960, 3961, 3962, 3963, 3964, 3965, 3966, 3967, 3968, 3969, 3970, 3971, 3972, 3973, 3974, 3975, 3976, 3977, 3978, 3979, 3980, 3981, 3982, 3983, 3984, 3985, 3986, 3987, 3988, 3989, 3990, 3991, 3992, 3993, 3994, 3995, 3996, 3997, 3998, 3999, 4000, 4001, 4002, 4003, 4004, 4005, 4006, 4007, 4008, 4009, 4010, 4011, 4012, 4013, 4014, 4015, 4016, 4017, 4018, 4019, 4020, 4021, 4022, 4023, 4024, 4025, 4026, 4027, 4028, 4029, 4030, 4031, 4032, 4033, 4034, 4035, 4036, 4037, 4038, 4039, 4040, 4041], \"y\": [6, 3, 2, 1, 5, 5, 1, 1, 0, 2, 6, 1, 6, 5, 4, 9, 6, 1, 2, 7, 1, 6, 1, 1, 1, 1, 7, 7, 7, 5, 2, 2, 3, 4, 2, 5, 7, 1, 7, 1, 9, 1, 2, 1, 1, 1, 6, 7, 5, 3, 9, 1, 3, 1, 3, 5, 3, 1, 2, 2, 0, 1, 6, 2, 1, 6, 2, 0, 4, 5, 1, 5, 1, 1, 7, 5, 8, 7, 1, 5, 2, 1, 2, 7, 2, 2, 3, 8, 1, 1, 6, 1, 2, 0, 6, 3, 2, 1, 2, 5, 6, 2, 5, 7, 1, 1, 6, 6, 4, 1, 2, 6, 1, 6, 5, 1, 1, 2, 5, 5, 7, 1, 2, 1, 2, 7, 5, 8, 2, 1, 2, 2, 2, 2, 1, 5, 5, 0, 2, 2, 1, 0, 1, 3, 6, 0, 1, 1, 1, 1, 0, 5, 2, 1, 2, 5, 2, 1, 4, 1, 9, 6, 7, 5, 5, 5, 1, 1, 6, 1, 2, 6, 0, 4, 2, 6, 5, 3, 2, 1, 4, 5, 6, 6, 1, 1, 7, 2, 5, 7, 2, 1, 1, 8, 7, 4, 1, 6, 5, 7, 1, 6, 6, 6, 7, 3, 1, 3, 1, 1, 2, 9, 1, 1, 7, 2, 2, 0, 2, 1, 2, 4, 2, 3, 2, 5, 1, 1, 1, 2, 4, 4, 1, 7, 2, 1, 1, 7, 1, 1, 1, 1, 5, 1, 5, 8, 1, 8, 6, 2, 2, 1, 1, 8, 4, 4, 1, 1, 5, 2, 3, 2, 1, 1, 2, 3, 1, 1, 5, 1, 4, 0, 10, 5, 1, 2, 2, 2, 2, 2, 5, 0, 2, 8, 2, 1, 1, 6, 2, 1, 7, 1, 1, 8, 6, 2, 2, 6, 5, 6, 3, 7, 1, 5, 1, 1, 0, 2, 5, 5, 7, 6, 1, 2, 6, 2, 5, 6, 1, 5, 3, 2, 2, 1, 0, 7, 1, 2, 1, 7, 3, 1, 3, 2, 1, 8, 2, 1, 6, 5, 2, 7, 2, 2, 2, 0, 2, 8, 6, 0, 5, 2, 6, 7, 8, 1, 1, 7, 1, 6, 2, 3, 6, 2, 7, 6, 1, 3, 1, 5, 2, 2, 2, 1, 6, 6, 0, 6, 1, 2, 2, 1, 2, 1, 1, 6, 1, 2, 1, 1, 0, 5, 2, 2, 2, 0, 1, 4, 2, 1, 3, 2, 0, 1, 1, 1, 1, 8, 2, 2, 1, 3, 2, 5, 2, 5, 1, 1, 0, 1, 5, 4, 5, 0, 1, 8, 3, 1, 5, 1, 1, 3, 0, 0, 1, 1, 1, 2, 2, 2, 1, 5, 1, 2, 2, 1, 1, 4, 1, 1, 2, 2, 1, 1, 7, 2, 7, 2, 6, 6, 2, 5, 6, 7, 2, 5, 2, 5, 5, 1, 5, 1, 2, 2, 1, 7, 1, 1, 1, 1, 2, 5, 1, 0, 2, 2, 7, 1, 5, 7, 6, 0, 3, 7, 1, 2, 5, 1, 1, 6, 8, 2, 6, 2, 6, 4, 0, 1, 2, 2, 1, 1, 4, 6, 1, 7, 6, 1, 5, 2, 1, 1, 5, 2, 3, 5, 0, 2, 0, 7, 2, 5, 6, 2, 5, 2, 7, 10, 4, 3, 3, 6, 2, 5, 2, 1, 1, 1, 6, 7, 0, 2, 1, 10, 2, 1, 2, 1, 6, 3, 2, 1, 7, 3, 6, 9, 5, 6, 2, 9, 3, 9, 3, 7, 7, 7, 1, 1, 1, 8, 2, 1, 2, 1, 2, 1, 2, 1, 6, 4, 4, 3, 1, 6, 2, 7, 1, 2, 5, 4, 2, 7, 1, 7, 2, 1, 2, 5, 2, 4, 1, 1, 4, 5, 1, 1, 7, 3, 3, 2, 8, 4, 2, 6, 5, 5, 6, 1, 2, 1, 2, 1, 8, 0, 2, 3, 1, 2, 1, 0, 1, 6, 6, 2, 2, 0, 3, 4, 5, 2, 1, 1, 6, 7, 5, 2, 10, 1, 6, 1, 6, 1, 7, 6, 2, 1, 1, 1, 5, 2, 5, 6, 2, 6, 7, 7, 1, 9, 2, 5, 1, 1, 6, 6, 3, 6, 1, 1, 6, 1, 5, 6, 2, 2, 2, 2, 1, 1, 7, 2, 2, 2, 2, 1, 1, 2, 4, 7, 1, 5, 2, 2, 2, 9, 1, 2, 3, 3, 6, 6, 2, 1, 2, 2, 6, 2, 1, 1, 7, 5, 4, 7, 1, 0, 0, 1, 2, 1, 3, 2, 5, 7, 0, 5, 1, 2, 5, 2, 0, 1, 3, 7, 1, 8, 3, 5, 7, 3, 1, 1, 2, 4, 6, 1, 6, 2, 9, 3, 1, 7, 2, 3, 2, 2, 8, 1, 6, 6, 2, 5, 1, 6, 6, 5, 5, 9, 5, 5, 4, 2, 1, 1, 2, 5, 1, 1, 2, 7, 6, 1, 1, 2, 7, 1, 2, 8, 1, 5, 7, 7, 5, 6, 6, 6, 4, 1, 3, 0, 1, 2, 6, 5, 6, 1, 1, 0, 3, 6, 5, 6, 6, 2, 0, 4, 5, 2, 2, 0, 2, 5, 1, 2, 1, 2, 1, 2, 1, 2, 2, 4, 7, 1, 4, 3, 3, 2, 5, 0, 1, 6, 7, 8, 5, 5, 1, 5, 2, 0, 6, 2, 3, 1, 7, 1, 5, 6, 2, 8, 6, 1, 1, 2, 2, 2, 1, 1, 5, 2, 6, 8, 2, 5, 5, 1, 5, 1, 10, 1, 2, 7, 2, 1, 0, 3, 1, 2, 1, 1, 2, 6, 7, 5, 1, 5, 9, 1, 1, 7, 1, 0, 0, 5, 1, 1, 0, 2, 1, 1, 5, 5, 1, 3, 5, 1, 2, 5, 5, 3, 1, 5, 1, 2, 0, 5, 8, 1, 4, 2, 1, 3, 7, 2, 6, 5, 5, 1, 6, 1, 1, 1, 1, 8, 1, 1, 0, 8, 8, 4, 1, 1, 1, 2, 2, 1, 7, 1, 2, 5, 1, 6, 8, 7, 2, 2, 7, 2, 2, 6, 1, 2, 1, 0, 1, 7, 5, 3, 5, 1, 1, 2, 1, 2, 1, 1, 1, 9, 1, 1, 1, 5, 2, 8, 2, 9, 2, 6, 3, 1, 2, 1, 2, 1, 6, 1, 1, 7, 3, 2, 5, 5, 7, 5, 6, 2, 1, 1, 1, 5, 2, 2, 2, 7, 6, 4, 1, 6, 3, 4, 0, 2, 1, 1, 5, 8, 5, 1, 1, 6, 5, 5, 1, 3, 2, 2, 4, 1, 1, 5, 1, 6, 3, 1, 1, 2, 2, 2, 1, 1, 1, 8, 2, 1, 2, 4, 1, 6, 3, 5, 1, 1, 6, 2, 0, 5, 5, 7, 6, 6, 5, 5, 5, 2, 3, 2, 7, 1, 7, 2, 1, 5, 2, 2, 5, 1, 7, 1, 4, 1, 0, 1, 5, 1, 6, 6, 1, 2, 1, 2, 7, 2, 1, 2, 5, 5, 7, 2, 6, 5, 9, 2, 2, 5, 3, 2, 1, 10, 2, 3, 2, 5, 5, 3, 7, 1, 1, 5, 1, 1, 3, 6, 2, 7, 6, 1, 0, 6, 1, 8, 2, 5, 2, 1, 3, 5, 2, 1, 5, 1, 0, 1, 6, 5, 1, 6, 7, 5, 6, 3, 3, 1, 1, 2, 5, 1, 1, 6, 2, 6, 6, 1, 5, 7, 1, 1, 7, 2, 1, 8, 1, 7, 2, 10, 3, 1, 2, 6, 6, 1, 2, 1, 7, 2, 6, 1, 1, 7, 1, 3, 1, 2, 2, 1, 2, 5, 2, 3, 1, 2, 6, 2, 3, 6, 5, 8, 7, 6, 5, 6, 6, 3, 0, 2, 1, 5, 1, 3, 7, 6, 1, 7, 5, 1, 2, 1, 8, 1, 6, 1, 4, 1, 2, 7, 1, 2, 2, 5, 3, 2, 2, 2, 7, 5, 7, 5, 1, 1, 1, 6, 0, 6, 2, 1, 6, 1, 4, 2, 1, 5, 1, 5, 5, 2, 2, 0, 3, 1, 7, 1, 1, 2, 7, 5, 6, 7, 6, 3, 1, 7, 6, 7, 5, 6, 4, 7, 1, 1, 8, 3, 1, 0, 5, 7, 6, 1, 2, 6, 3, 6, 7, 1, 2, 2, 8, 1, 1, 5, 2, 6, 2, 2, 0, 0, 1, 0, 0, 1, 1, 1, 8, 5, 2, 2, 1, 7, 2, 0, 8, 1, 2, 5, 1, 2, 1, 5, 2, 7, 3, 3, 6, 3, 2, 6, 1, 2, 2, 1, 2, 6, 3, 6, 10, 8, 6, 3, 2, 5, 5, 1, 8, 1, 1, 9, 4, 1, 1, 6, 3, 5, 2, 5, 2, 8, 5, 0, 0, 1, 2, 5, 7, 8, 1, 1, 5, 3, 2, 1, 7, 1, 2, 1, 7, 0, 8, 6, 1, 6, 1, 1, 8, 4, 1, 2, 6, 1, 5, 1, 1, 2, 1, 1, 7, 2, 8, 1, 1, 3, 2, 4, 5, 6, 1, 8, 2, 2, 6, 2, 2, 0, 1, 2, 6, 7, 2, 1, 0, 1, 4, 6, 2, 0, 1, 2, 2, 5, 1, 5, 2, 2, 5, 7, 7, 2, 4, 7, 2, 4, 2, 7, 2, 3, 2, 5, 1, 6, 2, 9, 1, 5, 4, 9, 0, 7, 2, 8, 5, 3, 7, 1, 1, 1, 6, 2, 6, 7, 1, 8, 1, 2, 8, 2, 1, 1, 1, 2, 2, 6, 6, 1, 5, 0, 1, 1, 1, 2, 4, 2, 5, 6, 6, 1, 2, 2, 1, 2, 2, 6, 6, 2, 1, 2, 7, 6, 1, 4, 1, 5, 2, 2, 5, 2, 1, 2, 5, 2, 1, 2, 1, 2, 2, 5, 2, 1, 1, 5, 1, 1, 1, 1, 5, 0, 1, 7, 1, 1, 3, 5, 2, 1, 2, 7, 6, 5, 6, 1, 2, 7, 5, 1, 2, 1, 2, 0, 5, 2, 1, 1, 8, 6, 2, 7, 1, 5, 8, 3, 5, 2, 2, 5, 1, 6, 2, 0, 5, 1, 2, 2, 2, 6, 2, 1, 5, 0, 2, 7, 2, 1, 2, 5, 4, 2, 2, 7, 7, 7, 2, 1, 1, 1, 1, 1, 2, 5, 2, 2, 1, 1, 8, 5, 1, 2, 1, 2, 1, 1, 5, 8, 1, 2, 1, 7, 1, 0, 2, 3, 2, 1, 1, 7, 2, 1, 5, 4, 1, 1, 1, 2, 1, 2, 1, 1, 6, 2, 0, 6, 8, 7, 6, 7, 5, 8, 1, 2, 6, 6, 7, 2, 6, 3, 1, 1, 6, 3, 1, 5, 2, 1, 1, 1, 2, 5, 0, 4, 3, 1, 0, 3, 1, 2, 2, 6, 6, 5, 2, 1, 1, 1, 2, 6, 1, 7, 1, 5, 6, 0, 1, 1, 5, 3, 5, 1, 1, 1, 5, 1, 6, 2, 5, 2, 0, 0, 1, 2, 5, 3, 1, 5, 5, 1, 1, 1, 1, 1, 1, 4, 5, 6, 2, 2, 1, 6, 2, 4, 5, 2, 9, 6, 2, 6, 1, 5, 2, 5, 1, 0, 6, 7, 1, 5, 1, 2, 3, 8, 2, 2, 1, 5, 5, 1, 5, 5, 5, 1, 0, 3, 0, 5, 2, 2, 6, 2, 2, 7, 8, 2, 8, 1, 2, 4, 4, 1, 7, 3, 5, 0, 2, 2, 1, 1, 5, 1, 1, 2, 2, 1, 5, 6, 7, 1, 8, 6, 1, 4, 1, 7, 1, 2, 1, 5, 7, 1, 1, 4, 6, 0, 2, 5, 6, 5, 2, 6, 2, 4, 0, 4, 5, 7, 7, 4, 1, 1, 4, 0, 6, 3, 6, 7, 2, 2, 1, 1, 10, 6, 1, 7, 3, 1, 7, 7, 1, 1, 1, 6, 1, 7, 7, 1, 3, 1, 1, 7, 1, 2, 6, 2, 2, 1, 1, 6, 7, 4, 4, 2, 4, 1, 6, 9, 4, 7, 3, 3, 1, 2, 5, 0, 1, 5, 2, 1, 2, 6, 8, 5, 5, 1, 6, 1, 6, 7, 1, 6, 2, 1, 0, 1, 1, 3, 2, 6, 2, 5, 1, 5, 2, 1, 5, 6, 1, 5, 8, 5, 5, 7, 6, 1, 1, 0, 2, 5, 1, 1, 1, 7, 6, 2, 6, 2, 7, 6, 4, 0, 3, 1, 2, 5, 3, 2, 6, 5, 7, 2, 7, 0, 2, 1, 0, 6, 9, 3, 6, 2, 1, 5, 1, 6, 5, 5, 2, 1, 3, 2, 2, 1, 1, 5, 7, 1, 1, 2, 6, 6, 1, 1, 0, 2, 1, 0, 1, 4, 2, 2, 6, 1, 1, 2, 1, 4, 0, 8, 6, 5, 5, 5, 1, 7, 2, 1, 5, 2, 5, 7, 3, 2, 1, 5, 5, 1, 6, 7, 2, 7, 1, 1, 6, 1, 0, 1, 3, 8, 6, 1, 3, 5, 6, 1, 5, 6, 1, 4, 8, 2, 8, 4, 5, 1, 2, 2, 5, 2, 6, 1, 6, 1, 1, 0, 2, 0, 6, 6, 5, 5, 1, 10, 5, 1, 2, 2, 1, 8, 1, 1, 5, 7, 7, 6, 7, 4, 1, 8, 1, 0, 9, 6, 5, 1, 8, 6, 2, 2, 4, 0, 6, 4, 0, 5, 7, 1, 5, 1, 4, 2, 7, 1, 3, 1, 6, 1, 1, 4, 1, 8, 2, 6, 1, 1, 3, 6, 5, 1, 5, 1, 2, 2, 10, 3, 1, 4, 2, 1, 5, 1, 1, 2, 8, 6, 1, 1, 2, 1, 5, 6, 2, 3, 0, 1, 5, 5, 6, 2, 2, 1, 1, 0, 7, 2, 1, 1, 7, 5, 4, 2, 7, 1, 6, 2, 1, 7, 7, 1, 2, 1, 2, 1, 2, 1, 7, 1, 1, 7, 1, 6, 2, 6, 1, 0, 4, 1, 1, 2, 4, 2, 1, 2, 2, 1, 1, 5, 0, 2, 1, 7, 1, 1, 1, 5, 1, 7, 6, 8, 1, 2, 5, 1, 7, 3, 1, 2, 2, 1, 1, 1, 0, 1, 6, 3, 3, 1, 1, 3, 1, 1, 2, 2, 5, 5, 5, 6, 2, 7, 2, 8, 1, 3, 3, 2, 2, 1, 6, 7, 7, 7, 2, 2, 1, 2, 5, 6, 4, 2, 7, 3, 2, 1, 2, 4, 2, 2, 6, 1, 2, 2, 1, 6, 1, 1, 6, 1, 1, 1, 1, 7, 7, 3, 0, 8, 5, 3, 2, 2, 6, 3, 6, 1, 2, 7, 5, 0, 5, 1, 8, 0, 7, 2, 1, 5, 2, 1, 6, 5, 2, 3, 2, 2, 1, 7, 4, 1, 1, 1, 1, 7, 2, 0, 5, 1, 2, 5, 2, 1, 6, 2, 1, 1, 7, 6, 1, 2, 1, 6, 5, 6, 1, 1, 1, 4, 2, 2, 7, 1, 1, 2, 6, 5, 2, 5, 5, 1, 2, 1, 2, 4, 2, 3, 7, 3, 8, 3, 7, 3, 7, 3, 2, 2, 3, 1, 4, 2, 2, 3, 1, 1, 2, 1, 6, 1, 2, 5, 5, 2, 4, 1, 4, 1, 2, 2, 1, 1, 2, 8, 6, 1, 2, 1, 1, 2, 0, 1, 7, 1, 1, 4, 4, 6, 5, 4, 1, 0, 1, 2, 1, 1, 6, 7, 2, 2, 3, 7, 5, 5, 1, 2, 7, 5, 4, 1, 7, 2, 6, 1, 6, 6, 1, 1, 8, 6, 1, 5, 5, 4, 5, 2, 2, 5, 2, 6, 9, 6, 1, 2, 1, 2, 6, 9, 0, 2, 1, 7, 1, 1, 6, 7, 2, 5, 0, 7, 2, 2, 1, 2, 7, 5, 6, 2, 1, 1, 3, 4, 5, 1, 6, 3, 6, 5, 5, 1, 1, 6, 2, 2, 6, 3, 2, 5, 1, 2, 5, 2, 6, 1, 6, 1, 8, 4, 1, 5, 1, 6, 1, 6, 2, 4, 5, 3, 6, 2, 1, 7, 7, 9, 2, 6, 3, 7, 2, 1, 2, 6, 2, 3, 1, 2, 0, 9, 2, 2, 1, 2, 2, 2, 3, 2, 1, 2, 1, 7, 1, 2, 1, 4, 2, 0, 1, 8, 7, 1, 1, 6, 1, 1, 2, 6, 2, 6, 1, 2, 5, 2, 2, 3, 8, 1, 6, 4, 5, 6, 7, 1, 2, 2, 5, 1, 4, 1, 4, 2, 2, 2, 1, 3, 8, 1, 6, 9, 6, 1, 5, 6, 1, 1, 8, 4, 1, 4, 6, 1, 1, 5, 6, 4, 2, 6, 1, 5, 6, 1, 5, 0, 0, 2, 1, 5, 2, 0, 2, 1, 0, 6, 2, 2, 6, 2, 5, 10, 1, 3, 2, 6, 5, 1, 1, 3, 4, 1, 1, 1, 2, 1, 1, 1, 6, 2, 2, 1, 2, 1, 2, 2, 3, 2, 7, 1, 7, 2, 4, 4, 2, 1, 1, 2, 4, 2, 1, 6, 1, 0, 4, 2, 6, 2, 7, 3, 2, 0, 5, 1, 1, 1, 7, 5, 1, 1, 6, 1, 4, 0, 5, 3, 5, 6, 5, 2, 2, 2, 2, 0, 1, 5, 7, 0, 2, 1, 6, 3, 5, 2, 6, 2, 5, 1, 1, 2, 1, 8, 5, 1, 2, 0, 2, 1, 1, 5, 2, 2, 7, 2, 2, 4, 2, 0, 7, 1, 1, 4, 6, 2, 8, 4, 1, 8, 8, 6, 1, 1, 2, 2, 1, 1, 2, 6, 2, 2, 1, 7, 7, 2, 1, 1, 8, 5, 1, 1, 7, 1, 1, 6, 1, 0, 6, 6, 1, 1, 1, 2, 1, 5, 4, 2, 2, 1, 2, 6, 6, 2, 1, 2, 6, 8, 2, 2, 5, 5, 3, 1, 8, 0, 6, 1, 8, 5, 7, 6, 1, 2, 0, 2, 2, 2, 2, 4, 1, 3, 5, 6, 1, 7, 2, 4, 1, 1, 2, 2, 3, 2, 0, 7, 7, 6, 2, 2, 2, 7, 1, 2, 7, 2, 1, 2, 8, 8, 1, 4, 2, 1, 1, 2, 2, 2, 2, 5, 1, 1, 2, 5, 7, 5, 1, 1, 4, 1, 1, 2, 0, 3, 3, 1, 3, 5, 2, 1, 1, 2, 1, 5, 6, 2, 0, 4, 1, 5, 1, 0, 2, 0, 1, 3, 6, 1, 1, 4, 1, 1, 6, 0, 9, 1, 7, 1, 1, 0, 2, 8, 9, 1, 2, 1, 4, 0, 2, 2, 6, 1, 1, 6, 1, 5, 7, 8, 7, 6, 7, 0, 5, 6, 6, 2, 2, 6, 6, 8, 9, 6, 3, 2, 1, 2, 5, 6, 1, 2, 7, 2, 6, 2, 7, 8, 1, 4, 5, 7, 2, 2, 1, 7, 3, 1, 2, 1, 1, 4, 2, 7, 2, 1, 8, 2, 1, 5, 5, 6, 1, 8, 8, 2, 6, 6, 9, 0, 6, 6, 3, 1, 6, 7, 1, 8, 3, 4, 5, 7, 7, 3, 3, 2, 2, 2, 4, 1, 10, 2, 7, 1, 2, 7, 6, 5, 0, 2, 1, 0, 4, 1, 6, 1, 2, 2, 5, 7, 2, 5, 1, 2, 1, 5, 3, 5, 5, 0, 2, 1, 7, 7, 5, 1, 1, 1, 2, 1, 1, 2, 2, 6, 4, 5, 3, 1, 6, 1, 3, 1, 4, 5, 1, 6, 1, 2, 5, 6, 6, 4, 1, 7, 1, 5, 0, 5, 6, 0, 6, 2, 3, 1, 2, 7, 1, 8, 1, 7, 1, 0, 4, 2, 1, 2, 2, 1, 5, 6, 1, 1, 1, 1, 4, 5, 4, 6, 1, 1, 1, 6, 6, 1, 7, 0, 1, 1, 2, 3, 2, 8, 6, 1, 0, 2, 1, 1, 1, 1, 5, 2, 1, 2, 1, 3, 7, 1, 5, 0, 0, 3, 5, 1, 2, 2, 4, 1, 1, 6, 2, 2, 1, 7, 1, 2, 7, 5, 6, 1, 1, 1, 6, 2, 2, 1, 5, 1, 1, 1, 3, 8, 6, 0, 2, 2, 5, 1, 6, 2, 0, 7, 2, 1, 1, 6, 6, 1, 6, 3, 1, 5, 7, 0, 8, 7, 2, 2, 8, 2, 2, 7, 2, 1, 2, 3, 5, 1, 6, 6, 5, 1, 0, 9, 1, 0, 8, 6, 2, 1, 7, 4, 5, 7, 1, 1, 1, 2, 6, 1, 2, 6, 2, 4, 5, 6, 3, 2, 2, 2, 1, 2, 2, 2, 2, 1, 6, 1, 5, 5, 2, 7, 10, 6, 5, 3, 5, 8, 1, 7, 5, 8, 5, 10, 0, 5, 6, 8, 6, 1, 1, 5, 1, 1, 7, 2, 5, 2, 9, 6, 1, 1, 6, 1, 0, 0, 6, 1, 5, 2, 2, 1, 5, 5, 7, 5, 1, 6, 6, 6, 8, 7, 5, 2, 2, 2, 7, 4, 5, 1, 5, 5, 3, 2, 2, 2, 5, 7, 2, 2, 2, 0, 1, 2, 2, 7, 1, 6, 3, 1, 1, 9, 0, 2, 4, 7, 1, 8, 5, 6, 3, 2, 6, 2, 1, 1, 2, 2, 2, 1, 2, 7, 1, 3, 2, 1, 1, 2, 3, 1, 1, 5, 5, 1, 7, 1, 1, 4, 6, 1, 1, 1, 6, 3, 6, 1, 0, 2, 10, 1, 2, 5, 6, 1, 7, 1, 0, 1, 4, 1, 5, 1, 1, 6, 5, 5, 3, 3, 2, 1, 2, 1, 7, 1, 5, 1, 1, 1, 2, 5, 1, 5, 2, 3, 7, 7, 6, 6, 3, 2, 3, 8, 3, 2, 1, 1, 7, 7, 1, 1, 8, 2, 6, 4, 1, 7, 1, 1, 5, 5, 2, 1, 4, 1, 8, 1, 6, 1, 1, 2, 6, 2, 4, 3, 5, 1, 6, 1, 7, 2, 6, 6, 1, 7, 6, 1, 1, 5, 1, 5, 1, 2, 5, 0, 7, 4, 1, 1, 3, 2, 1, 2, 2, 5, 0, 1, 2, 1, 4, 1, 1, 6, 1, 1, 3, 8, 4, 2, 1, 7, 2, 0, 1, 1, 1, 1, 1, 1, 1, 5, 5, 1, 1, 1, 2, 2, 1, 1, 1, 1, 2, 7, 1, 5, 0, 3, 2, 6, 3, 3, 2, 1, 5, 2, 3, 5, 7, 2, 2, 3, 5, 2, 6, 6, 1, 6, 1, 2, 8, 0, 9, 2, 5, 2, 1, 7, 4, 7, 0, 1, 4, 1, 2, 1, 1, 2, 6, 2, 3, 1, 2, 4, 2, 5, 2, 7, 7, 1, 1, 5, 7, 5, 1, 3, 5, 5, 4, 4, 1, 1, 1, 1, 2, 5, 5, 2, 2, 1, 6, 8, 1, 6, 4, 7, 1, 5, 2, 1, 2, 7, 7, 2, 2, 1, 7, 7, 1, 8, 1, 1, 1, 2, 1, 2, 5, 2, 1, 3, 1, 8, 6, 6, 2, 8, 7, 2, 3, 5, 2, 9, 6, 6, 7, 2, 5, 2, 5, 1, 0, 6, 1, 1, 2, 7, 1, 0, 1, 3, 4, 1, 4, 8, 1, 6, 5, 8, 5, 3, 2, 1, 6, 5, 2, 2, 7, 5, 3, 6, 0, 6, 8, 2, 1, 5, 8, 1, 1, 5, 1, 6, 5, 1, 1, 1, 2, 2, 1, 9, 7, 2, 7, 1, 2, 1, 1, 5, 2, 7, 6, 2, 3, 2, 2, 7, 2, 3, 6, 2, 2, 1, 1, 6, 1, 1, 5, 3, 2, 1, 1, 1, 6, 1, 3, 1, 1, 2, 7, 3, 5, 1, 2, 1, 1, 6, 3, 2, 1, 1, 3, 8, 4, 3, 2, 3, 0, 4, 1, 2, 4, 2, 5, 2, 5, 2, 1, 1, 2, 1, 0, 1, 1, 2, 2, 5, 3, 1, 2, 10, 2, 1, 6, 2, 8, 5, 2, 2, 0, 6, 3, 1, 2, 1, 4, 3, 2, 6, 1, 6, 7, 2, 7, 5, 5, 5, 4, 5, 1, 2, 8, 1, 7, 6, 4, 0, 5, 1, 6, 8, 6, 2, 2, 2, 6, 6, 3, 5, 1, 10, 2, 1, 1, 1, 5, 2, 0, 5, 7, 7, 2, 2, 2, 2, 1, 0, 1, 4, 3, 7, 7, 5, 2, 1, 3, 5, 1, 1, 5, 10, 6, 4, 1, 1, 0, 1, 0, 7, 1, 2, 5, 1, 1, 1, 8, 6, 1, 5, 2, 2, 5, 2, 1, 5, 1, 1, 6, 2, 3, 2, 1, 5, 2, 1, 2, 2, 6, 2, 7, 2, 1, 2, 1, 6, 2, 2, 2, 2, 6, 2, 5, 2, 6, 1, 2, 8, 0, 5, 1, 2, 5, 1, 1, 6, 1, 6, 1, 2, 5, 7, 7, 4, 1, 2, 2, 2, 2, 6, 0, 6, 2, 5, 6, 2, 1, 1, 6, 0, 6, 2, 1, 6, 1, 2, 5, 1, 1, 6, 5, 5, 0, 3, 0, 7, 2, 0, 1, 1, 2, 2, 4, 1, 2, 6, 0, 8, 6, 3]}],\n",
              "                        {\"template\": {\"data\": {\"bar\": [{\"error_x\": {\"color\": \"#2a3f5f\"}, \"error_y\": {\"color\": \"#2a3f5f\"}, \"marker\": {\"line\": {\"color\": \"#E5ECF6\", \"width\": 0.5}}, \"type\": \"bar\"}], \"barpolar\": [{\"marker\": {\"line\": {\"color\": \"#E5ECF6\", \"width\": 0.5}}, \"type\": \"barpolar\"}], \"carpet\": [{\"aaxis\": {\"endlinecolor\": \"#2a3f5f\", \"gridcolor\": \"white\", \"linecolor\": \"white\", \"minorgridcolor\": \"white\", \"startlinecolor\": \"#2a3f5f\"}, \"baxis\": {\"endlinecolor\": \"#2a3f5f\", \"gridcolor\": \"white\", \"linecolor\": \"white\", \"minorgridcolor\": \"white\", \"startlinecolor\": \"#2a3f5f\"}, \"type\": \"carpet\"}], \"choropleth\": [{\"colorbar\": {\"outlinewidth\": 0, \"ticks\": \"\"}, \"type\": \"choropleth\"}], \"contour\": [{\"colorbar\": {\"outlinewidth\": 0, \"ticks\": \"\"}, \"colorscale\": [[0.0, \"#0d0887\"], [0.1111111111111111, \"#46039f\"], [0.2222222222222222, \"#7201a8\"], [0.3333333333333333, \"#9c179e\"], [0.4444444444444444, \"#bd3786\"], [0.5555555555555556, \"#d8576b\"], [0.6666666666666666, \"#ed7953\"], [0.7777777777777778, \"#fb9f3a\"], [0.8888888888888888, \"#fdca26\"], [1.0, \"#f0f921\"]], \"type\": \"contour\"}], \"contourcarpet\": [{\"colorbar\": {\"outlinewidth\": 0, \"ticks\": \"\"}, \"type\": \"contourcarpet\"}], \"heatmap\": [{\"colorbar\": {\"outlinewidth\": 0, \"ticks\": \"\"}, \"colorscale\": [[0.0, \"#0d0887\"], [0.1111111111111111, \"#46039f\"], [0.2222222222222222, \"#7201a8\"], [0.3333333333333333, \"#9c179e\"], [0.4444444444444444, \"#bd3786\"], [0.5555555555555556, \"#d8576b\"], [0.6666666666666666, \"#ed7953\"], [0.7777777777777778, \"#fb9f3a\"], [0.8888888888888888, \"#fdca26\"], [1.0, \"#f0f921\"]], \"type\": \"heatmap\"}], \"heatmapgl\": [{\"colorbar\": {\"outlinewidth\": 0, \"ticks\": \"\"}, \"colorscale\": [[0.0, \"#0d0887\"], [0.1111111111111111, \"#46039f\"], [0.2222222222222222, \"#7201a8\"], [0.3333333333333333, \"#9c179e\"], [0.4444444444444444, \"#bd3786\"], [0.5555555555555556, \"#d8576b\"], [0.6666666666666666, \"#ed7953\"], [0.7777777777777778, \"#fb9f3a\"], [0.8888888888888888, \"#fdca26\"], [1.0, \"#f0f921\"]], \"type\": \"heatmapgl\"}], \"histogram\": [{\"marker\": {\"colorbar\": {\"outlinewidth\": 0, \"ticks\": \"\"}}, \"type\": \"histogram\"}], \"histogram2d\": [{\"colorbar\": {\"outlinewidth\": 0, \"ticks\": \"\"}, \"colorscale\": [[0.0, \"#0d0887\"], [0.1111111111111111, \"#46039f\"], [0.2222222222222222, \"#7201a8\"], [0.3333333333333333, \"#9c179e\"], [0.4444444444444444, \"#bd3786\"], [0.5555555555555556, \"#d8576b\"], [0.6666666666666666, \"#ed7953\"], [0.7777777777777778, \"#fb9f3a\"], [0.8888888888888888, \"#fdca26\"], [1.0, \"#f0f921\"]], \"type\": \"histogram2d\"}], \"histogram2dcontour\": [{\"colorbar\": {\"outlinewidth\": 0, \"ticks\": \"\"}, \"colorscale\": [[0.0, \"#0d0887\"], [0.1111111111111111, \"#46039f\"], [0.2222222222222222, \"#7201a8\"], [0.3333333333333333, \"#9c179e\"], [0.4444444444444444, \"#bd3786\"], [0.5555555555555556, \"#d8576b\"], [0.6666666666666666, \"#ed7953\"], [0.7777777777777778, \"#fb9f3a\"], [0.8888888888888888, \"#fdca26\"], [1.0, \"#f0f921\"]], \"type\": \"histogram2dcontour\"}], \"mesh3d\": [{\"colorbar\": {\"outlinewidth\": 0, \"ticks\": \"\"}, \"type\": \"mesh3d\"}], \"parcoords\": [{\"line\": {\"colorbar\": {\"outlinewidth\": 0, \"ticks\": \"\"}}, \"type\": \"parcoords\"}], \"pie\": [{\"automargin\": true, \"type\": \"pie\"}], \"scatter\": [{\"marker\": {\"colorbar\": {\"outlinewidth\": 0, \"ticks\": \"\"}}, \"type\": \"scatter\"}], \"scatter3d\": [{\"line\": {\"colorbar\": {\"outlinewidth\": 0, \"ticks\": \"\"}}, \"marker\": {\"colorbar\": {\"outlinewidth\": 0, \"ticks\": \"\"}}, \"type\": \"scatter3d\"}], \"scattercarpet\": [{\"marker\": {\"colorbar\": {\"outlinewidth\": 0, \"ticks\": \"\"}}, \"type\": \"scattercarpet\"}], \"scattergeo\": [{\"marker\": {\"colorbar\": {\"outlinewidth\": 0, \"ticks\": \"\"}}, \"type\": \"scattergeo\"}], \"scattergl\": [{\"marker\": {\"colorbar\": {\"outlinewidth\": 0, \"ticks\": \"\"}}, \"type\": \"scattergl\"}], \"scattermapbox\": [{\"marker\": {\"colorbar\": {\"outlinewidth\": 0, \"ticks\": \"\"}}, \"type\": \"scattermapbox\"}], \"scatterpolar\": [{\"marker\": {\"colorbar\": {\"outlinewidth\": 0, \"ticks\": \"\"}}, \"type\": \"scatterpolar\"}], \"scatterpolargl\": [{\"marker\": {\"colorbar\": {\"outlinewidth\": 0, \"ticks\": \"\"}}, \"type\": \"scatterpolargl\"}], \"scatterternary\": [{\"marker\": {\"colorbar\": {\"outlinewidth\": 0, \"ticks\": \"\"}}, \"type\": \"scatterternary\"}], \"surface\": [{\"colorbar\": {\"outlinewidth\": 0, \"ticks\": \"\"}, \"colorscale\": [[0.0, \"#0d0887\"], [0.1111111111111111, \"#46039f\"], [0.2222222222222222, \"#7201a8\"], [0.3333333333333333, \"#9c179e\"], [0.4444444444444444, \"#bd3786\"], [0.5555555555555556, \"#d8576b\"], [0.6666666666666666, \"#ed7953\"], [0.7777777777777778, \"#fb9f3a\"], [0.8888888888888888, \"#fdca26\"], [1.0, \"#f0f921\"]], \"type\": \"surface\"}], \"table\": [{\"cells\": {\"fill\": {\"color\": \"#EBF0F8\"}, \"line\": {\"color\": \"white\"}}, \"header\": {\"fill\": {\"color\": \"#C8D4E3\"}, \"line\": {\"color\": \"white\"}}, \"type\": \"table\"}]}, \"layout\": {\"annotationdefaults\": {\"arrowcolor\": \"#2a3f5f\", \"arrowhead\": 0, \"arrowwidth\": 1}, \"coloraxis\": {\"colorbar\": {\"outlinewidth\": 0, \"ticks\": \"\"}}, \"colorscale\": {\"diverging\": [[0, \"#8e0152\"], [0.1, \"#c51b7d\"], [0.2, \"#de77ae\"], [0.3, \"#f1b6da\"], [0.4, \"#fde0ef\"], [0.5, \"#f7f7f7\"], [0.6, \"#e6f5d0\"], [0.7, \"#b8e186\"], [0.8, \"#7fbc41\"], [0.9, \"#4d9221\"], [1, \"#276419\"]], \"sequential\": [[0.0, \"#0d0887\"], [0.1111111111111111, \"#46039f\"], [0.2222222222222222, \"#7201a8\"], [0.3333333333333333, \"#9c179e\"], [0.4444444444444444, \"#bd3786\"], [0.5555555555555556, \"#d8576b\"], [0.6666666666666666, \"#ed7953\"], [0.7777777777777778, \"#fb9f3a\"], [0.8888888888888888, \"#fdca26\"], [1.0, \"#f0f921\"]], \"sequentialminus\": [[0.0, \"#0d0887\"], [0.1111111111111111, \"#46039f\"], [0.2222222222222222, \"#7201a8\"], [0.3333333333333333, \"#9c179e\"], [0.4444444444444444, \"#bd3786\"], [0.5555555555555556, \"#d8576b\"], [0.6666666666666666, \"#ed7953\"], [0.7777777777777778, \"#fb9f3a\"], [0.8888888888888888, \"#fdca26\"], [1.0, \"#f0f921\"]]}, \"colorway\": [\"#636efa\", \"#EF553B\", \"#00cc96\", \"#ab63fa\", \"#FFA15A\", \"#19d3f3\", \"#FF6692\", \"#B6E880\", \"#FF97FF\", \"#FECB52\"], \"font\": {\"color\": \"#2a3f5f\"}, \"geo\": {\"bgcolor\": \"white\", \"lakecolor\": \"white\", \"landcolor\": \"#E5ECF6\", \"showlakes\": true, \"showland\": true, \"subunitcolor\": \"white\"}, \"hoverlabel\": {\"align\": \"left\"}, \"hovermode\": \"closest\", \"mapbox\": {\"style\": \"light\"}, \"paper_bgcolor\": \"white\", \"plot_bgcolor\": \"#E5ECF6\", \"polar\": {\"angularaxis\": {\"gridcolor\": \"white\", \"linecolor\": \"white\", \"ticks\": \"\"}, \"bgcolor\": \"#E5ECF6\", \"radialaxis\": {\"gridcolor\": \"white\", \"linecolor\": \"white\", \"ticks\": \"\"}}, \"scene\": {\"xaxis\": {\"backgroundcolor\": \"#E5ECF6\", \"gridcolor\": \"white\", \"gridwidth\": 2, \"linecolor\": \"white\", \"showbackground\": true, \"ticks\": \"\", \"zerolinecolor\": \"white\"}, \"yaxis\": {\"backgroundcolor\": \"#E5ECF6\", \"gridcolor\": \"white\", \"gridwidth\": 2, \"linecolor\": \"white\", \"showbackground\": true, \"ticks\": \"\", \"zerolinecolor\": \"white\"}, \"zaxis\": {\"backgroundcolor\": \"#E5ECF6\", \"gridcolor\": \"white\", \"gridwidth\": 2, \"linecolor\": \"white\", \"showbackground\": true, \"ticks\": \"\", \"zerolinecolor\": \"white\"}}, \"shapedefaults\": {\"line\": {\"color\": \"#2a3f5f\"}}, \"ternary\": {\"aaxis\": {\"gridcolor\": \"white\", \"linecolor\": \"white\", \"ticks\": \"\"}, \"baxis\": {\"gridcolor\": \"white\", \"linecolor\": \"white\", \"ticks\": \"\"}, \"bgcolor\": \"#E5ECF6\", \"caxis\": {\"gridcolor\": \"white\", \"linecolor\": \"white\", \"ticks\": \"\"}}, \"title\": {\"x\": 0.05}, \"xaxis\": {\"automargin\": true, \"gridcolor\": \"white\", \"linecolor\": \"white\", \"ticks\": \"\", \"title\": {\"standoff\": 15}, \"zerolinecolor\": \"white\", \"zerolinewidth\": 2}, \"yaxis\": {\"automargin\": true, \"gridcolor\": \"white\", \"linecolor\": \"white\", \"ticks\": \"\", \"title\": {\"standoff\": 15}, \"zerolinecolor\": \"white\", \"zerolinewidth\": 2}}}},\n",
              "                        {\"responsive\": true}\n",
              "                    ).then(function(){\n",
              "                            \n",
              "var gd = document.getElementById('406b134f-f203-4a5c-a9ba-fa54be1f38b8');\n",
              "var x = new MutationObserver(function (mutations, observer) {{\n",
              "        var display = window.getComputedStyle(gd).display;\n",
              "        if (!display || display === 'none') {{\n",
              "            console.log([gd, 'removed!']);\n",
              "            Plotly.purge(gd);\n",
              "            observer.disconnect();\n",
              "        }}\n",
              "}});\n",
              "\n",
              "// Listen for the removal of the full notebook cells\n",
              "var notebookContainer = gd.closest('#notebook-container');\n",
              "if (notebookContainer) {{\n",
              "    x.observe(notebookContainer, {childList: true});\n",
              "}}\n",
              "\n",
              "// Listen for the clearing of the current output cell\n",
              "var outputEl = gd.closest('.output');\n",
              "if (outputEl) {{\n",
              "    x.observe(outputEl, {childList: true});\n",
              "}}\n",
              "\n",
              "                        })\n",
              "                };\n",
              "                \n",
              "            </script>\n",
              "        </div>\n",
              "</body>\n",
              "</html>"
            ]
          },
          "metadata": {
            "tags": []
          },
          "output_type": "display_data"
        }
      ],
      "source": [
        "#Plot Actual vs Predicted Class for Training Dataset\n",
        "actual_chart = go.Scatter(x=actual_encoded_train_labels.index, y=actual_encoded_train_labels.Labels, name= 'Actual Label')\n",
        "predict_chart = go.Scatter(x=actual_encoded_train_labels.index, y=predicted_encoded_train_labels.Labels, name= 'Predicted Label')\n",
        "py.iplot([predict_chart, actual_chart])"
      ]
    },
    {
      "cell_type": "markdown",
      "metadata": {
        "colab_type": "text",
        "id": "ptnmeZHYwQeK"
      },
      "source": [
        "## Test Dataset Prediction"
      ]
    },
    {
      "cell_type": "code",
      "execution_count": null,
      "metadata": {
        "colab": {
          "base_uri": "https://localhost:8080/",
          "height": 238
        },
        "colab_type": "code",
        "id": "vvCnXbCb76uY",
        "outputId": "42fd1896-85b6-45d5-b296-75ed5b4541c8"
      },
      "outputs": [
        {
          "data": {
            "text/plain": [
              "array([[   7.317348  ,   -9.120554  ,    2.1902366 , ...,    3.8448293 ,\n",
              "         -42.040474  ,    0.65763795],\n",
              "       [  22.485693  ,  -35.57192   ,   -6.425402  , ...,  -25.738146  ,\n",
              "        -146.70685   ,   -4.212581  ],\n",
              "       [   4.782423  ,   12.73015   ,  -11.47536   , ...,   -0.26712045,\n",
              "        -101.62277   ,  -14.429132  ],\n",
              "       ...,\n",
              "       [  -6.1959515 ,    1.2509282 ,    0.9866743 , ...,    4.784351  ,\n",
              "          10.857427  ,  -16.681133  ],\n",
              "       [  -6.2437034 ,    1.2409992 ,    0.9721352 , ...,    4.901029  ,\n",
              "          10.7092285 ,  -16.653154  ],\n",
              "       [  -6.386958  ,    1.2112149 ,    0.9285153 , ...,    5.2510605 ,\n",
              "          10.264628  ,  -16.569199  ]], dtype=float32)"
            ]
          },
          "execution_count": 28,
          "metadata": {
            "tags": []
          },
          "output_type": "execute_result"
        }
      ],
      "source": [
        "test_predictions = model.predict(test_dataset)\n",
        "test_predictions"
      ]
    },
    {
      "cell_type": "markdown",
      "metadata": {
        "colab_type": "text",
        "id": "uLNnEVm-yOTk"
      },
      "source": [
        "### Selecting Class with highest confidence"
      ]
    },
    {
      "cell_type": "code",
      "execution_count": null,
      "metadata": {
        "colab": {
          "base_uri": "https://localhost:8080/",
          "height": 34
        },
        "colab_type": "code",
        "id": "ZdUxGacfwQIY",
        "outputId": "2ccfc9ae-0f6c-4464-9e7e-dee68bb8b35f"
      },
      "outputs": [
        {
          "data": {
            "text/plain": [
              "array([5, 5, 7, ..., 9, 9, 9])"
            ]
          },
          "execution_count": 29,
          "metadata": {
            "tags": []
          },
          "output_type": "execute_result"
        }
      ],
      "source": [
        "actual_encoded_test_labels = np.argmax(test_labels.to_numpy(), axis=1) \n",
        "actual_encoded_test_labels"
      ]
    },
    {
      "cell_type": "code",
      "execution_count": null,
      "metadata": {
        "colab": {
          "base_uri": "https://localhost:8080/",
          "height": 34
        },
        "colab_type": "code",
        "id": "z4_B5VxRwr5I",
        "outputId": "371daad9-6785-4fd7-b462-3ec20c6b4bdd"
      },
      "outputs": [
        {
          "data": {
            "text/plain": [
              "array([5, 0, 7, ..., 9, 9, 9])"
            ]
          },
          "execution_count": 30,
          "metadata": {
            "tags": []
          },
          "output_type": "execute_result"
        }
      ],
      "source": [
        "predicted_encoded_test_labels = np.argmax(test_predictions, axis=1)\n",
        "predicted_encoded_test_labels"
      ]
    },
    {
      "cell_type": "markdown",
      "metadata": {
        "colab_type": "text",
        "id": "W7Qbq802yZz8"
      },
      "source": [
        "### Converting numpy array to pandas dataframe"
      ]
    },
    {
      "cell_type": "code",
      "execution_count": null,
      "metadata": {
        "colab": {
          "base_uri": "https://localhost:8080/",
          "height": 419
        },
        "colab_type": "code",
        "id": "eCVMpcP2ydfy",
        "outputId": "902d7745-6452-4a13-a6e4-54f312774028"
      },
      "outputs": [
        {
          "data": {
            "text/html": [
              "<div>\n",
              "<style scoped>\n",
              "    .dataframe tbody tr th:only-of-type {\n",
              "        vertical-align: middle;\n",
              "    }\n",
              "\n",
              "    .dataframe tbody tr th {\n",
              "        vertical-align: top;\n",
              "    }\n",
              "\n",
              "    .dataframe thead th {\n",
              "        text-align: right;\n",
              "    }\n",
              "</style>\n",
              "<table border=\"1\" class=\"dataframe\">\n",
              "  <thead>\n",
              "    <tr style=\"text-align: right;\">\n",
              "      <th></th>\n",
              "      <th>Labels</th>\n",
              "    </tr>\n",
              "  </thead>\n",
              "  <tbody>\n",
              "    <tr>\n",
              "      <th>0</th>\n",
              "      <td>5</td>\n",
              "    </tr>\n",
              "    <tr>\n",
              "      <th>1</th>\n",
              "      <td>5</td>\n",
              "    </tr>\n",
              "    <tr>\n",
              "      <th>2</th>\n",
              "      <td>7</td>\n",
              "    </tr>\n",
              "    <tr>\n",
              "      <th>3</th>\n",
              "      <td>5</td>\n",
              "    </tr>\n",
              "    <tr>\n",
              "      <th>4</th>\n",
              "      <td>1</td>\n",
              "    </tr>\n",
              "    <tr>\n",
              "      <th>...</th>\n",
              "      <td>...</td>\n",
              "    </tr>\n",
              "    <tr>\n",
              "      <th>1005</th>\n",
              "      <td>9</td>\n",
              "    </tr>\n",
              "    <tr>\n",
              "      <th>1006</th>\n",
              "      <td>9</td>\n",
              "    </tr>\n",
              "    <tr>\n",
              "      <th>1007</th>\n",
              "      <td>9</td>\n",
              "    </tr>\n",
              "    <tr>\n",
              "      <th>1008</th>\n",
              "      <td>9</td>\n",
              "    </tr>\n",
              "    <tr>\n",
              "      <th>1009</th>\n",
              "      <td>9</td>\n",
              "    </tr>\n",
              "  </tbody>\n",
              "</table>\n",
              "<p>1010 rows × 1 columns</p>\n",
              "</div>"
            ],
            "text/plain": [
              "      Labels\n",
              "0          5\n",
              "1          5\n",
              "2          7\n",
              "3          5\n",
              "4          1\n",
              "...      ...\n",
              "1005       9\n",
              "1006       9\n",
              "1007       9\n",
              "1008       9\n",
              "1009       9\n",
              "\n",
              "[1010 rows x 1 columns]"
            ]
          },
          "execution_count": 31,
          "metadata": {
            "tags": []
          },
          "output_type": "execute_result"
        }
      ],
      "source": [
        "actual_encoded_test_labels = pd.DataFrame(actual_encoded_test_labels, columns=['Labels'])\n",
        "actual_encoded_test_labels"
      ]
    },
    {
      "cell_type": "code",
      "execution_count": null,
      "metadata": {
        "colab": {
          "base_uri": "https://localhost:8080/",
          "height": 419
        },
        "colab_type": "code",
        "id": "KpVGEWCEyihR",
        "outputId": "8167c440-2123-49b8-ae9a-28ddedc25b07"
      },
      "outputs": [
        {
          "data": {
            "text/html": [
              "<div>\n",
              "<style scoped>\n",
              "    .dataframe tbody tr th:only-of-type {\n",
              "        vertical-align: middle;\n",
              "    }\n",
              "\n",
              "    .dataframe tbody tr th {\n",
              "        vertical-align: top;\n",
              "    }\n",
              "\n",
              "    .dataframe thead th {\n",
              "        text-align: right;\n",
              "    }\n",
              "</style>\n",
              "<table border=\"1\" class=\"dataframe\">\n",
              "  <thead>\n",
              "    <tr style=\"text-align: right;\">\n",
              "      <th></th>\n",
              "      <th>Labels</th>\n",
              "    </tr>\n",
              "  </thead>\n",
              "  <tbody>\n",
              "    <tr>\n",
              "      <th>0</th>\n",
              "      <td>5</td>\n",
              "    </tr>\n",
              "    <tr>\n",
              "      <th>1</th>\n",
              "      <td>0</td>\n",
              "    </tr>\n",
              "    <tr>\n",
              "      <th>2</th>\n",
              "      <td>7</td>\n",
              "    </tr>\n",
              "    <tr>\n",
              "      <th>3</th>\n",
              "      <td>5</td>\n",
              "    </tr>\n",
              "    <tr>\n",
              "      <th>4</th>\n",
              "      <td>1</td>\n",
              "    </tr>\n",
              "    <tr>\n",
              "      <th>...</th>\n",
              "      <td>...</td>\n",
              "    </tr>\n",
              "    <tr>\n",
              "      <th>1005</th>\n",
              "      <td>9</td>\n",
              "    </tr>\n",
              "    <tr>\n",
              "      <th>1006</th>\n",
              "      <td>9</td>\n",
              "    </tr>\n",
              "    <tr>\n",
              "      <th>1007</th>\n",
              "      <td>9</td>\n",
              "    </tr>\n",
              "    <tr>\n",
              "      <th>1008</th>\n",
              "      <td>9</td>\n",
              "    </tr>\n",
              "    <tr>\n",
              "      <th>1009</th>\n",
              "      <td>9</td>\n",
              "    </tr>\n",
              "  </tbody>\n",
              "</table>\n",
              "<p>1010 rows × 1 columns</p>\n",
              "</div>"
            ],
            "text/plain": [
              "      Labels\n",
              "0          5\n",
              "1          0\n",
              "2          7\n",
              "3          5\n",
              "4          1\n",
              "...      ...\n",
              "1005       9\n",
              "1006       9\n",
              "1007       9\n",
              "1008       9\n",
              "1009       9\n",
              "\n",
              "[1010 rows x 1 columns]"
            ]
          },
          "execution_count": 32,
          "metadata": {
            "tags": []
          },
          "output_type": "execute_result"
        }
      ],
      "source": [
        "predicted_encoded_test_labels = pd.DataFrame(predicted_encoded_test_labels, columns=['Labels'])\n",
        "predicted_encoded_test_labels"
      ]
    },
    {
      "cell_type": "markdown",
      "metadata": {
        "colab_type": "text",
        "id": "uUaOU3cG8bC7"
      },
      "source": [
        "### Visualize Prediction for Test Dataset"
      ]
    },
    {
      "cell_type": "code",
      "execution_count": null,
      "metadata": {
        "colab": {
          "base_uri": "https://localhost:8080/",
          "height": 542
        },
        "colab_type": "code",
        "id": "3e2uitKqtNPv",
        "outputId": "54e0114f-2578-4c4c-b88e-4bccf76b2439"
      },
      "outputs": [
        {
          "data": {
            "text/html": [
              "<html>\n",
              "<head><meta charset=\"utf-8\" /></head>\n",
              "<body>\n",
              "    <div>\n",
              "            <script src=\"https://cdnjs.cloudflare.com/ajax/libs/mathjax/2.7.5/MathJax.js?config=TeX-AMS-MML_SVG\"></script><script type=\"text/javascript\">if (window.MathJax) {MathJax.Hub.Config({SVG: {font: \"STIX-Web\"}});}</script>\n",
              "                <script type=\"text/javascript\">window.PlotlyConfig = {MathJaxConfig: 'local'};</script>\n",
              "        <script src=\"https://cdn.plot.ly/plotly-latest.min.js\"></script>    \n",
              "            <div id=\"47752df0-4305-4004-86ea-cb4ecc302b0e\" class=\"plotly-graph-div\" style=\"height:525px; width:100%;\"></div>\n",
              "            <script type=\"text/javascript\">\n",
              "                \n",
              "                    window.PLOTLYENV=window.PLOTLYENV || {};\n",
              "                    \n",
              "                if (document.getElementById(\"47752df0-4305-4004-86ea-cb4ecc302b0e\")) {\n",
              "                    Plotly.newPlot(\n",
              "                        '47752df0-4305-4004-86ea-cb4ecc302b0e',\n",
              "                        [{\"name\": \"Predicted Label\", \"type\": \"scatter\", \"x\": [0, 1, 2, 3, 4, 5, 6, 7, 8, 9, 10, 11, 12, 13, 14, 15, 16, 17, 18, 19, 20, 21, 22, 23, 24, 25, 26, 27, 28, 29, 30, 31, 32, 33, 34, 35, 36, 37, 38, 39, 40, 41, 42, 43, 44, 45, 46, 47, 48, 49, 50, 51, 52, 53, 54, 55, 56, 57, 58, 59, 60, 61, 62, 63, 64, 65, 66, 67, 68, 69, 70, 71, 72, 73, 74, 75, 76, 77, 78, 79, 80, 81, 82, 83, 84, 85, 86, 87, 88, 89, 90, 91, 92, 93, 94, 95, 96, 97, 98, 99, 100, 101, 102, 103, 104, 105, 106, 107, 108, 109, 110, 111, 112, 113, 114, 115, 116, 117, 118, 119, 120, 121, 122, 123, 124, 125, 126, 127, 128, 129, 130, 131, 132, 133, 134, 135, 136, 137, 138, 139, 140, 141, 142, 143, 144, 145, 146, 147, 148, 149, 150, 151, 152, 153, 154, 155, 156, 157, 158, 159, 160, 161, 162, 163, 164, 165, 166, 167, 168, 169, 170, 171, 172, 173, 174, 175, 176, 177, 178, 179, 180, 181, 182, 183, 184, 185, 186, 187, 188, 189, 190, 191, 192, 193, 194, 195, 196, 197, 198, 199, 200, 201, 202, 203, 204, 205, 206, 207, 208, 209, 210, 211, 212, 213, 214, 215, 216, 217, 218, 219, 220, 221, 222, 223, 224, 225, 226, 227, 228, 229, 230, 231, 232, 233, 234, 235, 236, 237, 238, 239, 240, 241, 242, 243, 244, 245, 246, 247, 248, 249, 250, 251, 252, 253, 254, 255, 256, 257, 258, 259, 260, 261, 262, 263, 264, 265, 266, 267, 268, 269, 270, 271, 272, 273, 274, 275, 276, 277, 278, 279, 280, 281, 282, 283, 284, 285, 286, 287, 288, 289, 290, 291, 292, 293, 294, 295, 296, 297, 298, 299, 300, 301, 302, 303, 304, 305, 306, 307, 308, 309, 310, 311, 312, 313, 314, 315, 316, 317, 318, 319, 320, 321, 322, 323, 324, 325, 326, 327, 328, 329, 330, 331, 332, 333, 334, 335, 336, 337, 338, 339, 340, 341, 342, 343, 344, 345, 346, 347, 348, 349, 350, 351, 352, 353, 354, 355, 356, 357, 358, 359, 360, 361, 362, 363, 364, 365, 366, 367, 368, 369, 370, 371, 372, 373, 374, 375, 376, 377, 378, 379, 380, 381, 382, 383, 384, 385, 386, 387, 388, 389, 390, 391, 392, 393, 394, 395, 396, 397, 398, 399, 400, 401, 402, 403, 404, 405, 406, 407, 408, 409, 410, 411, 412, 413, 414, 415, 416, 417, 418, 419, 420, 421, 422, 423, 424, 425, 426, 427, 428, 429, 430, 431, 432, 433, 434, 435, 436, 437, 438, 439, 440, 441, 442, 443, 444, 445, 446, 447, 448, 449, 450, 451, 452, 453, 454, 455, 456, 457, 458, 459, 460, 461, 462, 463, 464, 465, 466, 467, 468, 469, 470, 471, 472, 473, 474, 475, 476, 477, 478, 479, 480, 481, 482, 483, 484, 485, 486, 487, 488, 489, 490, 491, 492, 493, 494, 495, 496, 497, 498, 499, 500, 501, 502, 503, 504, 505, 506, 507, 508, 509, 510, 511, 512, 513, 514, 515, 516, 517, 518, 519, 520, 521, 522, 523, 524, 525, 526, 527, 528, 529, 530, 531, 532, 533, 534, 535, 536, 537, 538, 539, 540, 541, 542, 543, 544, 545, 546, 547, 548, 549, 550, 551, 552, 553, 554, 555, 556, 557, 558, 559, 560, 561, 562, 563, 564, 565, 566, 567, 568, 569, 570, 571, 572, 573, 574, 575, 576, 577, 578, 579, 580, 581, 582, 583, 584, 585, 586, 587, 588, 589, 590, 591, 592, 593, 594, 595, 596, 597, 598, 599, 600, 601, 602, 603, 604, 605, 606, 607, 608, 609, 610, 611, 612, 613, 614, 615, 616, 617, 618, 619, 620, 621, 622, 623, 624, 625, 626, 627, 628, 629, 630, 631, 632, 633, 634, 635, 636, 637, 638, 639, 640, 641, 642, 643, 644, 645, 646, 647, 648, 649, 650, 651, 652, 653, 654, 655, 656, 657, 658, 659, 660, 661, 662, 663, 664, 665, 666, 667, 668, 669, 670, 671, 672, 673, 674, 675, 676, 677, 678, 679, 680, 681, 682, 683, 684, 685, 686, 687, 688, 689, 690, 691, 692, 693, 694, 695, 696, 697, 698, 699, 700, 701, 702, 703, 704, 705, 706, 707, 708, 709, 710, 711, 712, 713, 714, 715, 716, 717, 718, 719, 720, 721, 722, 723, 724, 725, 726, 727, 728, 729, 730, 731, 732, 733, 734, 735, 736, 737, 738, 739, 740, 741, 742, 743, 744, 745, 746, 747, 748, 749, 750, 751, 752, 753, 754, 755, 756, 757, 758, 759, 760, 761, 762, 763, 764, 765, 766, 767, 768, 769, 770, 771, 772, 773, 774, 775, 776, 777, 778, 779, 780, 781, 782, 783, 784, 785, 786, 787, 788, 789, 790, 791, 792, 793, 794, 795, 796, 797, 798, 799, 800, 801, 802, 803, 804, 805, 806, 807, 808, 809, 810, 811, 812, 813, 814, 815, 816, 817, 818, 819, 820, 821, 822, 823, 824, 825, 826, 827, 828, 829, 830, 831, 832, 833, 834, 835, 836, 837, 838, 839, 840, 841, 842, 843, 844, 845, 846, 847, 848, 849, 850, 851, 852, 853, 854, 855, 856, 857, 858, 859, 860, 861, 862, 863, 864, 865, 866, 867, 868, 869, 870, 871, 872, 873, 874, 875, 876, 877, 878, 879, 880, 881, 882, 883, 884, 885, 886, 887, 888, 889, 890, 891, 892, 893, 894, 895, 896, 897, 898, 899, 900, 901, 902, 903, 904, 905, 906, 907, 908, 909, 910, 911, 912, 913, 914, 915, 916, 917, 918, 919, 920, 921, 922, 923, 924, 925, 926, 927, 928, 929, 930, 931, 932, 933, 934, 935, 936, 937, 938, 939, 940, 941, 942, 943, 944, 945, 946, 947, 948, 949, 950, 951, 952, 953, 954, 955, 956, 957, 958, 959, 960, 961, 962, 963, 964, 965, 966, 967, 968, 969, 970, 971, 972, 973, 974, 975, 976, 977, 978, 979, 980, 981, 982, 983, 984, 985, 986, 987, 988, 989, 990, 991, 992, 993, 994, 995, 996, 997, 998, 999, 1000, 1001, 1002, 1003, 1004, 1005, 1006, 1007, 1008, 1009], \"y\": [5, 0, 7, 5, 1, 3, 1, 1, 2, 2, 5, 5, 2, 3, 2, 1, 2, 1, 2, 1, 2, 1, 7, 2, 7, 1, 1, 2, 1, 8, 2, 0, 5, 1, 2, 7, 8, 6, 9, 3, 0, 6, 1, 2, 2, 1, 5, 2, 2, 1, 1, 6, 5, 2, 1, 1, 1, 1, 4, 7, 2, 2, 1, 2, 2, 3, 5, 1, 4, 7, 1, 3, 1, 6, 6, 2, 3, 3, 7, 2, 2, 7, 5, 1, 5, 5, 1, 5, 3, 2, 6, 5, 2, 2, 2, 7, 2, 5, 1, 7, 1, 1, 6, 6, 2, 2, 0, 1, 2, 5, 5, 1, 1, 6, 1, 7, 1, 3, 7, 5, 5, 5, 5, 5, 0, 2, 2, 2, 1, 1, 5, 5, 1, 2, 7, 3, 5, 1, 1, 3, 5, 6, 1, 8, 4, 6, 8, 2, 1, 1, 3, 0, 1, 0, 5, 1, 2, 2, 5, 1, 2, 1, 2, 1, 2, 7, 5, 1, 7, 4, 2, 2, 2, 6, 5, 1, 2, 2, 3, 2, 0, 1, 1, 6, 6, 2, 2, 5, 2, 1, 1, 6, 1, 8, 1, 1, 2, 1, 8, 5, 1, 1, 3, 1, 1, 2, 5, 0, 1, 6, 5, 5, 7, 5, 5, 5, 2, 1, 4, 1, 1, 1, 1, 6, 2, 0, 1, 1, 1, 6, 2, 6, 5, 4, 5, 2, 0, 9, 7, 2, 1, 1, 1, 1, 2, 1, 2, 2, 7, 8, 1, 1, 1, 1, 3, 0, 0, 1, 1, 2, 5, 2, 6, 1, 0, 6, 4, 6, 1, 7, 6, 7, 2, 5, 5, 3, 1, 5, 1, 1, 6, 0, 2, 1, 9, 1, 2, 6, 1, 6, 2, 4, 2, 6, 7, 5, 1, 1, 7, 5, 5, 1, 1, 1, 5, 1, 1, 1, 1, 7, 3, 2, 2, 1, 5, 1, 5, 1, 2, 1, 2, 0, 6, 2, 8, 0, 0, 1, 4, 1, 5, 1, 7, 6, 7, 5, 6, 1, 1, 1, 6, 4, 1, 0, 5, 6, 7, 2, 2, 2, 6, 2, 2, 1, 5, 2, 1, 1, 0, 1, 2, 2, 2, 1, 4, 1, 1, 2, 3, 1, 1, 2, 1, 5, 2, 8, 1, 0, 2, 7, 6, 1, 5, 1, 1, 0, 1, 1, 8, 3, 7, 1, 1, 6, 7, 2, 1, 1, 2, 1, 1, 7, 2, 1, 6, 2, 2, 4, 1, 1, 2, 1, 2, 5, 8, 2, 6, 6, 5, 5, 2, 3, 2, 1, 2, 2, 7, 1, 2, 2, 0, 2, 1, 1, 6, 5, 6, 6, 0, 1, 1, 1, 1, 1, 1, 0, 2, 3, 3, 0, 5, 8, 7, 2, 4, 0, 1, 6, 1, 3, 2, 1, 6, 3, 2, 8, 5, 2, 2, 2, 3, 6, 5, 5, 1, 5, 1, 1, 5, 1, 2, 9, 2, 5, 0, 2, 2, 1, 6, 6, 2, 8, 8, 7, 7, 5, 1, 1, 6, 5, 2, 6, 1, 6, 1, 1, 7, 2, 6, 1, 2, 2, 1, 8, 7, 2, 6, 2, 2, 1, 0, 2, 0, 2, 2, 6, 0, 5, 7, 1, 1, 1, 3, 3, 2, 5, 1, 8, 1, 1, 1, 7, 1, 2, 1, 1, 0, 2, 7, 1, 3, 2, 1, 6, 1, 5, 6, 4, 3, 2, 2, 0, 1, 6, 2, 8, 1, 2, 2, 6, 8, 2, 2, 1, 8, 1, 1, 2, 2, 2, 2, 0, 5, 6, 6, 8, 1, 6, 10, 9, 0, 7, 7, 2, 1, 1, 6, 3, 4, 8, 0, 2, 6, 1, 3, 1, 2, 7, 1, 2, 7, 2, 6, 1, 1, 5, 3, 3, 1, 3, 2, 7, 1, 7, 2, 4, 6, 6, 7, 6, 0, 8, 1, 1, 5, 8, 5, 1, 6, 2, 1, 7, 1, 2, 1, 2, 1, 1, 1, 3, 1, 6, 2, 2, 7, 0, 2, 1, 2, 1, 1, 2, 4, 1, 7, 1, 1, 2, 3, 2, 5, 1, 1, 1, 0, 1, 8, 2, 0, 2, 2, 1, 1, 2, 8, 2, 1, 1, 1, 6, 8, 7, 2, 8, 3, 6, 1, 0, 3, 1, 2, 1, 9, 2, 2, 7, 2, 7, 2, 7, 1, 1, 6, 5, 1, 4, 4, 5, 1, 4, 1, 3, 6, 8, 10, 1, 2, 6, 3, 6, 2, 2, 2, 5, 4, 2, 5, 1, 1, 2, 2, 5, 3, 0, 2, 0, 1, 3, 1, 1, 1, 0, 6, 1, 4, 1, 6, 5, 6, 8, 1, 8, 1, 5, 6, 5, 1, 3, 0, 5, 8, 1, 6, 5, 0, 3, 2, 4, 7, 7, 1, 3, 5, 7, 2, 8, 2, 8, 2, 6, 1, 1, 2, 1, 1, 1, 4, 7, 1, 2, 6, 7, 2, 5, 2, 6, 1, 2, 6, 5, 2, 6, 2, 1, 7, 1, 1, 2, 7, 4, 0, 2, 1, 1, 1, 2, 2, 2, 2, 0, 1, 7, 1, 1, 5, 2, 0, 0, 2, 1, 2, 7, 7, 1, 2, 3, 7, 5, 1, 2, 3, 4, 1, 7, 3, 3, 2, 3, 3, 8, 2, 6, 9, 2, 6, 1, 1, 8, 2, 1, 5, 1, 1, 5, 7, 6, 1, 2, 7, 1, 1, 8, 1, 0, 3, 0, 4, 6, 1, 5, 7, 1, 2, 1, 8, 1, 6, 5, 1, 7, 6, 4, 5, 2, 1, 1, 2, 5, 2, 5, 6, 1, 1, 1, 10, 6, 5, 4, 1, 2, 1, 3, 1, 2, 6, 1, 2, 8, 1, 8, 3, 2, 3, 6, 6, 1, 1, 0, 0, 1, 3, 1, 7, 1, 4, 2, 1, 1, 8, 7, 2, 5, 5, 1, 6, 2, 5, 5, 6, 1, 2, 6, 2, 1, 5, 1, 6, 6, 3, 2, 7, 2, 1, 2, 1, 1, 2, 6, 5, 2, 1, 2, 5, 2, 1, 3, 2, 1, 2, 1, 1, 1, 1, 4, 2, 1, 1, 10, 10, 10, 10, 10, 9, 9, 9, 9, 9, 9, 9, 9]}, {\"name\": \"Actual Label\", \"type\": \"scatter\", \"x\": [0, 1, 2, 3, 4, 5, 6, 7, 8, 9, 10, 11, 12, 13, 14, 15, 16, 17, 18, 19, 20, 21, 22, 23, 24, 25, 26, 27, 28, 29, 30, 31, 32, 33, 34, 35, 36, 37, 38, 39, 40, 41, 42, 43, 44, 45, 46, 47, 48, 49, 50, 51, 52, 53, 54, 55, 56, 57, 58, 59, 60, 61, 62, 63, 64, 65, 66, 67, 68, 69, 70, 71, 72, 73, 74, 75, 76, 77, 78, 79, 80, 81, 82, 83, 84, 85, 86, 87, 88, 89, 90, 91, 92, 93, 94, 95, 96, 97, 98, 99, 100, 101, 102, 103, 104, 105, 106, 107, 108, 109, 110, 111, 112, 113, 114, 115, 116, 117, 118, 119, 120, 121, 122, 123, 124, 125, 126, 127, 128, 129, 130, 131, 132, 133, 134, 135, 136, 137, 138, 139, 140, 141, 142, 143, 144, 145, 146, 147, 148, 149, 150, 151, 152, 153, 154, 155, 156, 157, 158, 159, 160, 161, 162, 163, 164, 165, 166, 167, 168, 169, 170, 171, 172, 173, 174, 175, 176, 177, 178, 179, 180, 181, 182, 183, 184, 185, 186, 187, 188, 189, 190, 191, 192, 193, 194, 195, 196, 197, 198, 199, 200, 201, 202, 203, 204, 205, 206, 207, 208, 209, 210, 211, 212, 213, 214, 215, 216, 217, 218, 219, 220, 221, 222, 223, 224, 225, 226, 227, 228, 229, 230, 231, 232, 233, 234, 235, 236, 237, 238, 239, 240, 241, 242, 243, 244, 245, 246, 247, 248, 249, 250, 251, 252, 253, 254, 255, 256, 257, 258, 259, 260, 261, 262, 263, 264, 265, 266, 267, 268, 269, 270, 271, 272, 273, 274, 275, 276, 277, 278, 279, 280, 281, 282, 283, 284, 285, 286, 287, 288, 289, 290, 291, 292, 293, 294, 295, 296, 297, 298, 299, 300, 301, 302, 303, 304, 305, 306, 307, 308, 309, 310, 311, 312, 313, 314, 315, 316, 317, 318, 319, 320, 321, 322, 323, 324, 325, 326, 327, 328, 329, 330, 331, 332, 333, 334, 335, 336, 337, 338, 339, 340, 341, 342, 343, 344, 345, 346, 347, 348, 349, 350, 351, 352, 353, 354, 355, 356, 357, 358, 359, 360, 361, 362, 363, 364, 365, 366, 367, 368, 369, 370, 371, 372, 373, 374, 375, 376, 377, 378, 379, 380, 381, 382, 383, 384, 385, 386, 387, 388, 389, 390, 391, 392, 393, 394, 395, 396, 397, 398, 399, 400, 401, 402, 403, 404, 405, 406, 407, 408, 409, 410, 411, 412, 413, 414, 415, 416, 417, 418, 419, 420, 421, 422, 423, 424, 425, 426, 427, 428, 429, 430, 431, 432, 433, 434, 435, 436, 437, 438, 439, 440, 441, 442, 443, 444, 445, 446, 447, 448, 449, 450, 451, 452, 453, 454, 455, 456, 457, 458, 459, 460, 461, 462, 463, 464, 465, 466, 467, 468, 469, 470, 471, 472, 473, 474, 475, 476, 477, 478, 479, 480, 481, 482, 483, 484, 485, 486, 487, 488, 489, 490, 491, 492, 493, 494, 495, 496, 497, 498, 499, 500, 501, 502, 503, 504, 505, 506, 507, 508, 509, 510, 511, 512, 513, 514, 515, 516, 517, 518, 519, 520, 521, 522, 523, 524, 525, 526, 527, 528, 529, 530, 531, 532, 533, 534, 535, 536, 537, 538, 539, 540, 541, 542, 543, 544, 545, 546, 547, 548, 549, 550, 551, 552, 553, 554, 555, 556, 557, 558, 559, 560, 561, 562, 563, 564, 565, 566, 567, 568, 569, 570, 571, 572, 573, 574, 575, 576, 577, 578, 579, 580, 581, 582, 583, 584, 585, 586, 587, 588, 589, 590, 591, 592, 593, 594, 595, 596, 597, 598, 599, 600, 601, 602, 603, 604, 605, 606, 607, 608, 609, 610, 611, 612, 613, 614, 615, 616, 617, 618, 619, 620, 621, 622, 623, 624, 625, 626, 627, 628, 629, 630, 631, 632, 633, 634, 635, 636, 637, 638, 639, 640, 641, 642, 643, 644, 645, 646, 647, 648, 649, 650, 651, 652, 653, 654, 655, 656, 657, 658, 659, 660, 661, 662, 663, 664, 665, 666, 667, 668, 669, 670, 671, 672, 673, 674, 675, 676, 677, 678, 679, 680, 681, 682, 683, 684, 685, 686, 687, 688, 689, 690, 691, 692, 693, 694, 695, 696, 697, 698, 699, 700, 701, 702, 703, 704, 705, 706, 707, 708, 709, 710, 711, 712, 713, 714, 715, 716, 717, 718, 719, 720, 721, 722, 723, 724, 725, 726, 727, 728, 729, 730, 731, 732, 733, 734, 735, 736, 737, 738, 739, 740, 741, 742, 743, 744, 745, 746, 747, 748, 749, 750, 751, 752, 753, 754, 755, 756, 757, 758, 759, 760, 761, 762, 763, 764, 765, 766, 767, 768, 769, 770, 771, 772, 773, 774, 775, 776, 777, 778, 779, 780, 781, 782, 783, 784, 785, 786, 787, 788, 789, 790, 791, 792, 793, 794, 795, 796, 797, 798, 799, 800, 801, 802, 803, 804, 805, 806, 807, 808, 809, 810, 811, 812, 813, 814, 815, 816, 817, 818, 819, 820, 821, 822, 823, 824, 825, 826, 827, 828, 829, 830, 831, 832, 833, 834, 835, 836, 837, 838, 839, 840, 841, 842, 843, 844, 845, 846, 847, 848, 849, 850, 851, 852, 853, 854, 855, 856, 857, 858, 859, 860, 861, 862, 863, 864, 865, 866, 867, 868, 869, 870, 871, 872, 873, 874, 875, 876, 877, 878, 879, 880, 881, 882, 883, 884, 885, 886, 887, 888, 889, 890, 891, 892, 893, 894, 895, 896, 897, 898, 899, 900, 901, 902, 903, 904, 905, 906, 907, 908, 909, 910, 911, 912, 913, 914, 915, 916, 917, 918, 919, 920, 921, 922, 923, 924, 925, 926, 927, 928, 929, 930, 931, 932, 933, 934, 935, 936, 937, 938, 939, 940, 941, 942, 943, 944, 945, 946, 947, 948, 949, 950, 951, 952, 953, 954, 955, 956, 957, 958, 959, 960, 961, 962, 963, 964, 965, 966, 967, 968, 969, 970, 971, 972, 973, 974, 975, 976, 977, 978, 979, 980, 981, 982, 983, 984, 985, 986, 987, 988, 989, 990, 991, 992, 993, 994, 995, 996, 997, 998, 999, 1000, 1001, 1002, 1003, 1004, 1005, 1006, 1007, 1008, 1009], \"y\": [5, 5, 7, 5, 1, 3, 1, 1, 2, 2, 5, 5, 2, 3, 2, 1, 2, 1, 2, 1, 2, 1, 5, 2, 7, 1, 1, 2, 1, 8, 2, 5, 5, 1, 2, 7, 1, 6, 6, 3, 5, 6, 1, 2, 2, 1, 5, 2, 2, 1, 1, 6, 5, 2, 1, 1, 1, 1, 4, 7, 2, 2, 1, 8, 6, 7, 5, 1, 7, 8, 1, 3, 1, 6, 6, 2, 7, 3, 5, 2, 2, 7, 5, 1, 5, 5, 1, 5, 1, 2, 6, 5, 2, 2, 2, 4, 2, 5, 1, 1, 1, 1, 6, 6, 2, 1, 0, 1, 2, 5, 5, 1, 1, 6, 1, 7, 1, 3, 7, 5, 1, 5, 5, 0, 0, 2, 2, 2, 1, 1, 5, 5, 1, 2, 7, 3, 5, 1, 1, 4, 5, 6, 1, 6, 4, 5, 8, 2, 2, 1, 4, 0, 1, 0, 6, 1, 2, 2, 6, 1, 2, 1, 2, 1, 2, 7, 5, 1, 8, 4, 2, 2, 2, 6, 5, 1, 2, 2, 3, 2, 7, 1, 1, 5, 5, 2, 2, 5, 2, 1, 1, 6, 1, 8, 1, 1, 2, 1, 8, 5, 1, 1, 3, 1, 1, 2, 5, 0, 1, 6, 5, 5, 7, 5, 5, 5, 2, 1, 4, 1, 1, 1, 1, 6, 2, 0, 1, 1, 1, 6, 2, 2, 5, 4, 5, 2, 0, 9, 7, 2, 1, 1, 1, 1, 2, 1, 2, 2, 7, 8, 1, 1, 1, 1, 1, 0, 0, 1, 1, 2, 5, 2, 6, 1, 0, 6, 4, 6, 1, 7, 6, 7, 2, 5, 5, 3, 1, 5, 1, 1, 6, 7, 2, 1, 9, 1, 2, 6, 1, 6, 2, 4, 2, 6, 7, 5, 1, 1, 7, 5, 6, 1, 1, 1, 6, 1, 1, 1, 1, 7, 3, 2, 2, 1, 5, 1, 6, 1, 2, 1, 2, 0, 6, 2, 1, 0, 0, 1, 4, 1, 5, 1, 7, 6, 7, 0, 6, 1, 1, 1, 6, 4, 1, 0, 6, 6, 7, 2, 2, 2, 6, 2, 2, 1, 5, 2, 1, 1, 0, 1, 2, 2, 2, 1, 4, 1, 1, 2, 8, 1, 1, 2, 1, 5, 2, 8, 1, 0, 2, 7, 6, 1, 5, 1, 1, 0, 1, 1, 8, 3, 7, 1, 1, 6, 7, 2, 3, 1, 2, 1, 1, 7, 2, 1, 6, 2, 2, 4, 1, 1, 2, 1, 2, 5, 8, 2, 6, 6, 5, 5, 2, 3, 2, 1, 2, 1, 7, 1, 6, 2, 0, 2, 1, 1, 2, 5, 6, 6, 0, 1, 1, 1, 1, 1, 1, 0, 2, 3, 3, 0, 5, 7, 7, 2, 4, 0, 1, 6, 1, 3, 2, 1, 6, 3, 2, 8, 5, 2, 1, 2, 3, 6, 5, 5, 1, 5, 1, 1, 5, 1, 2, 9, 2, 5, 0, 2, 1, 1, 6, 6, 1, 8, 8, 7, 7, 5, 1, 1, 6, 5, 2, 6, 8, 6, 1, 1, 7, 1, 6, 1, 2, 1, 1, 8, 6, 2, 6, 2, 2, 1, 0, 2, 0, 2, 2, 2, 0, 5, 7, 1, 1, 1, 3, 3, 2, 5, 1, 2, 1, 1, 1, 0, 1, 2, 1, 1, 0, 2, 0, 1, 3, 2, 3, 6, 1, 5, 6, 4, 3, 2, 2, 0, 1, 6, 2, 7, 1, 2, 2, 6, 10, 2, 2, 1, 8, 1, 1, 2, 2, 2, 2, 0, 5, 6, 6, 8, 1, 6, 10, 9, 0, 3, 7, 2, 1, 1, 6, 3, 4, 8, 0, 2, 6, 1, 3, 3, 2, 6, 2, 2, 7, 2, 6, 1, 1, 5, 3, 3, 1, 3, 2, 5, 1, 4, 2, 4, 6, 6, 7, 6, 0, 8, 1, 1, 5, 8, 5, 1, 6, 2, 1, 4, 1, 2, 1, 2, 1, 1, 1, 3, 1, 6, 2, 6, 7, 0, 2, 1, 2, 1, 1, 2, 4, 1, 7, 1, 1, 2, 3, 2, 5, 1, 1, 1, 0, 1, 8, 2, 0, 2, 6, 1, 1, 2, 5, 2, 1, 1, 7, 6, 8, 7, 2, 8, 3, 6, 1, 0, 3, 1, 2, 1, 9, 2, 2, 8, 2, 8, 2, 4, 1, 1, 6, 5, 1, 4, 4, 5, 1, 4, 1, 3, 8, 8, 10, 1, 2, 6, 3, 6, 2, 2, 2, 5, 4, 2, 6, 1, 2, 2, 6, 5, 3, 7, 2, 5, 1, 3, 1, 1, 1, 0, 5, 1, 4, 1, 6, 6, 6, 8, 1, 8, 1, 5, 2, 5, 1, 3, 0, 6, 8, 1, 6, 5, 0, 3, 2, 3, 7, 7, 1, 3, 5, 7, 2, 8, 2, 8, 2, 6, 1, 1, 2, 1, 1, 1, 4, 7, 1, 2, 2, 7, 2, 5, 2, 8, 1, 2, 6, 5, 2, 6, 2, 1, 7, 1, 1, 2, 7, 4, 0, 2, 1, 1, 1, 2, 2, 2, 2, 4, 3, 7, 1, 1, 5, 2, 0, 4, 2, 1, 2, 7, 7, 3, 2, 3, 7, 5, 1, 6, 3, 4, 1, 4, 3, 3, 2, 3, 3, 8, 2, 6, 1, 2, 6, 2, 1, 8, 2, 1, 5, 1, 1, 5, 7, 6, 1, 2, 7, 1, 1, 8, 1, 5, 3, 5, 4, 6, 1, 5, 7, 1, 2, 1, 8, 1, 6, 5, 1, 7, 2, 3, 5, 2, 1, 1, 2, 5, 8, 5, 6, 1, 1, 1, 10, 6, 5, 4, 1, 6, 1, 3, 1, 2, 2, 1, 2, 8, 1, 10, 3, 2, 3, 6, 6, 1, 1, 4, 0, 1, 3, 1, 7, 1, 7, 2, 1, 1, 1, 4, 2, 5, 6, 3, 2, 2, 5, 5, 6, 1, 2, 6, 2, 1, 5, 1, 6, 6, 3, 2, 7, 6, 1, 2, 1, 1, 2, 6, 5, 2, 1, 2, 5, 2, 1, 3, 2, 1, 2, 1, 1, 1, 1, 4, 2, 1, 1, 10, 10, 10, 10, 10, 9, 9, 9, 9, 9, 9, 9, 9]}],\n",
              "                        {\"template\": {\"data\": {\"bar\": [{\"error_x\": {\"color\": \"#2a3f5f\"}, \"error_y\": {\"color\": \"#2a3f5f\"}, \"marker\": {\"line\": {\"color\": \"#E5ECF6\", \"width\": 0.5}}, \"type\": \"bar\"}], \"barpolar\": [{\"marker\": {\"line\": {\"color\": \"#E5ECF6\", \"width\": 0.5}}, \"type\": \"barpolar\"}], \"carpet\": [{\"aaxis\": {\"endlinecolor\": \"#2a3f5f\", \"gridcolor\": \"white\", \"linecolor\": \"white\", \"minorgridcolor\": \"white\", \"startlinecolor\": \"#2a3f5f\"}, \"baxis\": {\"endlinecolor\": \"#2a3f5f\", \"gridcolor\": \"white\", \"linecolor\": \"white\", \"minorgridcolor\": \"white\", \"startlinecolor\": \"#2a3f5f\"}, \"type\": \"carpet\"}], \"choropleth\": [{\"colorbar\": {\"outlinewidth\": 0, \"ticks\": \"\"}, \"type\": \"choropleth\"}], \"contour\": [{\"colorbar\": {\"outlinewidth\": 0, \"ticks\": \"\"}, \"colorscale\": [[0.0, \"#0d0887\"], [0.1111111111111111, \"#46039f\"], [0.2222222222222222, \"#7201a8\"], [0.3333333333333333, \"#9c179e\"], [0.4444444444444444, \"#bd3786\"], [0.5555555555555556, \"#d8576b\"], [0.6666666666666666, \"#ed7953\"], [0.7777777777777778, \"#fb9f3a\"], [0.8888888888888888, \"#fdca26\"], [1.0, \"#f0f921\"]], \"type\": \"contour\"}], \"contourcarpet\": [{\"colorbar\": {\"outlinewidth\": 0, \"ticks\": \"\"}, \"type\": \"contourcarpet\"}], \"heatmap\": [{\"colorbar\": {\"outlinewidth\": 0, \"ticks\": \"\"}, \"colorscale\": [[0.0, \"#0d0887\"], [0.1111111111111111, \"#46039f\"], [0.2222222222222222, \"#7201a8\"], [0.3333333333333333, \"#9c179e\"], [0.4444444444444444, \"#bd3786\"], [0.5555555555555556, \"#d8576b\"], [0.6666666666666666, \"#ed7953\"], [0.7777777777777778, \"#fb9f3a\"], [0.8888888888888888, \"#fdca26\"], [1.0, \"#f0f921\"]], \"type\": \"heatmap\"}], \"heatmapgl\": [{\"colorbar\": {\"outlinewidth\": 0, \"ticks\": \"\"}, \"colorscale\": [[0.0, \"#0d0887\"], [0.1111111111111111, \"#46039f\"], [0.2222222222222222, \"#7201a8\"], [0.3333333333333333, \"#9c179e\"], [0.4444444444444444, \"#bd3786\"], [0.5555555555555556, \"#d8576b\"], [0.6666666666666666, \"#ed7953\"], [0.7777777777777778, \"#fb9f3a\"], [0.8888888888888888, \"#fdca26\"], [1.0, \"#f0f921\"]], \"type\": \"heatmapgl\"}], \"histogram\": [{\"marker\": {\"colorbar\": {\"outlinewidth\": 0, \"ticks\": \"\"}}, \"type\": \"histogram\"}], \"histogram2d\": [{\"colorbar\": {\"outlinewidth\": 0, \"ticks\": \"\"}, \"colorscale\": [[0.0, \"#0d0887\"], [0.1111111111111111, \"#46039f\"], [0.2222222222222222, \"#7201a8\"], [0.3333333333333333, \"#9c179e\"], [0.4444444444444444, \"#bd3786\"], [0.5555555555555556, \"#d8576b\"], [0.6666666666666666, \"#ed7953\"], [0.7777777777777778, \"#fb9f3a\"], [0.8888888888888888, \"#fdca26\"], [1.0, \"#f0f921\"]], \"type\": \"histogram2d\"}], \"histogram2dcontour\": [{\"colorbar\": {\"outlinewidth\": 0, \"ticks\": \"\"}, \"colorscale\": [[0.0, \"#0d0887\"], [0.1111111111111111, \"#46039f\"], [0.2222222222222222, \"#7201a8\"], [0.3333333333333333, \"#9c179e\"], [0.4444444444444444, \"#bd3786\"], [0.5555555555555556, \"#d8576b\"], [0.6666666666666666, \"#ed7953\"], [0.7777777777777778, \"#fb9f3a\"], [0.8888888888888888, \"#fdca26\"], [1.0, \"#f0f921\"]], \"type\": \"histogram2dcontour\"}], \"mesh3d\": [{\"colorbar\": {\"outlinewidth\": 0, \"ticks\": \"\"}, \"type\": \"mesh3d\"}], \"parcoords\": [{\"line\": {\"colorbar\": {\"outlinewidth\": 0, \"ticks\": \"\"}}, \"type\": \"parcoords\"}], \"pie\": [{\"automargin\": true, \"type\": \"pie\"}], \"scatter\": [{\"marker\": {\"colorbar\": {\"outlinewidth\": 0, \"ticks\": \"\"}}, \"type\": \"scatter\"}], \"scatter3d\": [{\"line\": {\"colorbar\": {\"outlinewidth\": 0, \"ticks\": \"\"}}, \"marker\": {\"colorbar\": {\"outlinewidth\": 0, \"ticks\": \"\"}}, \"type\": \"scatter3d\"}], \"scattercarpet\": [{\"marker\": {\"colorbar\": {\"outlinewidth\": 0, \"ticks\": \"\"}}, \"type\": \"scattercarpet\"}], \"scattergeo\": [{\"marker\": {\"colorbar\": {\"outlinewidth\": 0, \"ticks\": \"\"}}, \"type\": \"scattergeo\"}], \"scattergl\": [{\"marker\": {\"colorbar\": {\"outlinewidth\": 0, \"ticks\": \"\"}}, \"type\": \"scattergl\"}], \"scattermapbox\": [{\"marker\": {\"colorbar\": {\"outlinewidth\": 0, \"ticks\": \"\"}}, \"type\": \"scattermapbox\"}], \"scatterpolar\": [{\"marker\": {\"colorbar\": {\"outlinewidth\": 0, \"ticks\": \"\"}}, \"type\": \"scatterpolar\"}], \"scatterpolargl\": [{\"marker\": {\"colorbar\": {\"outlinewidth\": 0, \"ticks\": \"\"}}, \"type\": \"scatterpolargl\"}], \"scatterternary\": [{\"marker\": {\"colorbar\": {\"outlinewidth\": 0, \"ticks\": \"\"}}, \"type\": \"scatterternary\"}], \"surface\": [{\"colorbar\": {\"outlinewidth\": 0, \"ticks\": \"\"}, \"colorscale\": [[0.0, \"#0d0887\"], [0.1111111111111111, \"#46039f\"], [0.2222222222222222, \"#7201a8\"], [0.3333333333333333, \"#9c179e\"], [0.4444444444444444, \"#bd3786\"], [0.5555555555555556, \"#d8576b\"], [0.6666666666666666, \"#ed7953\"], [0.7777777777777778, \"#fb9f3a\"], [0.8888888888888888, \"#fdca26\"], [1.0, \"#f0f921\"]], \"type\": \"surface\"}], \"table\": [{\"cells\": {\"fill\": {\"color\": \"#EBF0F8\"}, \"line\": {\"color\": \"white\"}}, \"header\": {\"fill\": {\"color\": \"#C8D4E3\"}, \"line\": {\"color\": \"white\"}}, \"type\": \"table\"}]}, \"layout\": {\"annotationdefaults\": {\"arrowcolor\": \"#2a3f5f\", \"arrowhead\": 0, \"arrowwidth\": 1}, \"coloraxis\": {\"colorbar\": {\"outlinewidth\": 0, \"ticks\": \"\"}}, \"colorscale\": {\"diverging\": [[0, \"#8e0152\"], [0.1, \"#c51b7d\"], [0.2, \"#de77ae\"], [0.3, \"#f1b6da\"], [0.4, \"#fde0ef\"], [0.5, \"#f7f7f7\"], [0.6, \"#e6f5d0\"], [0.7, \"#b8e186\"], [0.8, \"#7fbc41\"], [0.9, \"#4d9221\"], [1, \"#276419\"]], \"sequential\": [[0.0, \"#0d0887\"], [0.1111111111111111, \"#46039f\"], [0.2222222222222222, \"#7201a8\"], [0.3333333333333333, \"#9c179e\"], [0.4444444444444444, \"#bd3786\"], [0.5555555555555556, \"#d8576b\"], [0.6666666666666666, \"#ed7953\"], [0.7777777777777778, \"#fb9f3a\"], [0.8888888888888888, \"#fdca26\"], [1.0, \"#f0f921\"]], \"sequentialminus\": [[0.0, \"#0d0887\"], [0.1111111111111111, \"#46039f\"], [0.2222222222222222, \"#7201a8\"], [0.3333333333333333, \"#9c179e\"], [0.4444444444444444, \"#bd3786\"], [0.5555555555555556, \"#d8576b\"], [0.6666666666666666, \"#ed7953\"], [0.7777777777777778, \"#fb9f3a\"], [0.8888888888888888, \"#fdca26\"], [1.0, \"#f0f921\"]]}, \"colorway\": [\"#636efa\", \"#EF553B\", \"#00cc96\", \"#ab63fa\", \"#FFA15A\", \"#19d3f3\", \"#FF6692\", \"#B6E880\", \"#FF97FF\", \"#FECB52\"], \"font\": {\"color\": \"#2a3f5f\"}, \"geo\": {\"bgcolor\": \"white\", \"lakecolor\": \"white\", \"landcolor\": \"#E5ECF6\", \"showlakes\": true, \"showland\": true, \"subunitcolor\": \"white\"}, \"hoverlabel\": {\"align\": \"left\"}, \"hovermode\": \"closest\", \"mapbox\": {\"style\": \"light\"}, \"paper_bgcolor\": \"white\", \"plot_bgcolor\": \"#E5ECF6\", \"polar\": {\"angularaxis\": {\"gridcolor\": \"white\", \"linecolor\": \"white\", \"ticks\": \"\"}, \"bgcolor\": \"#E5ECF6\", \"radialaxis\": {\"gridcolor\": \"white\", \"linecolor\": \"white\", \"ticks\": \"\"}}, \"scene\": {\"xaxis\": {\"backgroundcolor\": \"#E5ECF6\", \"gridcolor\": \"white\", \"gridwidth\": 2, \"linecolor\": \"white\", \"showbackground\": true, \"ticks\": \"\", \"zerolinecolor\": \"white\"}, \"yaxis\": {\"backgroundcolor\": \"#E5ECF6\", \"gridcolor\": \"white\", \"gridwidth\": 2, \"linecolor\": \"white\", \"showbackground\": true, \"ticks\": \"\", \"zerolinecolor\": \"white\"}, \"zaxis\": {\"backgroundcolor\": \"#E5ECF6\", \"gridcolor\": \"white\", \"gridwidth\": 2, \"linecolor\": \"white\", \"showbackground\": true, \"ticks\": \"\", \"zerolinecolor\": \"white\"}}, \"shapedefaults\": {\"line\": {\"color\": \"#2a3f5f\"}}, \"ternary\": {\"aaxis\": {\"gridcolor\": \"white\", \"linecolor\": \"white\", \"ticks\": \"\"}, \"baxis\": {\"gridcolor\": \"white\", \"linecolor\": \"white\", \"ticks\": \"\"}, \"bgcolor\": \"#E5ECF6\", \"caxis\": {\"gridcolor\": \"white\", \"linecolor\": \"white\", \"ticks\": \"\"}}, \"title\": {\"x\": 0.05}, \"xaxis\": {\"automargin\": true, \"gridcolor\": \"white\", \"linecolor\": \"white\", \"ticks\": \"\", \"title\": {\"standoff\": 15}, \"zerolinecolor\": \"white\", \"zerolinewidth\": 2}, \"yaxis\": {\"automargin\": true, \"gridcolor\": \"white\", \"linecolor\": \"white\", \"ticks\": \"\", \"title\": {\"standoff\": 15}, \"zerolinecolor\": \"white\", \"zerolinewidth\": 2}}}},\n",
              "                        {\"responsive\": true}\n",
              "                    ).then(function(){\n",
              "                            \n",
              "var gd = document.getElementById('47752df0-4305-4004-86ea-cb4ecc302b0e');\n",
              "var x = new MutationObserver(function (mutations, observer) {{\n",
              "        var display = window.getComputedStyle(gd).display;\n",
              "        if (!display || display === 'none') {{\n",
              "            console.log([gd, 'removed!']);\n",
              "            Plotly.purge(gd);\n",
              "            observer.disconnect();\n",
              "        }}\n",
              "}});\n",
              "\n",
              "// Listen for the removal of the full notebook cells\n",
              "var notebookContainer = gd.closest('#notebook-container');\n",
              "if (notebookContainer) {{\n",
              "    x.observe(notebookContainer, {childList: true});\n",
              "}}\n",
              "\n",
              "// Listen for the clearing of the current output cell\n",
              "var outputEl = gd.closest('.output');\n",
              "if (outputEl) {{\n",
              "    x.observe(outputEl, {childList: true});\n",
              "}}\n",
              "\n",
              "                        })\n",
              "                };\n",
              "                \n",
              "            </script>\n",
              "        </div>\n",
              "</body>\n",
              "</html>"
            ]
          },
          "metadata": {
            "tags": []
          },
          "output_type": "display_data"
        }
      ],
      "source": [
        "#Plot Actual vs Predicted Class for Test Dataset\n",
        "actual_chart = go.Scatter(x=actual_encoded_test_labels.index, y=actual_encoded_test_labels.Labels, name= 'Actual Label')\n",
        "predict_chart = go.Scatter(x=actual_encoded_test_labels.index, y=predicted_encoded_test_labels.Labels, name= 'Predicted Label')\n",
        "py.iplot([predict_chart, actual_chart])"
      ]
    },
    {
      "cell_type": "markdown",
      "metadata": {
        "colab_type": "text",
        "id": "ltdnj-5aqd-T"
      },
      "source": [
        "# Evaluate Model"
      ]
    },
    {
      "cell_type": "markdown",
      "metadata": {
        "colab_type": "text",
        "id": "rr36MuOiDGfl"
      },
      "source": [
        "## Evaluating for Training Dataset"
      ]
    },
    {
      "cell_type": "code",
      "execution_count": null,
      "metadata": {
        "colab": {
          "base_uri": "https://localhost:8080/",
          "height": 51
        },
        "colab_type": "code",
        "id": "BeOhjJA09glM",
        "outputId": "3abf5add-9b85-41b4-ad53-3fe5d87f34a4"
      },
      "outputs": [
        {
          "name": "stdout",
          "output_type": "stream",
          "text": [
            "127/127 [==============================] - 0s 909us/step - loss: 0.2896 - accuracy: 0.8963\n"
          ]
        },
        {
          "data": {
            "text/plain": [
              "[0.28956136107444763, 0.8963384628295898]"
            ]
          },
          "execution_count": 34,
          "metadata": {
            "tags": []
          },
          "output_type": "execute_result"
        }
      ],
      "source": [
        "model.evaluate(x=train_dataset, y=train_labels)"
      ]
    },
    {
      "cell_type": "code",
      "execution_count": null,
      "metadata": {
        "colab": {
          "base_uri": "https://localhost:8080/",
          "height": 204
        },
        "colab_type": "code",
        "id": "qCeUicIr9Gdt",
        "outputId": "36640c10-e9c8-4191-a684-627d37df0907"
      },
      "outputs": [
        {
          "data": {
            "text/plain": [
              "array([[ 159,    0,    0,    0,    7,   14,    0,   10,    0,    0,    0],\n",
              "       [   0, 1104,   21,   17,    0,    0,    0,    5,    5,    0,    0],\n",
              "       [   0,   30,  825,    0,    0,    0,   25,    0,    7,    1,    0],\n",
              "       [   0,   21,    0,  191,   11,    0,    0,    2,    0,    0,    0],\n",
              "       [  15,    0,    0,    7,  135,    1,    0,    9,    0,    0,    0],\n",
              "       [  13,    0,    0,    0,    0,  400,   50,    7,    1,    0,    1],\n",
              "       [   1,    0,   23,    0,    0,   29,  373,    7,    9,    2,    1],\n",
              "       [   7,    5,    0,    3,    7,    1,    6,  278,    6,    0,    0],\n",
              "       [   0,    7,    9,    0,    0,    0,    5,    4,  108,    0,    0],\n",
              "       [   0,    0,    1,    0,    0,    0,    2,    0,    0,   35,    0],\n",
              "       [   0,    1,    0,    0,    0,    1,    0,    0,    2,    0,   15]])"
            ]
          },
          "execution_count": 35,
          "metadata": {
            "tags": []
          },
          "output_type": "execute_result"
        }
      ],
      "source": [
        "from sklearn.metrics import confusion_matrix, classification_report\n",
        "confusion_matrix_train = confusion_matrix(actual_encoded_train_labels, predicted_encoded_train_labels)\n",
        "confusion_matrix_train"
      ]
    },
    {
      "cell_type": "code",
      "execution_count": null,
      "metadata": {
        "colab": {
          "base_uri": "https://localhost:8080/",
          "height": 700
        },
        "colab_type": "code",
        "id": "4hblh7ObIRO6",
        "outputId": "14847545-4776-46d6-f298-a8bfd34af616"
      },
      "outputs": [
        {
          "data": {
            "image/png": "[encoded data removed]",
            "text/plain": [
              "<Figure size 1152x864 with 2 Axes>"
            ]
          },
          "metadata": {
            "needs_background": "light",
            "tags": []
          },
          "output_type": "display_data"
        }
      ],
      "source": [
        "f,ax = plt.subplots(figsize=(16,12))\n",
        "categories = ['Red', 'Green', 'Blue', 'Yellow', 'Orange', 'Pink', 'Purple', 'Brown', 'Grey', 'Black', 'White']\n",
        "sns.heatmap(confusion_matrix_train, annot=True, cmap='Blues', fmt='d',\n",
        "            xticklabels = categories,\n",
        "            yticklabels = categories)\n",
        "plt.show()"
      ]
    },
    {
      "cell_type": "code",
      "execution_count": null,
      "metadata": {
        "colab": {
          "base_uri": "https://localhost:8080/",
          "height": 323
        },
        "colab_type": "code",
        "id": "-KegEQE-qMDn",
        "outputId": "7879cfba-2610-49fd-df8c-7741b272d391"
      },
      "outputs": [
        {
          "name": "stdout",
          "output_type": "stream",
          "text": [
            "              precision    recall  f1-score   support\n",
            "\n",
            "         Red       0.82      0.84      0.83       190\n",
            "       Green       0.95      0.96      0.95      1152\n",
            "        Blue       0.94      0.93      0.93       888\n",
            "      Yellow       0.88      0.85      0.86       225\n",
            "      Orange       0.84      0.81      0.83       167\n",
            "        Pink       0.90      0.85      0.87       472\n",
            "      Purple       0.81      0.84      0.82       445\n",
            "       Brown       0.86      0.89      0.88       313\n",
            "        Grey       0.78      0.81      0.80       133\n",
            "       Black       0.92      0.92      0.92        38\n",
            "       White       0.88      0.79      0.83        19\n",
            "\n",
            "    accuracy                           0.90      4042\n",
            "   macro avg       0.87      0.86      0.87      4042\n",
            "weighted avg       0.90      0.90      0.90      4042\n",
            "\n"
          ]
        }
      ],
      "source": [
        "#newest model performance report\n",
        "target_names = ['Red', 'Green', 'Blue', 'Yellow', 'Orange', 'Pink', 'Purple', 'Brown', 'Grey', 'Black', 'White']\n",
        "print(classification_report(actual_encoded_train_labels, predicted_encoded_train_labels, target_names=target_names))"
      ]
    },
    {
      "cell_type": "markdown",
      "metadata": {
        "colab_type": "text",
        "id": "XATmZ1i_DQxq"
      },
      "source": [
        "## Evaluating for Test Dataset"
      ]
    },
    {
      "cell_type": "code",
      "execution_count": null,
      "metadata": {
        "colab": {
          "base_uri": "https://localhost:8080/",
          "height": 51
        },
        "colab_type": "code",
        "id": "EFvnm7RHL6ad",
        "outputId": "4a408812-9a03-4b16-824a-f652e4e2f43c"
      },
      "outputs": [
        {
          "name": "stdout",
          "output_type": "stream",
          "text": [
            "32/32 [==============================] - 0s 1ms/step - loss: 0.3706 - accuracy: 0.8911\n"
          ]
        },
        {
          "data": {
            "text/plain": [
              "[0.3705542981624603, 0.8910890817642212]"
            ]
          },
          "execution_count": 38,
          "metadata": {
            "tags": []
          },
          "output_type": "execute_result"
        }
      ],
      "source": [
        "model.evaluate(x=test_dataset, y=test_labels)"
      ]
    },
    {
      "cell_type": "code",
      "execution_count": null,
      "metadata": {
        "colab": {
          "base_uri": "https://localhost:8080/",
          "height": 204
        },
        "colab_type": "code",
        "id": "FDj3e9BtDVRL",
        "outputId": "bfe90ba9-cedb-4744-d5a5-188d295d3497"
      },
      "outputs": [
        {
          "data": {
            "text/plain": [
              "array([[ 42,   0,   0,   0,   0,   2,   0,   2,   0,   0,   0],\n",
              "       [  0, 290,   7,   2,   0,   1,   0,   1,   3,   1,   0],\n",
              "       [  0,   4, 206,   0,   0,   0,   8,   0,   1,   0,   0],\n",
              "       [  0,   6,   0,  51,   2,   0,   0,   1,   0,   0,   0],\n",
              "       [  3,   0,   0,   2,  27,   0,   0,   6,   0,   0,   0],\n",
              "       [  6,   0,   0,   0,   0,  93,   4,   3,   1,   0,   0],\n",
              "       [  0,   0,   8,   0,   0,  10,  86,   2,   1,   1,   0],\n",
              "       [  3,   1,   0,   2,   2,   0,   0,  53,   2,   0,   0],\n",
              "       [  0,   1,   2,   1,   0,   0,   2,   4,  31,   0,   0],\n",
              "       [  0,   0,   0,   0,   0,   0,   0,   0,   0,  13,   0],\n",
              "       [  0,   0,   0,   0,   0,   0,   0,   0,   2,   0,   8]])"
            ]
          },
          "execution_count": 39,
          "metadata": {
            "tags": []
          },
          "output_type": "execute_result"
        }
      ],
      "source": [
        "confusion_matrix_test = confusion_matrix(actual_encoded_test_labels, predicted_encoded_test_labels)\n",
        "confusion_matrix_test"
      ]
    },
    {
      "cell_type": "code",
      "execution_count": null,
      "metadata": {
        "colab": {
          "base_uri": "https://localhost:8080/",
          "height": 700
        },
        "colab_type": "code",
        "id": "pYvJDPo_Lxyf",
        "outputId": "37a9c695-f615-47e5-90ed-60f0cf67cfc2"
      },
      "outputs": [
        {
          "data": {
            "image/png": "[encoded data removed]",
            "text/plain": [
              "<Figure size 1152x864 with 2 Axes>"
            ]
          },
          "metadata": {
            "needs_background": "light",
            "tags": []
          },
          "output_type": "display_data"
        }
      ],
      "source": [
        "f,ax = plt.subplots(figsize=(16,12))\n",
        "categories = ['Red', 'Green', 'Blue', 'Yellow', 'Orange', 'Pink', 'Purple', 'Brown', 'Grey', 'Black', 'White']\n",
        "sns.heatmap(confusion_matrix_test, annot=True, cmap='Blues', fmt='d',\n",
        "            xticklabels = categories,\n",
        "            yticklabels = categories)\n",
        "plt.show()"
      ]
    },
    {
      "cell_type": "code",
      "execution_count": null,
      "metadata": {
        "colab": {
          "base_uri": "https://localhost:8080/",
          "height": 323
        },
        "colab_type": "code",
        "id": "Djz7fi6jqgPY",
        "outputId": "85177654-bf1b-4211-945a-581d1b377479"
      },
      "outputs": [
        {
          "name": "stdout",
          "output_type": "stream",
          "text": [
            "              precision    recall  f1-score   support\n",
            "\n",
            "         Red       0.78      0.91      0.84        46\n",
            "       Green       0.96      0.95      0.96       305\n",
            "        Blue       0.92      0.94      0.93       219\n",
            "      Yellow       0.88      0.85      0.86        60\n",
            "      Orange       0.87      0.71      0.78        38\n",
            "        Pink       0.88      0.87      0.87       107\n",
            "      Purple       0.86      0.80      0.83       108\n",
            "       Brown       0.74      0.84      0.79        63\n",
            "        Grey       0.76      0.76      0.76        41\n",
            "       Black       0.87      1.00      0.93        13\n",
            "       White       1.00      0.80      0.89        10\n",
            "\n",
            "    accuracy                           0.89      1010\n",
            "   macro avg       0.86      0.86      0.86      1010\n",
            "weighted avg       0.89      0.89      0.89      1010\n",
            "\n"
          ]
        }
      ],
      "source": [
        "#newest\n",
        "target_names = ['Red', 'Green', 'Blue', 'Yellow', 'Orange', 'Pink', 'Purple', 'Brown', 'Grey', 'Black', 'White']\n",
        "print(classification_report(actual_encoded_test_labels, predicted_encoded_test_labels, target_names=target_names))"
      ]
    },
    {
      "cell_type": "markdown",
      "metadata": {
        "colab_type": "text",
        "id": "r_nQZ5ckTtz8"
      },
      "source": [
        "# Visualizing Model Architecture"
      ]
    },
    {
      "cell_type": "code",
      "execution_count": null,
      "metadata": {
        "colab": {
          "base_uri": "https://localhost:8080/",
          "height": 207
        },
        "colab_type": "code",
        "id": "c1Lwhcz7RjPk",
        "outputId": "59e2f785-ec4b-4e2b-bbac-04a148b225ba"
      },
      "outputs": [
        {
          "name": "stdout",
          "output_type": "stream",
          "text": [
            "Collecting ann_visualizer\n",
            "  Downloading https://files.pythonhosted.org/packages/db/51/157be500337fba347e32711aaf9f11c1ba9e1162f486a1d708b4ae594ea4/ann_visualizer-2.5.tar.gz\n",
            "Building wheels for collected packages: ann-visualizer\n",
            "  Building wheel for ann-visualizer (setup.py) ... \u001b[?25l\u001b[?25hdone\n",
            "  Created wheel for ann-visualizer: filename=ann_visualizer-2.5-cp36-none-any.whl size=4169 sha256=99c109c17bac0b04959e615d895bb695b89aebe750a07e6e2dc20914d62f07fa\n",
            "  Stored in directory: /root/.cache/pip/wheels/b6/b4/4e/d92f50c9c4f004cf315a0e0fcd455486bd799c50fe80cf1f5d\n",
            "Successfully built ann-visualizer\n",
            "Installing collected packages: ann-visualizer\n",
            "Successfully installed ann-visualizer-2.5\n",
            "Requirement already satisfied: graphviz in /usr/local/lib/python3.6/dist-packages (0.10.1)\n"
          ]
        }
      ],
      "source": [
        "#Libraries to visualize model\n",
        "!pip install ann_visualizer\n",
        "!pip install graphviz"
      ]
    },
    {
      "cell_type": "code",
      "execution_count": null,
      "metadata": {
        "colab": {},
        "colab_type": "code",
        "id": "lin6gRHSPjRU"
      },
      "outputs": [],
      "source": [
        "from ann_visualizer.visualize import ann_viz;\n",
        "model.load_weights(\"colormodel_trained_90.h5\")\n",
        "ann_viz(model, title=\"Artificial Neural network - RGB Color Classifier Model Visualization\")\n",
        "#The result is a file (.pdf) that will be saved in the project directory"
      ]
    }
  ],
  "metadata": {
    "colab": {
      "collapsed_sections": [],
      "name": "Color_Classifier_ML_Model Tuned.ipynb",
      "provenance": []
    },
    "kernelspec": {
      "display_name": "Python 3",
      "name": "python3"
    }
  },
  "nbformat": 4,
  "nbformat_minor": 0
}
